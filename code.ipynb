{
  "nbformat": 4,
  "nbformat_minor": 0,
  "metadata": {
    "colab": {
      "provenance": [],
      "gpuType": "T4",
      "include_colab_link": true
    },
    "kernelspec": {
      "name": "python3",
      "display_name": "Python 3"
    },
    "language_info": {
      "name": "python"
    },
    "accelerator": "GPU"
  },
  "cells": [
    {
      "cell_type": "markdown",
      "metadata": {
        "id": "view-in-github",
        "colab_type": "text"
      },
      "source": [
        "<a href=\"https://colab.research.google.com/github/muhammadrizwan11/Rice-Leafs-Disease-Detection/blob/main/code.ipynb\" target=\"_parent\"><img src=\"https://colab.research.google.com/assets/colab-badge.svg\" alt=\"Open In Colab\"/></a>"
      ]
    },
    {
      "cell_type": "code",
      "source": [
        "# Install the Kaggle API if not already installed\n",
        "!pip install kaggle\n",
        "\n",
        "# Create directory for Kaggle API credentials\n",
        "!mkdir -p ~/.kaggle"
      ],
      "metadata": {
        "id": "Up8jZ2ybrMyl",
        "colab": {
          "base_uri": "https://localhost:8080/"
        },
        "outputId": "061eed0a-f7dc-449b-da7b-3e82d3ec0f9d"
      },
      "execution_count": null,
      "outputs": [
        {
          "output_type": "stream",
          "name": "stdout",
          "text": [
            "Requirement already satisfied: kaggle in /usr/local/lib/python3.11/dist-packages (1.6.17)\n",
            "Requirement already satisfied: six>=1.10 in /usr/local/lib/python3.11/dist-packages (from kaggle) (1.17.0)\n",
            "Requirement already satisfied: certifi>=2023.7.22 in /usr/local/lib/python3.11/dist-packages (from kaggle) (2025.1.31)\n",
            "Requirement already satisfied: python-dateutil in /usr/local/lib/python3.11/dist-packages (from kaggle) (2.8.2)\n",
            "Requirement already satisfied: requests in /usr/local/lib/python3.11/dist-packages (from kaggle) (2.32.3)\n",
            "Requirement already satisfied: tqdm in /usr/local/lib/python3.11/dist-packages (from kaggle) (4.67.1)\n",
            "Requirement already satisfied: python-slugify in /usr/local/lib/python3.11/dist-packages (from kaggle) (8.0.4)\n",
            "Requirement already satisfied: urllib3 in /usr/local/lib/python3.11/dist-packages (from kaggle) (2.3.0)\n",
            "Requirement already satisfied: bleach in /usr/local/lib/python3.11/dist-packages (from kaggle) (6.2.0)\n",
            "Requirement already satisfied: webencodings in /usr/local/lib/python3.11/dist-packages (from bleach->kaggle) (0.5.1)\n",
            "Requirement already satisfied: text-unidecode>=1.3 in /usr/local/lib/python3.11/dist-packages (from python-slugify->kaggle) (1.3)\n",
            "Requirement already satisfied: charset-normalizer<4,>=2 in /usr/local/lib/python3.11/dist-packages (from requests->kaggle) (3.4.1)\n",
            "Requirement already satisfied: idna<4,>=2.5 in /usr/local/lib/python3.11/dist-packages (from requests->kaggle) (3.10)\n"
          ]
        }
      ]
    },
    {
      "cell_type": "code",
      "source": [
        "# Move the kaggle.json file to the right location\n",
        "!cp kaggle.json ~/.kaggle/\n",
        "!chmod 600 ~/.kaggle/kaggle.json"
      ],
      "metadata": {
        "id": "UomTEaiBNlAt"
      },
      "execution_count": null,
      "outputs": []
    },
    {
      "cell_type": "code",
      "source": [
        "# Download the dataset\n",
        "!kaggle datasets download dedeikhsandwisaputra/rice-leafs-disease-dataset\n",
        "\n",
        "# Unzip the downloaded file\n",
        "!unzip rice-leafs-disease-dataset.zip"
      ],
      "metadata": {
        "colab": {
          "base_uri": "https://localhost:8080/"
        },
        "id": "wSi5sjAeNp84",
        "outputId": "834a466c-fd16-433c-b519-5cd6a79aafb4",
        "collapsed": true
      },
      "execution_count": null,
      "outputs": [
        {
          "output_type": "stream",
          "name": "stdout",
          "text": [
            "Dataset URL: https://www.kaggle.com/datasets/dedeikhsandwisaputra/rice-leafs-disease-dataset\n",
            "License(s): unknown\n",
            "Downloading rice-leafs-disease-dataset.zip to /content\n",
            " 99% 292M/294M [00:02<00:00, 108MB/s]\n",
            "100% 294M/294M [00:02<00:00, 121MB/s]\n",
            "Archive:  rice-leafs-disease-dataset.zip\n",
            "  inflating: RiceLeafsDisease/train/bacterial_leaf_blight/bacterial_leaf_blight (1).JPG  \n",
            "  inflating: RiceLeafsDisease/train/bacterial_leaf_blight/bacterial_leaf_blight (10).JPG  \n",
            "  inflating: RiceLeafsDisease/train/bacterial_leaf_blight/bacterial_leaf_blight (100).JPG  \n",
            "  inflating: RiceLeafsDisease/train/bacterial_leaf_blight/bacterial_leaf_blight (101).JPG  \n",
            "  inflating: RiceLeafsDisease/train/bacterial_leaf_blight/bacterial_leaf_blight (102).JPG  \n",
            "  inflating: RiceLeafsDisease/train/bacterial_leaf_blight/bacterial_leaf_blight (103).JPG  \n",
            "  inflating: RiceLeafsDisease/train/bacterial_leaf_blight/bacterial_leaf_blight (104).JPG  \n",
            "  inflating: RiceLeafsDisease/train/bacterial_leaf_blight/bacterial_leaf_blight (105).JPG  \n",
            "  inflating: RiceLeafsDisease/train/bacterial_leaf_blight/bacterial_leaf_blight (106).JPG  \n",
            "  inflating: RiceLeafsDisease/train/bacterial_leaf_blight/bacterial_leaf_blight (107).JPG  \n",
            "  inflating: RiceLeafsDisease/train/bacterial_leaf_blight/bacterial_leaf_blight (108).jpg  \n",
            "  inflating: RiceLeafsDisease/train/bacterial_leaf_blight/bacterial_leaf_blight (109).jpg  \n",
            "  inflating: RiceLeafsDisease/train/bacterial_leaf_blight/bacterial_leaf_blight (11).JPG  \n",
            "  inflating: RiceLeafsDisease/train/bacterial_leaf_blight/bacterial_leaf_blight (110).jpg  \n",
            "  inflating: RiceLeafsDisease/train/bacterial_leaf_blight/bacterial_leaf_blight (111).JPG  \n",
            "  inflating: RiceLeafsDisease/train/bacterial_leaf_blight/bacterial_leaf_blight (112).JPG  \n",
            "  inflating: RiceLeafsDisease/train/bacterial_leaf_blight/bacterial_leaf_blight (113).jpg  \n",
            "  inflating: RiceLeafsDisease/train/bacterial_leaf_blight/bacterial_leaf_blight (114).JPG  \n",
            "  inflating: RiceLeafsDisease/train/bacterial_leaf_blight/bacterial_leaf_blight (115).JPG  \n",
            "  inflating: RiceLeafsDisease/train/bacterial_leaf_blight/bacterial_leaf_blight (116).JPG  \n",
            "  inflating: RiceLeafsDisease/train/bacterial_leaf_blight/bacterial_leaf_blight (117).JPG  \n",
            "  inflating: RiceLeafsDisease/train/bacterial_leaf_blight/bacterial_leaf_blight (118).JPG  \n",
            "  inflating: RiceLeafsDisease/train/bacterial_leaf_blight/bacterial_leaf_blight (119).JPG  \n",
            "  inflating: RiceLeafsDisease/train/bacterial_leaf_blight/bacterial_leaf_blight (12).JPG  \n",
            "  inflating: RiceLeafsDisease/train/bacterial_leaf_blight/bacterial_leaf_blight (120).JPG  \n",
            "  inflating: RiceLeafsDisease/train/bacterial_leaf_blight/bacterial_leaf_blight (121).JPG  \n",
            "  inflating: RiceLeafsDisease/train/bacterial_leaf_blight/bacterial_leaf_blight (122).JPG  \n",
            "  inflating: RiceLeafsDisease/train/bacterial_leaf_blight/bacterial_leaf_blight (123).JPG  \n",
            "  inflating: RiceLeafsDisease/train/bacterial_leaf_blight/bacterial_leaf_blight (124).jpg  \n",
            "  inflating: RiceLeafsDisease/train/bacterial_leaf_blight/bacterial_leaf_blight (125).jpg  \n",
            "  inflating: RiceLeafsDisease/train/bacterial_leaf_blight/bacterial_leaf_blight (126).JPG  \n",
            "  inflating: RiceLeafsDisease/train/bacterial_leaf_blight/bacterial_leaf_blight (127).JPG  \n",
            "  inflating: RiceLeafsDisease/train/bacterial_leaf_blight/bacterial_leaf_blight (128).JPG  \n",
            "  inflating: RiceLeafsDisease/train/bacterial_leaf_blight/bacterial_leaf_blight (129).JPG  \n",
            "  inflating: RiceLeafsDisease/train/bacterial_leaf_blight/bacterial_leaf_blight (13).JPG  \n",
            "  inflating: RiceLeafsDisease/train/bacterial_leaf_blight/bacterial_leaf_blight (130).JPG  \n",
            "  inflating: RiceLeafsDisease/train/bacterial_leaf_blight/bacterial_leaf_blight (131).JPG  \n",
            "  inflating: RiceLeafsDisease/train/bacterial_leaf_blight/bacterial_leaf_blight (132).JPG  \n",
            "  inflating: RiceLeafsDisease/train/bacterial_leaf_blight/bacterial_leaf_blight (133).JPG  \n",
            "  inflating: RiceLeafsDisease/train/bacterial_leaf_blight/bacterial_leaf_blight (134).JPG  \n",
            "  inflating: RiceLeafsDisease/train/bacterial_leaf_blight/bacterial_leaf_blight (135).JPG  \n",
            "  inflating: RiceLeafsDisease/train/bacterial_leaf_blight/bacterial_leaf_blight (136).jpg  \n",
            "  inflating: RiceLeafsDisease/train/bacterial_leaf_blight/bacterial_leaf_blight (137).JPG  \n",
            "  inflating: RiceLeafsDisease/train/bacterial_leaf_blight/bacterial_leaf_blight (138).JPG  \n",
            "  inflating: RiceLeafsDisease/train/bacterial_leaf_blight/bacterial_leaf_blight (139).JPG  \n",
            "  inflating: RiceLeafsDisease/train/bacterial_leaf_blight/bacterial_leaf_blight (14).JPG  \n",
            "  inflating: RiceLeafsDisease/train/bacterial_leaf_blight/bacterial_leaf_blight (140).JPG  \n",
            "  inflating: RiceLeafsDisease/train/bacterial_leaf_blight/bacterial_leaf_blight (141).JPG  \n",
            "  inflating: RiceLeafsDisease/train/bacterial_leaf_blight/bacterial_leaf_blight (142).JPG  \n",
            "  inflating: RiceLeafsDisease/train/bacterial_leaf_blight/bacterial_leaf_blight (143).JPG  \n",
            "  inflating: RiceLeafsDisease/train/bacterial_leaf_blight/bacterial_leaf_blight (144).JPG  \n",
            "  inflating: RiceLeafsDisease/train/bacterial_leaf_blight/bacterial_leaf_blight (145).JPG  \n",
            "  inflating: RiceLeafsDisease/train/bacterial_leaf_blight/bacterial_leaf_blight (146).JPG  \n",
            "  inflating: RiceLeafsDisease/train/bacterial_leaf_blight/bacterial_leaf_blight (147).JPG  \n",
            "  inflating: RiceLeafsDisease/train/bacterial_leaf_blight/bacterial_leaf_blight (148).JPG  \n",
            "  inflating: RiceLeafsDisease/train/bacterial_leaf_blight/bacterial_leaf_blight (149).JPG  \n",
            "  inflating: RiceLeafsDisease/train/bacterial_leaf_blight/bacterial_leaf_blight (15).JPG  \n",
            "  inflating: RiceLeafsDisease/train/bacterial_leaf_blight/bacterial_leaf_blight (150).JPG  \n",
            "  inflating: RiceLeafsDisease/train/bacterial_leaf_blight/bacterial_leaf_blight (151).JPG  \n",
            "  inflating: RiceLeafsDisease/train/bacterial_leaf_blight/bacterial_leaf_blight (152).JPG  \n",
            "  inflating: RiceLeafsDisease/train/bacterial_leaf_blight/bacterial_leaf_blight (153).JPG  \n",
            "  inflating: RiceLeafsDisease/train/bacterial_leaf_blight/bacterial_leaf_blight (154).jpg  \n",
            "  inflating: RiceLeafsDisease/train/bacterial_leaf_blight/bacterial_leaf_blight (155).jpg  \n",
            "  inflating: RiceLeafsDisease/train/bacterial_leaf_blight/bacterial_leaf_blight (156).JPG  \n",
            "  inflating: RiceLeafsDisease/train/bacterial_leaf_blight/bacterial_leaf_blight (157).jpg  \n",
            "  inflating: RiceLeafsDisease/train/bacterial_leaf_blight/bacterial_leaf_blight (158).jpg  \n",
            "  inflating: RiceLeafsDisease/train/bacterial_leaf_blight/bacterial_leaf_blight (159).jpg  \n",
            "  inflating: RiceLeafsDisease/train/bacterial_leaf_blight/bacterial_leaf_blight (16).JPG  \n",
            "  inflating: RiceLeafsDisease/train/bacterial_leaf_blight/bacterial_leaf_blight (160).JPG  \n",
            "  inflating: RiceLeafsDisease/train/bacterial_leaf_blight/bacterial_leaf_blight (161).jpg  \n",
            "  inflating: RiceLeafsDisease/train/bacterial_leaf_blight/bacterial_leaf_blight (162).JPG  \n",
            "  inflating: RiceLeafsDisease/train/bacterial_leaf_blight/bacterial_leaf_blight (163).jpg  \n",
            "  inflating: RiceLeafsDisease/train/bacterial_leaf_blight/bacterial_leaf_blight (164).JPG  \n",
            "  inflating: RiceLeafsDisease/train/bacterial_leaf_blight/bacterial_leaf_blight (165).jpg  \n",
            "  inflating: RiceLeafsDisease/train/bacterial_leaf_blight/bacterial_leaf_blight (166).JPG  \n",
            "  inflating: RiceLeafsDisease/train/bacterial_leaf_blight/bacterial_leaf_blight (167).jpg  \n",
            "  inflating: RiceLeafsDisease/train/bacterial_leaf_blight/bacterial_leaf_blight (168).jpg  \n",
            "  inflating: RiceLeafsDisease/train/bacterial_leaf_blight/bacterial_leaf_blight (169).JPG  \n",
            "  inflating: RiceLeafsDisease/train/bacterial_leaf_blight/bacterial_leaf_blight (17).JPG  \n",
            "  inflating: RiceLeafsDisease/train/bacterial_leaf_blight/bacterial_leaf_blight (170).jpg  \n",
            "  inflating: RiceLeafsDisease/train/bacterial_leaf_blight/bacterial_leaf_blight (171).jpg  \n",
            "  inflating: RiceLeafsDisease/train/bacterial_leaf_blight/bacterial_leaf_blight (172).jpg  \n",
            "  inflating: RiceLeafsDisease/train/bacterial_leaf_blight/bacterial_leaf_blight (173).JPG  \n",
            "  inflating: RiceLeafsDisease/train/bacterial_leaf_blight/bacterial_leaf_blight (174).JPG  \n",
            "  inflating: RiceLeafsDisease/train/bacterial_leaf_blight/bacterial_leaf_blight (175).JPG  \n",
            "  inflating: RiceLeafsDisease/train/bacterial_leaf_blight/bacterial_leaf_blight (176).JPG  \n",
            "  inflating: RiceLeafsDisease/train/bacterial_leaf_blight/bacterial_leaf_blight (177).JPG  \n",
            "  inflating: RiceLeafsDisease/train/bacterial_leaf_blight/bacterial_leaf_blight (178).JPG  \n",
            "  inflating: RiceLeafsDisease/train/bacterial_leaf_blight/bacterial_leaf_blight (179).JPG  \n",
            "  inflating: RiceLeafsDisease/train/bacterial_leaf_blight/bacterial_leaf_blight (18).JPG  \n",
            "  inflating: RiceLeafsDisease/train/bacterial_leaf_blight/bacterial_leaf_blight (180).JPG  \n",
            "  inflating: RiceLeafsDisease/train/bacterial_leaf_blight/bacterial_leaf_blight (181).JPG  \n",
            "  inflating: RiceLeafsDisease/train/bacterial_leaf_blight/bacterial_leaf_blight (182).jpg  \n",
            "  inflating: RiceLeafsDisease/train/bacterial_leaf_blight/bacterial_leaf_blight (183).jpg  \n",
            "  inflating: RiceLeafsDisease/train/bacterial_leaf_blight/bacterial_leaf_blight (184).jpg  \n",
            "  inflating: RiceLeafsDisease/train/bacterial_leaf_blight/bacterial_leaf_blight (185).JPG  \n",
            "  inflating: RiceLeafsDisease/train/bacterial_leaf_blight/bacterial_leaf_blight (186).jpg  \n",
            "  inflating: RiceLeafsDisease/train/bacterial_leaf_blight/bacterial_leaf_blight (187).JPG  \n",
            "  inflating: RiceLeafsDisease/train/bacterial_leaf_blight/bacterial_leaf_blight (188).jpg  \n",
            "  inflating: RiceLeafsDisease/train/bacterial_leaf_blight/bacterial_leaf_blight (189).JPG  \n",
            "  inflating: RiceLeafsDisease/train/bacterial_leaf_blight/bacterial_leaf_blight (19).JPG  \n",
            "  inflating: RiceLeafsDisease/train/bacterial_leaf_blight/bacterial_leaf_blight (190).JPG  \n",
            "  inflating: RiceLeafsDisease/train/bacterial_leaf_blight/bacterial_leaf_blight (191).jpg  \n",
            "  inflating: RiceLeafsDisease/train/bacterial_leaf_blight/bacterial_leaf_blight (192).JPG  \n",
            "  inflating: RiceLeafsDisease/train/bacterial_leaf_blight/bacterial_leaf_blight (193).jpg  \n",
            "  inflating: RiceLeafsDisease/train/bacterial_leaf_blight/bacterial_leaf_blight (194).JPG  \n",
            "  inflating: RiceLeafsDisease/train/bacterial_leaf_blight/bacterial_leaf_blight (195).jpg  \n",
            "  inflating: RiceLeafsDisease/train/bacterial_leaf_blight/bacterial_leaf_blight (196).jpg  \n",
            "  inflating: RiceLeafsDisease/train/bacterial_leaf_blight/bacterial_leaf_blight (197).jpg  \n",
            "  inflating: RiceLeafsDisease/train/bacterial_leaf_blight/bacterial_leaf_blight (198).JPG  \n",
            "  inflating: RiceLeafsDisease/train/bacterial_leaf_blight/bacterial_leaf_blight (199).jpg  \n",
            "  inflating: RiceLeafsDisease/train/bacterial_leaf_blight/bacterial_leaf_blight (2).JPG  \n",
            "  inflating: RiceLeafsDisease/train/bacterial_leaf_blight/bacterial_leaf_blight (20).JPG  \n",
            "  inflating: RiceLeafsDisease/train/bacterial_leaf_blight/bacterial_leaf_blight (200).JPG  \n",
            "  inflating: RiceLeafsDisease/train/bacterial_leaf_blight/bacterial_leaf_blight (201).JPG  \n",
            "  inflating: RiceLeafsDisease/train/bacterial_leaf_blight/bacterial_leaf_blight (202).JPG  \n",
            "  inflating: RiceLeafsDisease/train/bacterial_leaf_blight/bacterial_leaf_blight (203).JPG  \n",
            "  inflating: RiceLeafsDisease/train/bacterial_leaf_blight/bacterial_leaf_blight (204).JPG  \n",
            "  inflating: RiceLeafsDisease/train/bacterial_leaf_blight/bacterial_leaf_blight (205).JPG  \n",
            "  inflating: RiceLeafsDisease/train/bacterial_leaf_blight/bacterial_leaf_blight (206).JPG  \n",
            "  inflating: RiceLeafsDisease/train/bacterial_leaf_blight/bacterial_leaf_blight (207).JPG  \n",
            "  inflating: RiceLeafsDisease/train/bacterial_leaf_blight/bacterial_leaf_blight (208).jpg  \n",
            "  inflating: RiceLeafsDisease/train/bacterial_leaf_blight/bacterial_leaf_blight (209).JPG  \n",
            "  inflating: RiceLeafsDisease/train/bacterial_leaf_blight/bacterial_leaf_blight (21).JPG  \n",
            "  inflating: RiceLeafsDisease/train/bacterial_leaf_blight/bacterial_leaf_blight (210).jpg  \n",
            "  inflating: RiceLeafsDisease/train/bacterial_leaf_blight/bacterial_leaf_blight (211).JPG  \n",
            "  inflating: RiceLeafsDisease/train/bacterial_leaf_blight/bacterial_leaf_blight (212).jpg  \n",
            "  inflating: RiceLeafsDisease/train/bacterial_leaf_blight/bacterial_leaf_blight (213).JPG  \n",
            "  inflating: RiceLeafsDisease/train/bacterial_leaf_blight/bacterial_leaf_blight (214).JPG  \n",
            "  inflating: RiceLeafsDisease/train/bacterial_leaf_blight/bacterial_leaf_blight (215).JPG  \n",
            "  inflating: RiceLeafsDisease/train/bacterial_leaf_blight/bacterial_leaf_blight (216).JPG  \n",
            "  inflating: RiceLeafsDisease/train/bacterial_leaf_blight/bacterial_leaf_blight (217).JPG  \n",
            "  inflating: RiceLeafsDisease/train/bacterial_leaf_blight/bacterial_leaf_blight (218).JPG  \n",
            "  inflating: RiceLeafsDisease/train/bacterial_leaf_blight/bacterial_leaf_blight (219).JPG  \n",
            "  inflating: RiceLeafsDisease/train/bacterial_leaf_blight/bacterial_leaf_blight (22).JPG  \n",
            "  inflating: RiceLeafsDisease/train/bacterial_leaf_blight/bacterial_leaf_blight (220).jpg  \n",
            "  inflating: RiceLeafsDisease/train/bacterial_leaf_blight/bacterial_leaf_blight (221).JPG  \n",
            "  inflating: RiceLeafsDisease/train/bacterial_leaf_blight/bacterial_leaf_blight (222).JPG  \n",
            "  inflating: RiceLeafsDisease/train/bacterial_leaf_blight/bacterial_leaf_blight (223).jpg  \n",
            "  inflating: RiceLeafsDisease/train/bacterial_leaf_blight/bacterial_leaf_blight (224).jpg  \n",
            "  inflating: RiceLeafsDisease/train/bacterial_leaf_blight/bacterial_leaf_blight (225).JPG  \n",
            "  inflating: RiceLeafsDisease/train/bacterial_leaf_blight/bacterial_leaf_blight (226).jpg  \n",
            "  inflating: RiceLeafsDisease/train/bacterial_leaf_blight/bacterial_leaf_blight (227).jpg  \n",
            "  inflating: RiceLeafsDisease/train/bacterial_leaf_blight/bacterial_leaf_blight (228).JPG  \n",
            "  inflating: RiceLeafsDisease/train/bacterial_leaf_blight/bacterial_leaf_blight (229).JPG  \n",
            "  inflating: RiceLeafsDisease/train/bacterial_leaf_blight/bacterial_leaf_blight (23).JPG  \n",
            "  inflating: RiceLeafsDisease/train/bacterial_leaf_blight/bacterial_leaf_blight (230).JPG  \n",
            "  inflating: RiceLeafsDisease/train/bacterial_leaf_blight/bacterial_leaf_blight (231).JPG  \n",
            "  inflating: RiceLeafsDisease/train/bacterial_leaf_blight/bacterial_leaf_blight (232).JPG  \n",
            "  inflating: RiceLeafsDisease/train/bacterial_leaf_blight/bacterial_leaf_blight (233).JPG  \n",
            "  inflating: RiceLeafsDisease/train/bacterial_leaf_blight/bacterial_leaf_blight (234).JPG  \n",
            "  inflating: RiceLeafsDisease/train/bacterial_leaf_blight/bacterial_leaf_blight (235).JPG  \n",
            "  inflating: RiceLeafsDisease/train/bacterial_leaf_blight/bacterial_leaf_blight (236).JPG  \n",
            "  inflating: RiceLeafsDisease/train/bacterial_leaf_blight/bacterial_leaf_blight (237).JPG  \n",
            "  inflating: RiceLeafsDisease/train/bacterial_leaf_blight/bacterial_leaf_blight (238).JPG  \n",
            "  inflating: RiceLeafsDisease/train/bacterial_leaf_blight/bacterial_leaf_blight (239).JPG  \n",
            "  inflating: RiceLeafsDisease/train/bacterial_leaf_blight/bacterial_leaf_blight (24).jpg  \n",
            "  inflating: RiceLeafsDisease/train/bacterial_leaf_blight/bacterial_leaf_blight (240).JPG  \n",
            "  inflating: RiceLeafsDisease/train/bacterial_leaf_blight/bacterial_leaf_blight (241).JPG  \n",
            "  inflating: RiceLeafsDisease/train/bacterial_leaf_blight/bacterial_leaf_blight (242).JPG  \n",
            "  inflating: RiceLeafsDisease/train/bacterial_leaf_blight/bacterial_leaf_blight (243).JPG  \n",
            "  inflating: RiceLeafsDisease/train/bacterial_leaf_blight/bacterial_leaf_blight (244).JPG  \n",
            "  inflating: RiceLeafsDisease/train/bacterial_leaf_blight/bacterial_leaf_blight (245).JPG  \n",
            "  inflating: RiceLeafsDisease/train/bacterial_leaf_blight/bacterial_leaf_blight (246).JPG  \n",
            "  inflating: RiceLeafsDisease/train/bacterial_leaf_blight/bacterial_leaf_blight (247).JPG  \n",
            "  inflating: RiceLeafsDisease/train/bacterial_leaf_blight/bacterial_leaf_blight (248).JPG  \n",
            "  inflating: RiceLeafsDisease/train/bacterial_leaf_blight/bacterial_leaf_blight (249).JPG  \n",
            "  inflating: RiceLeafsDisease/train/bacterial_leaf_blight/bacterial_leaf_blight (25).JPG  \n",
            "  inflating: RiceLeafsDisease/train/bacterial_leaf_blight/bacterial_leaf_blight (250).JPG  \n",
            "  inflating: RiceLeafsDisease/train/bacterial_leaf_blight/bacterial_leaf_blight (251).JPG  \n",
            "  inflating: RiceLeafsDisease/train/bacterial_leaf_blight/bacterial_leaf_blight (252).JPG  \n",
            "  inflating: RiceLeafsDisease/train/bacterial_leaf_blight/bacterial_leaf_blight (253).JPG  \n",
            "  inflating: RiceLeafsDisease/train/bacterial_leaf_blight/bacterial_leaf_blight (254).JPG  \n",
            "  inflating: RiceLeafsDisease/train/bacterial_leaf_blight/bacterial_leaf_blight (255).JPG  \n",
            "  inflating: RiceLeafsDisease/train/bacterial_leaf_blight/bacterial_leaf_blight (256).JPG  \n",
            "  inflating: RiceLeafsDisease/train/bacterial_leaf_blight/bacterial_leaf_blight (257).JPG  \n",
            "  inflating: RiceLeafsDisease/train/bacterial_leaf_blight/bacterial_leaf_blight (258).JPG  \n",
            "  inflating: RiceLeafsDisease/train/bacterial_leaf_blight/bacterial_leaf_blight (259).JPG  \n",
            "  inflating: RiceLeafsDisease/train/bacterial_leaf_blight/bacterial_leaf_blight (26).JPG  \n",
            "  inflating: RiceLeafsDisease/train/bacterial_leaf_blight/bacterial_leaf_blight (260).JPG  \n",
            "  inflating: RiceLeafsDisease/train/bacterial_leaf_blight/bacterial_leaf_blight (261).JPG  \n",
            "  inflating: RiceLeafsDisease/train/bacterial_leaf_blight/bacterial_leaf_blight (262).JPG  \n",
            "  inflating: RiceLeafsDisease/train/bacterial_leaf_blight/bacterial_leaf_blight (263).JPG  \n",
            "  inflating: RiceLeafsDisease/train/bacterial_leaf_blight/bacterial_leaf_blight (264).JPG  \n",
            "  inflating: RiceLeafsDisease/train/bacterial_leaf_blight/bacterial_leaf_blight (265).JPG  \n",
            "  inflating: RiceLeafsDisease/train/bacterial_leaf_blight/bacterial_leaf_blight (266).JPG  \n",
            "  inflating: RiceLeafsDisease/train/bacterial_leaf_blight/bacterial_leaf_blight (267).JPG  \n",
            "  inflating: RiceLeafsDisease/train/bacterial_leaf_blight/bacterial_leaf_blight (268).JPG  \n",
            "  inflating: RiceLeafsDisease/train/bacterial_leaf_blight/bacterial_leaf_blight (269).JPG  \n",
            "  inflating: RiceLeafsDisease/train/bacterial_leaf_blight/bacterial_leaf_blight (27).JPG  \n",
            "  inflating: RiceLeafsDisease/train/bacterial_leaf_blight/bacterial_leaf_blight (270).JPG  \n",
            "  inflating: RiceLeafsDisease/train/bacterial_leaf_blight/bacterial_leaf_blight (271).jpg  \n",
            "  inflating: RiceLeafsDisease/train/bacterial_leaf_blight/bacterial_leaf_blight (272).JPG  \n",
            "  inflating: RiceLeafsDisease/train/bacterial_leaf_blight/bacterial_leaf_blight (273).JPG  \n",
            "  inflating: RiceLeafsDisease/train/bacterial_leaf_blight/bacterial_leaf_blight (274).JPG  \n",
            "  inflating: RiceLeafsDisease/train/bacterial_leaf_blight/bacterial_leaf_blight (275).JPG  \n",
            "  inflating: RiceLeafsDisease/train/bacterial_leaf_blight/bacterial_leaf_blight (276).JPG  \n",
            "  inflating: RiceLeafsDisease/train/bacterial_leaf_blight/bacterial_leaf_blight (277).JPG  \n",
            "  inflating: RiceLeafsDisease/train/bacterial_leaf_blight/bacterial_leaf_blight (278).JPG  \n",
            "  inflating: RiceLeafsDisease/train/bacterial_leaf_blight/bacterial_leaf_blight (279).JPG  \n",
            "  inflating: RiceLeafsDisease/train/bacterial_leaf_blight/bacterial_leaf_blight (28).JPG  \n",
            "  inflating: RiceLeafsDisease/train/bacterial_leaf_blight/bacterial_leaf_blight (280).jpg  \n",
            "  inflating: RiceLeafsDisease/train/bacterial_leaf_blight/bacterial_leaf_blight (281).JPG  \n",
            "  inflating: RiceLeafsDisease/train/bacterial_leaf_blight/bacterial_leaf_blight (282).JPG  \n",
            "  inflating: RiceLeafsDisease/train/bacterial_leaf_blight/bacterial_leaf_blight (283).JPG  \n",
            "  inflating: RiceLeafsDisease/train/bacterial_leaf_blight/bacterial_leaf_blight (284).JPG  \n",
            "  inflating: RiceLeafsDisease/train/bacterial_leaf_blight/bacterial_leaf_blight (285).JPG  \n",
            "  inflating: RiceLeafsDisease/train/bacterial_leaf_blight/bacterial_leaf_blight (286).JPG  \n",
            "  inflating: RiceLeafsDisease/train/bacterial_leaf_blight/bacterial_leaf_blight (287).JPG  \n",
            "  inflating: RiceLeafsDisease/train/bacterial_leaf_blight/bacterial_leaf_blight (288).JPG  \n",
            "  inflating: RiceLeafsDisease/train/bacterial_leaf_blight/bacterial_leaf_blight (289).JPG  \n",
            "  inflating: RiceLeafsDisease/train/bacterial_leaf_blight/bacterial_leaf_blight (29).JPG  \n",
            "  inflating: RiceLeafsDisease/train/bacterial_leaf_blight/bacterial_leaf_blight (290).JPG  \n",
            "  inflating: RiceLeafsDisease/train/bacterial_leaf_blight/bacterial_leaf_blight (291).JPG  \n",
            "  inflating: RiceLeafsDisease/train/bacterial_leaf_blight/bacterial_leaf_blight (292).jpg  \n",
            "  inflating: RiceLeafsDisease/train/bacterial_leaf_blight/bacterial_leaf_blight (293).JPG  \n",
            "  inflating: RiceLeafsDisease/train/bacterial_leaf_blight/bacterial_leaf_blight (294).JPG  \n",
            "  inflating: RiceLeafsDisease/train/bacterial_leaf_blight/bacterial_leaf_blight (295).JPG  \n",
            "  inflating: RiceLeafsDisease/train/bacterial_leaf_blight/bacterial_leaf_blight (296).JPG  \n",
            "  inflating: RiceLeafsDisease/train/bacterial_leaf_blight/bacterial_leaf_blight (297).JPG  \n",
            "  inflating: RiceLeafsDisease/train/bacterial_leaf_blight/bacterial_leaf_blight (298).JPG  \n",
            "  inflating: RiceLeafsDisease/train/bacterial_leaf_blight/bacterial_leaf_blight (299).jpg  \n",
            "  inflating: RiceLeafsDisease/train/bacterial_leaf_blight/bacterial_leaf_blight (3).JPG  \n",
            "  inflating: RiceLeafsDisease/train/bacterial_leaf_blight/bacterial_leaf_blight (30).JPG  \n",
            "  inflating: RiceLeafsDisease/train/bacterial_leaf_blight/bacterial_leaf_blight (300).JPG  \n",
            "  inflating: RiceLeafsDisease/train/bacterial_leaf_blight/bacterial_leaf_blight (301).JPG  \n",
            "  inflating: RiceLeafsDisease/train/bacterial_leaf_blight/bacterial_leaf_blight (302).jpg  \n",
            "  inflating: RiceLeafsDisease/train/bacterial_leaf_blight/bacterial_leaf_blight (303).jpg  \n",
            "  inflating: RiceLeafsDisease/train/bacterial_leaf_blight/bacterial_leaf_blight (304).jpg  \n",
            "  inflating: RiceLeafsDisease/train/bacterial_leaf_blight/bacterial_leaf_blight (305).JPG  \n",
            "  inflating: RiceLeafsDisease/train/bacterial_leaf_blight/bacterial_leaf_blight (306).JPG  \n",
            "  inflating: RiceLeafsDisease/train/bacterial_leaf_blight/bacterial_leaf_blight (307).JPG  \n",
            "  inflating: RiceLeafsDisease/train/bacterial_leaf_blight/bacterial_leaf_blight (308).JPG  \n",
            "  inflating: RiceLeafsDisease/train/bacterial_leaf_blight/bacterial_leaf_blight (309).JPG  \n",
            "  inflating: RiceLeafsDisease/train/bacterial_leaf_blight/bacterial_leaf_blight (31).JPG  \n",
            "  inflating: RiceLeafsDisease/train/bacterial_leaf_blight/bacterial_leaf_blight (310).JPG  \n",
            "  inflating: RiceLeafsDisease/train/bacterial_leaf_blight/bacterial_leaf_blight (311).JPG  \n",
            "  inflating: RiceLeafsDisease/train/bacterial_leaf_blight/bacterial_leaf_blight (312).JPG  \n",
            "  inflating: RiceLeafsDisease/train/bacterial_leaf_blight/bacterial_leaf_blight (313).JPG  \n",
            "  inflating: RiceLeafsDisease/train/bacterial_leaf_blight/bacterial_leaf_blight (314).JPG  \n",
            "  inflating: RiceLeafsDisease/train/bacterial_leaf_blight/bacterial_leaf_blight (315).JPG  \n",
            "  inflating: RiceLeafsDisease/train/bacterial_leaf_blight/bacterial_leaf_blight (316).JPG  \n",
            "  inflating: RiceLeafsDisease/train/bacterial_leaf_blight/bacterial_leaf_blight (317).JPG  \n",
            "  inflating: RiceLeafsDisease/train/bacterial_leaf_blight/bacterial_leaf_blight (318).JPG  \n",
            "  inflating: RiceLeafsDisease/train/bacterial_leaf_blight/bacterial_leaf_blight (319).JPG  \n",
            "  inflating: RiceLeafsDisease/train/bacterial_leaf_blight/bacterial_leaf_blight (32).JPG  \n",
            "  inflating: RiceLeafsDisease/train/bacterial_leaf_blight/bacterial_leaf_blight (320).JPG  \n",
            "  inflating: RiceLeafsDisease/train/bacterial_leaf_blight/bacterial_leaf_blight (321).JPG  \n",
            "  inflating: RiceLeafsDisease/train/bacterial_leaf_blight/bacterial_leaf_blight (322).JPG  \n",
            "  inflating: RiceLeafsDisease/train/bacterial_leaf_blight/bacterial_leaf_blight (323).JPG  \n",
            "  inflating: RiceLeafsDisease/train/bacterial_leaf_blight/bacterial_leaf_blight (324).JPG  \n",
            "  inflating: RiceLeafsDisease/train/bacterial_leaf_blight/bacterial_leaf_blight (325).JPG  \n",
            "  inflating: RiceLeafsDisease/train/bacterial_leaf_blight/bacterial_leaf_blight (326).JPG  \n",
            "  inflating: RiceLeafsDisease/train/bacterial_leaf_blight/bacterial_leaf_blight (327).JPG  \n",
            "  inflating: RiceLeafsDisease/train/bacterial_leaf_blight/bacterial_leaf_blight (328).JPG  \n",
            "  inflating: RiceLeafsDisease/train/bacterial_leaf_blight/bacterial_leaf_blight (329).JPG  \n",
            "  inflating: RiceLeafsDisease/train/bacterial_leaf_blight/bacterial_leaf_blight (33).jpg  \n",
            "  inflating: RiceLeafsDisease/train/bacterial_leaf_blight/bacterial_leaf_blight (330).JPG  \n",
            "  inflating: RiceLeafsDisease/train/bacterial_leaf_blight/bacterial_leaf_blight (331).JPG  \n",
            "  inflating: RiceLeafsDisease/train/bacterial_leaf_blight/bacterial_leaf_blight (332).jpg  \n",
            "  inflating: RiceLeafsDisease/train/bacterial_leaf_blight/bacterial_leaf_blight (333).JPG  \n",
            "  inflating: RiceLeafsDisease/train/bacterial_leaf_blight/bacterial_leaf_blight (334).jpg  \n",
            "  inflating: RiceLeafsDisease/train/bacterial_leaf_blight/bacterial_leaf_blight (335).JPG  \n",
            "  inflating: RiceLeafsDisease/train/bacterial_leaf_blight/bacterial_leaf_blight (336).jpg  \n",
            "  inflating: RiceLeafsDisease/train/bacterial_leaf_blight/bacterial_leaf_blight (337).jpg  \n",
            "  inflating: RiceLeafsDisease/train/bacterial_leaf_blight/bacterial_leaf_blight (338).JPG  \n",
            "  inflating: RiceLeafsDisease/train/bacterial_leaf_blight/bacterial_leaf_blight (339).JPG  \n",
            "  inflating: RiceLeafsDisease/train/bacterial_leaf_blight/bacterial_leaf_blight (34).jpg  \n",
            "  inflating: RiceLeafsDisease/train/bacterial_leaf_blight/bacterial_leaf_blight (340).JPG  \n",
            "  inflating: RiceLeafsDisease/train/bacterial_leaf_blight/bacterial_leaf_blight (341).JPG  \n",
            "  inflating: RiceLeafsDisease/train/bacterial_leaf_blight/bacterial_leaf_blight (342).JPG  \n",
            "  inflating: RiceLeafsDisease/train/bacterial_leaf_blight/bacterial_leaf_blight (343).JPG  \n",
            "  inflating: RiceLeafsDisease/train/bacterial_leaf_blight/bacterial_leaf_blight (344).JPG  \n",
            "  inflating: RiceLeafsDisease/train/bacterial_leaf_blight/bacterial_leaf_blight (345).JPG  \n",
            "  inflating: RiceLeafsDisease/train/bacterial_leaf_blight/bacterial_leaf_blight (346).JPG  \n",
            "  inflating: RiceLeafsDisease/train/bacterial_leaf_blight/bacterial_leaf_blight (347).JPG  \n",
            "  inflating: RiceLeafsDisease/train/bacterial_leaf_blight/bacterial_leaf_blight (348).JPG  \n",
            "  inflating: RiceLeafsDisease/train/bacterial_leaf_blight/bacterial_leaf_blight (349).JPG  \n",
            "  inflating: RiceLeafsDisease/train/bacterial_leaf_blight/bacterial_leaf_blight (35).JPG  \n",
            "  inflating: RiceLeafsDisease/train/bacterial_leaf_blight/bacterial_leaf_blight (350).JPG  \n",
            "  inflating: RiceLeafsDisease/train/bacterial_leaf_blight/bacterial_leaf_blight (36).JPG  \n",
            "  inflating: RiceLeafsDisease/train/bacterial_leaf_blight/bacterial_leaf_blight (37).JPG  \n",
            "  inflating: RiceLeafsDisease/train/bacterial_leaf_blight/bacterial_leaf_blight (38).JPG  \n",
            "  inflating: RiceLeafsDisease/train/bacterial_leaf_blight/bacterial_leaf_blight (39).JPG  \n",
            "  inflating: RiceLeafsDisease/train/bacterial_leaf_blight/bacterial_leaf_blight (4).JPG  \n",
            "  inflating: RiceLeafsDisease/train/bacterial_leaf_blight/bacterial_leaf_blight (40).JPG  \n",
            "  inflating: RiceLeafsDisease/train/bacterial_leaf_blight/bacterial_leaf_blight (41).JPG  \n",
            "  inflating: RiceLeafsDisease/train/bacterial_leaf_blight/bacterial_leaf_blight (42).JPG  \n",
            "  inflating: RiceLeafsDisease/train/bacterial_leaf_blight/bacterial_leaf_blight (43).JPG  \n",
            "  inflating: RiceLeafsDisease/train/bacterial_leaf_blight/bacterial_leaf_blight (44).JPG  \n",
            "  inflating: RiceLeafsDisease/train/bacterial_leaf_blight/bacterial_leaf_blight (45).JPG  \n",
            "  inflating: RiceLeafsDisease/train/bacterial_leaf_blight/bacterial_leaf_blight (46).JPG  \n",
            "  inflating: RiceLeafsDisease/train/bacterial_leaf_blight/bacterial_leaf_blight (47).JPG  \n",
            "  inflating: RiceLeafsDisease/train/bacterial_leaf_blight/bacterial_leaf_blight (48).JPG  \n",
            "  inflating: RiceLeafsDisease/train/bacterial_leaf_blight/bacterial_leaf_blight (49).JPG  \n",
            "  inflating: RiceLeafsDisease/train/bacterial_leaf_blight/bacterial_leaf_blight (5).jpg  \n",
            "  inflating: RiceLeafsDisease/train/bacterial_leaf_blight/bacterial_leaf_blight (50).JPG  \n",
            "  inflating: RiceLeafsDisease/train/bacterial_leaf_blight/bacterial_leaf_blight (51).JPG  \n",
            "  inflating: RiceLeafsDisease/train/bacterial_leaf_blight/bacterial_leaf_blight (52).JPG  \n",
            "  inflating: RiceLeafsDisease/train/bacterial_leaf_blight/bacterial_leaf_blight (53).JPG  \n",
            "  inflating: RiceLeafsDisease/train/bacterial_leaf_blight/bacterial_leaf_blight (54).JPG  \n",
            "  inflating: RiceLeafsDisease/train/bacterial_leaf_blight/bacterial_leaf_blight (55).JPG  \n",
            "  inflating: RiceLeafsDisease/train/bacterial_leaf_blight/bacterial_leaf_blight (56).JPG  \n",
            "  inflating: RiceLeafsDisease/train/bacterial_leaf_blight/bacterial_leaf_blight (57).JPG  \n",
            "  inflating: RiceLeafsDisease/train/bacterial_leaf_blight/bacterial_leaf_blight (58).JPG  \n",
            "  inflating: RiceLeafsDisease/train/bacterial_leaf_blight/bacterial_leaf_blight (59).JPG  \n",
            "  inflating: RiceLeafsDisease/train/bacterial_leaf_blight/bacterial_leaf_blight (6).JPG  \n",
            "  inflating: RiceLeafsDisease/train/bacterial_leaf_blight/bacterial_leaf_blight (60).JPG  \n",
            "  inflating: RiceLeafsDisease/train/bacterial_leaf_blight/bacterial_leaf_blight (61).JPG  \n",
            "  inflating: RiceLeafsDisease/train/bacterial_leaf_blight/bacterial_leaf_blight (62).JPG  \n",
            "  inflating: RiceLeafsDisease/train/bacterial_leaf_blight/bacterial_leaf_blight (63).JPG  \n",
            "  inflating: RiceLeafsDisease/train/bacterial_leaf_blight/bacterial_leaf_blight (64).JPG  \n",
            "  inflating: RiceLeafsDisease/train/bacterial_leaf_blight/bacterial_leaf_blight (65).JPG  \n",
            "  inflating: RiceLeafsDisease/train/bacterial_leaf_blight/bacterial_leaf_blight (66).JPG  \n",
            "  inflating: RiceLeafsDisease/train/bacterial_leaf_blight/bacterial_leaf_blight (67).JPG  \n",
            "  inflating: RiceLeafsDisease/train/bacterial_leaf_blight/bacterial_leaf_blight (68).JPG  \n",
            "  inflating: RiceLeafsDisease/train/bacterial_leaf_blight/bacterial_leaf_blight (69).JPG  \n",
            "  inflating: RiceLeafsDisease/train/bacterial_leaf_blight/bacterial_leaf_blight (7).JPG  \n",
            "  inflating: RiceLeafsDisease/train/bacterial_leaf_blight/bacterial_leaf_blight (70).JPG  \n",
            "  inflating: RiceLeafsDisease/train/bacterial_leaf_blight/bacterial_leaf_blight (71).JPG  \n",
            "  inflating: RiceLeafsDisease/train/bacterial_leaf_blight/bacterial_leaf_blight (72).JPG  \n",
            "  inflating: RiceLeafsDisease/train/bacterial_leaf_blight/bacterial_leaf_blight (73).JPG  \n",
            "  inflating: RiceLeafsDisease/train/bacterial_leaf_blight/bacterial_leaf_blight (74).JPG  \n",
            "  inflating: RiceLeafsDisease/train/bacterial_leaf_blight/bacterial_leaf_blight (75).JPG  \n",
            "  inflating: RiceLeafsDisease/train/bacterial_leaf_blight/bacterial_leaf_blight (76).jpg  \n",
            "  inflating: RiceLeafsDisease/train/bacterial_leaf_blight/bacterial_leaf_blight (77).jpg  \n",
            "  inflating: RiceLeafsDisease/train/bacterial_leaf_blight/bacterial_leaf_blight (78).jpg  \n",
            "  inflating: RiceLeafsDisease/train/bacterial_leaf_blight/bacterial_leaf_blight (79).JPG  \n",
            "  inflating: RiceLeafsDisease/train/bacterial_leaf_blight/bacterial_leaf_blight (8).JPG  \n",
            "  inflating: RiceLeafsDisease/train/bacterial_leaf_blight/bacterial_leaf_blight (80).jpg  \n",
            "  inflating: RiceLeafsDisease/train/bacterial_leaf_blight/bacterial_leaf_blight (81).jpg  \n",
            "  inflating: RiceLeafsDisease/train/bacterial_leaf_blight/bacterial_leaf_blight (82).JPG  \n",
            "  inflating: RiceLeafsDisease/train/bacterial_leaf_blight/bacterial_leaf_blight (83).JPG  \n",
            "  inflating: RiceLeafsDisease/train/bacterial_leaf_blight/bacterial_leaf_blight (84).JPG  \n",
            "  inflating: RiceLeafsDisease/train/bacterial_leaf_blight/bacterial_leaf_blight (85).JPG  \n",
            "  inflating: RiceLeafsDisease/train/bacterial_leaf_blight/bacterial_leaf_blight (86).JPG  \n",
            "  inflating: RiceLeafsDisease/train/bacterial_leaf_blight/bacterial_leaf_blight (87).JPG  \n",
            "  inflating: RiceLeafsDisease/train/bacterial_leaf_blight/bacterial_leaf_blight (88).JPG  \n",
            "  inflating: RiceLeafsDisease/train/bacterial_leaf_blight/bacterial_leaf_blight (89).JPG  \n",
            "  inflating: RiceLeafsDisease/train/bacterial_leaf_blight/bacterial_leaf_blight (9).JPG  \n",
            "  inflating: RiceLeafsDisease/train/bacterial_leaf_blight/bacterial_leaf_blight (90).JPG  \n",
            "  inflating: RiceLeafsDisease/train/bacterial_leaf_blight/bacterial_leaf_blight (91).JPG  \n",
            "  inflating: RiceLeafsDisease/train/bacterial_leaf_blight/bacterial_leaf_blight (92).JPG  \n",
            "  inflating: RiceLeafsDisease/train/bacterial_leaf_blight/bacterial_leaf_blight (93).JPG  \n",
            "  inflating: RiceLeafsDisease/train/bacterial_leaf_blight/bacterial_leaf_blight (94).JPG  \n",
            "  inflating: RiceLeafsDisease/train/bacterial_leaf_blight/bacterial_leaf_blight (95).JPG  \n",
            "  inflating: RiceLeafsDisease/train/bacterial_leaf_blight/bacterial_leaf_blight (96).JPG  \n",
            "  inflating: RiceLeafsDisease/train/bacterial_leaf_blight/bacterial_leaf_blight (97).JPG  \n",
            "  inflating: RiceLeafsDisease/train/bacterial_leaf_blight/bacterial_leaf_blight (98).JPG  \n",
            "  inflating: RiceLeafsDisease/train/bacterial_leaf_blight/bacterial_leaf_blight (99).JPG  \n",
            "  inflating: RiceLeafsDisease/train/brown_spot/brown_spot (1).jpg  \n",
            "  inflating: RiceLeafsDisease/train/brown_spot/brown_spot (10).jpg  \n",
            "  inflating: RiceLeafsDisease/train/brown_spot/brown_spot (100).JPG  \n",
            "  inflating: RiceLeafsDisease/train/brown_spot/brown_spot (101).jpg  \n",
            "  inflating: RiceLeafsDisease/train/brown_spot/brown_spot (102).jpg  \n",
            "  inflating: RiceLeafsDisease/train/brown_spot/brown_spot (103).jpg  \n",
            "  inflating: RiceLeafsDisease/train/brown_spot/brown_spot (104).jpg  \n",
            "  inflating: RiceLeafsDisease/train/brown_spot/brown_spot (105).jpg  \n",
            "  inflating: RiceLeafsDisease/train/brown_spot/brown_spot (106).jpg  \n",
            "  inflating: RiceLeafsDisease/train/brown_spot/brown_spot (107).jpg  \n",
            "  inflating: RiceLeafsDisease/train/brown_spot/brown_spot (108).jpg  \n",
            "  inflating: RiceLeafsDisease/train/brown_spot/brown_spot (109).jpg  \n",
            "  inflating: RiceLeafsDisease/train/brown_spot/brown_spot (11).jpg  \n",
            "  inflating: RiceLeafsDisease/train/brown_spot/brown_spot (110).jpg  \n",
            "  inflating: RiceLeafsDisease/train/brown_spot/brown_spot (111).jpg  \n",
            "  inflating: RiceLeafsDisease/train/brown_spot/brown_spot (112).jpg  \n",
            "  inflating: RiceLeafsDisease/train/brown_spot/brown_spot (113).jpg  \n",
            "  inflating: RiceLeafsDisease/train/brown_spot/brown_spot (114).jpg  \n",
            "  inflating: RiceLeafsDisease/train/brown_spot/brown_spot (115).jpg  \n",
            "  inflating: RiceLeafsDisease/train/brown_spot/brown_spot (116).jpg  \n",
            "  inflating: RiceLeafsDisease/train/brown_spot/brown_spot (117).jpg  \n",
            "  inflating: RiceLeafsDisease/train/brown_spot/brown_spot (118).jpg  \n",
            "  inflating: RiceLeafsDisease/train/brown_spot/brown_spot (119).jpg  \n",
            "  inflating: RiceLeafsDisease/train/brown_spot/brown_spot (12).jpg  \n",
            "  inflating: RiceLeafsDisease/train/brown_spot/brown_spot (120).jpg  \n",
            "  inflating: RiceLeafsDisease/train/brown_spot/brown_spot (121).jpg  \n",
            "  inflating: RiceLeafsDisease/train/brown_spot/brown_spot (122).jpg  \n",
            "  inflating: RiceLeafsDisease/train/brown_spot/brown_spot (123).jpg  \n",
            "  inflating: RiceLeafsDisease/train/brown_spot/brown_spot (124).jpg  \n",
            "  inflating: RiceLeafsDisease/train/brown_spot/brown_spot (125).jpg  \n",
            "  inflating: RiceLeafsDisease/train/brown_spot/brown_spot (126).jpg  \n",
            "  inflating: RiceLeafsDisease/train/brown_spot/brown_spot (127).jpg  \n",
            "  inflating: RiceLeafsDisease/train/brown_spot/brown_spot (128).jpg  \n",
            "  inflating: RiceLeafsDisease/train/brown_spot/brown_spot (129).jpg  \n",
            "  inflating: RiceLeafsDisease/train/brown_spot/brown_spot (13).jpg  \n",
            "  inflating: RiceLeafsDisease/train/brown_spot/brown_spot (130).jpg  \n",
            "  inflating: RiceLeafsDisease/train/brown_spot/brown_spot (131).jpg  \n",
            "  inflating: RiceLeafsDisease/train/brown_spot/brown_spot (132).jpg  \n",
            "  inflating: RiceLeafsDisease/train/brown_spot/brown_spot (133).jpg  \n",
            "  inflating: RiceLeafsDisease/train/brown_spot/brown_spot (134).jpg  \n",
            "  inflating: RiceLeafsDisease/train/brown_spot/brown_spot (135).jpg  \n",
            "  inflating: RiceLeafsDisease/train/brown_spot/brown_spot (136).jpg  \n",
            "  inflating: RiceLeafsDisease/train/brown_spot/brown_spot (137).jpg  \n",
            "  inflating: RiceLeafsDisease/train/brown_spot/brown_spot (138).jpg  \n",
            "  inflating: RiceLeafsDisease/train/brown_spot/brown_spot (139).jpg  \n",
            "  inflating: RiceLeafsDisease/train/brown_spot/brown_spot (14).jpg  \n",
            "  inflating: RiceLeafsDisease/train/brown_spot/brown_spot (140).jpg  \n",
            "  inflating: RiceLeafsDisease/train/brown_spot/brown_spot (141).jpg  \n",
            "  inflating: RiceLeafsDisease/train/brown_spot/brown_spot (142).jpg  \n",
            "  inflating: RiceLeafsDisease/train/brown_spot/brown_spot (143).jpg  \n",
            "  inflating: RiceLeafsDisease/train/brown_spot/brown_spot (144).jpg  \n",
            "  inflating: RiceLeafsDisease/train/brown_spot/brown_spot (145).jpg  \n",
            "  inflating: RiceLeafsDisease/train/brown_spot/brown_spot (146).jpg  \n",
            "  inflating: RiceLeafsDisease/train/brown_spot/brown_spot (147).jpg  \n",
            "  inflating: RiceLeafsDisease/train/brown_spot/brown_spot (148).jpg  \n",
            "  inflating: RiceLeafsDisease/train/brown_spot/brown_spot (149).jpg  \n",
            "  inflating: RiceLeafsDisease/train/brown_spot/brown_spot (15).jpg  \n",
            "  inflating: RiceLeafsDisease/train/brown_spot/brown_spot (150).jpg  \n",
            "  inflating: RiceLeafsDisease/train/brown_spot/brown_spot (151).JPG  \n",
            "  inflating: RiceLeafsDisease/train/brown_spot/brown_spot (152).jpg  \n",
            "  inflating: RiceLeafsDisease/train/brown_spot/brown_spot (153).jpg  \n",
            "  inflating: RiceLeafsDisease/train/brown_spot/brown_spot (154).jpg  \n",
            "  inflating: RiceLeafsDisease/train/brown_spot/brown_spot (155).jpg  \n",
            "  inflating: RiceLeafsDisease/train/brown_spot/brown_spot (156).jpg  \n",
            "  inflating: RiceLeafsDisease/train/brown_spot/brown_spot (157).jpg  \n",
            "  inflating: RiceLeafsDisease/train/brown_spot/brown_spot (158).jpg  \n",
            "  inflating: RiceLeafsDisease/train/brown_spot/brown_spot (159).jpg  \n",
            "  inflating: RiceLeafsDisease/train/brown_spot/brown_spot (16).jpg  \n",
            "  inflating: RiceLeafsDisease/train/brown_spot/brown_spot (160).jpg  \n",
            "  inflating: RiceLeafsDisease/train/brown_spot/brown_spot (161).jpg  \n",
            "  inflating: RiceLeafsDisease/train/brown_spot/brown_spot (162).jpg  \n",
            "  inflating: RiceLeafsDisease/train/brown_spot/brown_spot (163).jpg  \n",
            "  inflating: RiceLeafsDisease/train/brown_spot/brown_spot (164).jpg  \n",
            "  inflating: RiceLeafsDisease/train/brown_spot/brown_spot (165).jpg  \n",
            "  inflating: RiceLeafsDisease/train/brown_spot/brown_spot (166).jpg  \n",
            "  inflating: RiceLeafsDisease/train/brown_spot/brown_spot (167).JPG  \n",
            "  inflating: RiceLeafsDisease/train/brown_spot/brown_spot (168).JPG  \n",
            "  inflating: RiceLeafsDisease/train/brown_spot/brown_spot (169).jpg  \n",
            "  inflating: RiceLeafsDisease/train/brown_spot/brown_spot (17).jpg  \n",
            "  inflating: RiceLeafsDisease/train/brown_spot/brown_spot (170).jpg  \n",
            "  inflating: RiceLeafsDisease/train/brown_spot/brown_spot (171).jpg  \n",
            "  inflating: RiceLeafsDisease/train/brown_spot/brown_spot (172).jpg  \n",
            "  inflating: RiceLeafsDisease/train/brown_spot/brown_spot (173).jpg  \n",
            "  inflating: RiceLeafsDisease/train/brown_spot/brown_spot (174).jpg  \n",
            "  inflating: RiceLeafsDisease/train/brown_spot/brown_spot (175).jpg  \n",
            "  inflating: RiceLeafsDisease/train/brown_spot/brown_spot (176).jpg  \n",
            "  inflating: RiceLeafsDisease/train/brown_spot/brown_spot (177).jpg  \n",
            "  inflating: RiceLeafsDisease/train/brown_spot/brown_spot (178).jpg  \n",
            "  inflating: RiceLeafsDisease/train/brown_spot/brown_spot (179).jpg  \n",
            "  inflating: RiceLeafsDisease/train/brown_spot/brown_spot (18).jpg  \n",
            "  inflating: RiceLeafsDisease/train/brown_spot/brown_spot (180).jpg  \n",
            "  inflating: RiceLeafsDisease/train/brown_spot/brown_spot (181).jpg  \n",
            "  inflating: RiceLeafsDisease/train/brown_spot/brown_spot (182).jpg  \n",
            "  inflating: RiceLeafsDisease/train/brown_spot/brown_spot (183).jpg  \n",
            "  inflating: RiceLeafsDisease/train/brown_spot/brown_spot (184).jpg  \n",
            "  inflating: RiceLeafsDisease/train/brown_spot/brown_spot (185).jpg  \n",
            "  inflating: RiceLeafsDisease/train/brown_spot/brown_spot (186).jpg  \n",
            "  inflating: RiceLeafsDisease/train/brown_spot/brown_spot (187).jpg  \n",
            "  inflating: RiceLeafsDisease/train/brown_spot/brown_spot (188).jpg  \n",
            "  inflating: RiceLeafsDisease/train/brown_spot/brown_spot (189).jpg  \n",
            "  inflating: RiceLeafsDisease/train/brown_spot/brown_spot (19).jpg  \n",
            "  inflating: RiceLeafsDisease/train/brown_spot/brown_spot (190).jpg  \n",
            "  inflating: RiceLeafsDisease/train/brown_spot/brown_spot (191).jpg  \n",
            "  inflating: RiceLeafsDisease/train/brown_spot/brown_spot (192).jpg  \n",
            "  inflating: RiceLeafsDisease/train/brown_spot/brown_spot (193).jpg  \n",
            "  inflating: RiceLeafsDisease/train/brown_spot/brown_spot (194).jpg  \n",
            "  inflating: RiceLeafsDisease/train/brown_spot/brown_spot (195).jpg  \n",
            "  inflating: RiceLeafsDisease/train/brown_spot/brown_spot (196).jpg  \n",
            "  inflating: RiceLeafsDisease/train/brown_spot/brown_spot (197).jpg  \n",
            "  inflating: RiceLeafsDisease/train/brown_spot/brown_spot (198).jpg  \n",
            "  inflating: RiceLeafsDisease/train/brown_spot/brown_spot (199).jpg  \n",
            "  inflating: RiceLeafsDisease/train/brown_spot/brown_spot (2).jpg  \n",
            "  inflating: RiceLeafsDisease/train/brown_spot/brown_spot (20).jpg  \n",
            "  inflating: RiceLeafsDisease/train/brown_spot/brown_spot (200).jpg  \n",
            "  inflating: RiceLeafsDisease/train/brown_spot/brown_spot (201).jpg  \n",
            "  inflating: RiceLeafsDisease/train/brown_spot/brown_spot (202).jpg  \n",
            "  inflating: RiceLeafsDisease/train/brown_spot/brown_spot (203).jpg  \n",
            "  inflating: RiceLeafsDisease/train/brown_spot/brown_spot (204).jpg  \n",
            "  inflating: RiceLeafsDisease/train/brown_spot/brown_spot (205).jpg  \n",
            "  inflating: RiceLeafsDisease/train/brown_spot/brown_spot (206).jpg  \n",
            "  inflating: RiceLeafsDisease/train/brown_spot/brown_spot (207).jpg  \n",
            "  inflating: RiceLeafsDisease/train/brown_spot/brown_spot (208).jpg  \n",
            "  inflating: RiceLeafsDisease/train/brown_spot/brown_spot (209).jpg  \n",
            "  inflating: RiceLeafsDisease/train/brown_spot/brown_spot (21).jpg  \n",
            "  inflating: RiceLeafsDisease/train/brown_spot/brown_spot (210).jpg  \n",
            "  inflating: RiceLeafsDisease/train/brown_spot/brown_spot (211).JPG  \n",
            "  inflating: RiceLeafsDisease/train/brown_spot/brown_spot (212).JPG  \n",
            "  inflating: RiceLeafsDisease/train/brown_spot/brown_spot (213).JPG  \n",
            "  inflating: RiceLeafsDisease/train/brown_spot/brown_spot (214).jpg  \n",
            "  inflating: RiceLeafsDisease/train/brown_spot/brown_spot (215).jpg  \n",
            "  inflating: RiceLeafsDisease/train/brown_spot/brown_spot (216).JPG  \n",
            "  inflating: RiceLeafsDisease/train/brown_spot/brown_spot (217).JPG  \n",
            "  inflating: RiceLeafsDisease/train/brown_spot/brown_spot (218).JPG  \n",
            "  inflating: RiceLeafsDisease/train/brown_spot/brown_spot (219).JPG  \n",
            "  inflating: RiceLeafsDisease/train/brown_spot/brown_spot (22).jpg  \n",
            "  inflating: RiceLeafsDisease/train/brown_spot/brown_spot (220).JPG  \n",
            "  inflating: RiceLeafsDisease/train/brown_spot/brown_spot (221).JPG  \n",
            "  inflating: RiceLeafsDisease/train/brown_spot/brown_spot (222).JPG  \n",
            "  inflating: RiceLeafsDisease/train/brown_spot/brown_spot (223).JPG  \n",
            "  inflating: RiceLeafsDisease/train/brown_spot/brown_spot (224).JPG  \n",
            "  inflating: RiceLeafsDisease/train/brown_spot/brown_spot (225).JPG  \n",
            "  inflating: RiceLeafsDisease/train/brown_spot/brown_spot (226).JPG  \n",
            "  inflating: RiceLeafsDisease/train/brown_spot/brown_spot (227).JPG  \n",
            "  inflating: RiceLeafsDisease/train/brown_spot/brown_spot (228).JPG  \n",
            "  inflating: RiceLeafsDisease/train/brown_spot/brown_spot (229).JPG  \n",
            "  inflating: RiceLeafsDisease/train/brown_spot/brown_spot (23).jpg  \n",
            "  inflating: RiceLeafsDisease/train/brown_spot/brown_spot (230).JPG  \n",
            "  inflating: RiceLeafsDisease/train/brown_spot/brown_spot (231).JPG  \n",
            "  inflating: RiceLeafsDisease/train/brown_spot/brown_spot (232).JPG  \n",
            "  inflating: RiceLeafsDisease/train/brown_spot/brown_spot (233).JPG  \n",
            "  inflating: RiceLeafsDisease/train/brown_spot/brown_spot (234).JPG  \n",
            "  inflating: RiceLeafsDisease/train/brown_spot/brown_spot (235).jpg  \n",
            "  inflating: RiceLeafsDisease/train/brown_spot/brown_spot (236).jpg  \n",
            "  inflating: RiceLeafsDisease/train/brown_spot/brown_spot (237).jpg  \n",
            "  inflating: RiceLeafsDisease/train/brown_spot/brown_spot (238).jpg  \n",
            "  inflating: RiceLeafsDisease/train/brown_spot/brown_spot (239).jpg  \n",
            "  inflating: RiceLeafsDisease/train/brown_spot/brown_spot (24).jpg  \n",
            "  inflating: RiceLeafsDisease/train/brown_spot/brown_spot (240).jpg  \n",
            "  inflating: RiceLeafsDisease/train/brown_spot/brown_spot (241).jpg  \n",
            "  inflating: RiceLeafsDisease/train/brown_spot/brown_spot (242).jpg  \n",
            "  inflating: RiceLeafsDisease/train/brown_spot/brown_spot (243).jpg  \n",
            "  inflating: RiceLeafsDisease/train/brown_spot/brown_spot (244).jpg  \n",
            "  inflating: RiceLeafsDisease/train/brown_spot/brown_spot (245).jpg  \n",
            "  inflating: RiceLeafsDisease/train/brown_spot/brown_spot (246).jpg  \n",
            "  inflating: RiceLeafsDisease/train/brown_spot/brown_spot (247).jpg  \n",
            "  inflating: RiceLeafsDisease/train/brown_spot/brown_spot (248).jpg  \n",
            "  inflating: RiceLeafsDisease/train/brown_spot/brown_spot (249).jpg  \n",
            "  inflating: RiceLeafsDisease/train/brown_spot/brown_spot (25).jpg  \n",
            "  inflating: RiceLeafsDisease/train/brown_spot/brown_spot (250).jpg  \n",
            "  inflating: RiceLeafsDisease/train/brown_spot/brown_spot (251).jpg  \n",
            "  inflating: RiceLeafsDisease/train/brown_spot/brown_spot (252).jpg  \n",
            "  inflating: RiceLeafsDisease/train/brown_spot/brown_spot (253).jpg  \n",
            "  inflating: RiceLeafsDisease/train/brown_spot/brown_spot (254).jpg  \n",
            "  inflating: RiceLeafsDisease/train/brown_spot/brown_spot (255).jpg  \n",
            "  inflating: RiceLeafsDisease/train/brown_spot/brown_spot (256).jpg  \n",
            "  inflating: RiceLeafsDisease/train/brown_spot/brown_spot (257).jpg  \n",
            "  inflating: RiceLeafsDisease/train/brown_spot/brown_spot (258).jpg  \n",
            "  inflating: RiceLeafsDisease/train/brown_spot/brown_spot (259).jpg  \n",
            "  inflating: RiceLeafsDisease/train/brown_spot/brown_spot (26).jpg  \n",
            "  inflating: RiceLeafsDisease/train/brown_spot/brown_spot (260).jpg  \n",
            "  inflating: RiceLeafsDisease/train/brown_spot/brown_spot (261).jpg  \n",
            "  inflating: RiceLeafsDisease/train/brown_spot/brown_spot (262).jpg  \n",
            "  inflating: RiceLeafsDisease/train/brown_spot/brown_spot (263).jpg  \n",
            "  inflating: RiceLeafsDisease/train/brown_spot/brown_spot (264).jpg  \n",
            "  inflating: RiceLeafsDisease/train/brown_spot/brown_spot (265).jpg  \n",
            "  inflating: RiceLeafsDisease/train/brown_spot/brown_spot (266).jpg  \n",
            "  inflating: RiceLeafsDisease/train/brown_spot/brown_spot (267).jpg  \n",
            "  inflating: RiceLeafsDisease/train/brown_spot/brown_spot (268).jpg  \n",
            "  inflating: RiceLeafsDisease/train/brown_spot/brown_spot (269).jpg  \n",
            "  inflating: RiceLeafsDisease/train/brown_spot/brown_spot (27).jpg  \n",
            "  inflating: RiceLeafsDisease/train/brown_spot/brown_spot (270).jpg  \n",
            "  inflating: RiceLeafsDisease/train/brown_spot/brown_spot (271).jpg  \n",
            "  inflating: RiceLeafsDisease/train/brown_spot/brown_spot (272).jpg  \n",
            "  inflating: RiceLeafsDisease/train/brown_spot/brown_spot (273).jpg  \n",
            "  inflating: RiceLeafsDisease/train/brown_spot/brown_spot (274).jpg  \n",
            "  inflating: RiceLeafsDisease/train/brown_spot/brown_spot (275).jpg  \n",
            "  inflating: RiceLeafsDisease/train/brown_spot/brown_spot (276).jpg  \n",
            "  inflating: RiceLeafsDisease/train/brown_spot/brown_spot (277).jpg  \n",
            "  inflating: RiceLeafsDisease/train/brown_spot/brown_spot (278).jpg  \n",
            "  inflating: RiceLeafsDisease/train/brown_spot/brown_spot (279).jpg  \n",
            "  inflating: RiceLeafsDisease/train/brown_spot/brown_spot (28).jpg  \n",
            "  inflating: RiceLeafsDisease/train/brown_spot/brown_spot (280).jpg  \n",
            "  inflating: RiceLeafsDisease/train/brown_spot/brown_spot (281).jpg  \n",
            "  inflating: RiceLeafsDisease/train/brown_spot/brown_spot (282).jpg  \n",
            "  inflating: RiceLeafsDisease/train/brown_spot/brown_spot (283).jpg  \n",
            "  inflating: RiceLeafsDisease/train/brown_spot/brown_spot (284).jpg  \n",
            "  inflating: RiceLeafsDisease/train/brown_spot/brown_spot (285).jpg  \n",
            "  inflating: RiceLeafsDisease/train/brown_spot/brown_spot (286).jpg  \n",
            "  inflating: RiceLeafsDisease/train/brown_spot/brown_spot (287).jpg  \n",
            "  inflating: RiceLeafsDisease/train/brown_spot/brown_spot (288).jpg  \n",
            "  inflating: RiceLeafsDisease/train/brown_spot/brown_spot (289).jpg  \n",
            "  inflating: RiceLeafsDisease/train/brown_spot/brown_spot (29).jpg  \n",
            "  inflating: RiceLeafsDisease/train/brown_spot/brown_spot (290).jpg  \n",
            "  inflating: RiceLeafsDisease/train/brown_spot/brown_spot (291).jpg  \n",
            "  inflating: RiceLeafsDisease/train/brown_spot/brown_spot (292).jpg  \n",
            "  inflating: RiceLeafsDisease/train/brown_spot/brown_spot (293).jpg  \n",
            "  inflating: RiceLeafsDisease/train/brown_spot/brown_spot (294).jpg  \n",
            "  inflating: RiceLeafsDisease/train/brown_spot/brown_spot (295).jpg  \n",
            "  inflating: RiceLeafsDisease/train/brown_spot/brown_spot (296).jpg  \n",
            "  inflating: RiceLeafsDisease/train/brown_spot/brown_spot (297).jpg  \n",
            "  inflating: RiceLeafsDisease/train/brown_spot/brown_spot (298).jpg  \n",
            "  inflating: RiceLeafsDisease/train/brown_spot/brown_spot (299).jpg  \n",
            "  inflating: RiceLeafsDisease/train/brown_spot/brown_spot (3).jpg  \n",
            "  inflating: RiceLeafsDisease/train/brown_spot/brown_spot (30).jpg  \n",
            "  inflating: RiceLeafsDisease/train/brown_spot/brown_spot (300).jpg  \n",
            "  inflating: RiceLeafsDisease/train/brown_spot/brown_spot (301).jpg  \n",
            "  inflating: RiceLeafsDisease/train/brown_spot/brown_spot (302).jpg  \n",
            "  inflating: RiceLeafsDisease/train/brown_spot/brown_spot (303).jpg  \n",
            "  inflating: RiceLeafsDisease/train/brown_spot/brown_spot (304).jpg  \n",
            "  inflating: RiceLeafsDisease/train/brown_spot/brown_spot (305).jpg  \n",
            "  inflating: RiceLeafsDisease/train/brown_spot/brown_spot (306).jpg  \n",
            "  inflating: RiceLeafsDisease/train/brown_spot/brown_spot (307).jpg  \n",
            "  inflating: RiceLeafsDisease/train/brown_spot/brown_spot (308).jpg  \n",
            "  inflating: RiceLeafsDisease/train/brown_spot/brown_spot (309).jpg  \n",
            "  inflating: RiceLeafsDisease/train/brown_spot/brown_spot (31).jpg  \n",
            "  inflating: RiceLeafsDisease/train/brown_spot/brown_spot (310).jpg  \n",
            "  inflating: RiceLeafsDisease/train/brown_spot/brown_spot (311).jpg  \n",
            "  inflating: RiceLeafsDisease/train/brown_spot/brown_spot (312).jpg  \n",
            "  inflating: RiceLeafsDisease/train/brown_spot/brown_spot (313).jpg  \n",
            "  inflating: RiceLeafsDisease/train/brown_spot/brown_spot (314).jpg  \n",
            "  inflating: RiceLeafsDisease/train/brown_spot/brown_spot (315).jpg  \n",
            "  inflating: RiceLeafsDisease/train/brown_spot/brown_spot (316).jpg  \n",
            "  inflating: RiceLeafsDisease/train/brown_spot/brown_spot (317).jpg  \n",
            "  inflating: RiceLeafsDisease/train/brown_spot/brown_spot (318).jpg  \n",
            "  inflating: RiceLeafsDisease/train/brown_spot/brown_spot (319).jpg  \n",
            "  inflating: RiceLeafsDisease/train/brown_spot/brown_spot (32).jpg  \n",
            "  inflating: RiceLeafsDisease/train/brown_spot/brown_spot (320).jpg  \n",
            "  inflating: RiceLeafsDisease/train/brown_spot/brown_spot (321).jpg  \n",
            "  inflating: RiceLeafsDisease/train/brown_spot/brown_spot (322).jpg  \n",
            "  inflating: RiceLeafsDisease/train/brown_spot/brown_spot (323).jpg  \n",
            "  inflating: RiceLeafsDisease/train/brown_spot/brown_spot (324).jpg  \n",
            "  inflating: RiceLeafsDisease/train/brown_spot/brown_spot (325).jpg  \n",
            "  inflating: RiceLeafsDisease/train/brown_spot/brown_spot (326).jpg  \n",
            "  inflating: RiceLeafsDisease/train/brown_spot/brown_spot (327).jpg  \n",
            "  inflating: RiceLeafsDisease/train/brown_spot/brown_spot (328).jpg  \n",
            "  inflating: RiceLeafsDisease/train/brown_spot/brown_spot (329).jpg  \n",
            "  inflating: RiceLeafsDisease/train/brown_spot/brown_spot (33).jpg  \n",
            "  inflating: RiceLeafsDisease/train/brown_spot/brown_spot (330).jpg  \n",
            "  inflating: RiceLeafsDisease/train/brown_spot/brown_spot (331).jpg  \n",
            "  inflating: RiceLeafsDisease/train/brown_spot/brown_spot (332).jpg  \n",
            "  inflating: RiceLeafsDisease/train/brown_spot/brown_spot (333).jpg  \n",
            "  inflating: RiceLeafsDisease/train/brown_spot/brown_spot (334).jpg  \n",
            "  inflating: RiceLeafsDisease/train/brown_spot/brown_spot (335).jpg  \n",
            "  inflating: RiceLeafsDisease/train/brown_spot/brown_spot (336).jpg  \n",
            "  inflating: RiceLeafsDisease/train/brown_spot/brown_spot (337).jpg  \n",
            "  inflating: RiceLeafsDisease/train/brown_spot/brown_spot (338).jpg  \n",
            "  inflating: RiceLeafsDisease/train/brown_spot/brown_spot (339).jpg  \n",
            "  inflating: RiceLeafsDisease/train/brown_spot/brown_spot (34).jpg  \n",
            "  inflating: RiceLeafsDisease/train/brown_spot/brown_spot (340).jpg  \n",
            "  inflating: RiceLeafsDisease/train/brown_spot/brown_spot (341).JPG  \n",
            "  inflating: RiceLeafsDisease/train/brown_spot/brown_spot (342).JPG  \n",
            "  inflating: RiceLeafsDisease/train/brown_spot/brown_spot (343).JPG  \n",
            "  inflating: RiceLeafsDisease/train/brown_spot/brown_spot (344).JPG  \n",
            "  inflating: RiceLeafsDisease/train/brown_spot/brown_spot (345).JPG  \n",
            "  inflating: RiceLeafsDisease/train/brown_spot/brown_spot (346).JPG  \n",
            "  inflating: RiceLeafsDisease/train/brown_spot/brown_spot (347).JPG  \n",
            "  inflating: RiceLeafsDisease/train/brown_spot/brown_spot (348).JPG  \n",
            "  inflating: RiceLeafsDisease/train/brown_spot/brown_spot (349).JPG  \n",
            "  inflating: RiceLeafsDisease/train/brown_spot/brown_spot (35).jpg  \n",
            "  inflating: RiceLeafsDisease/train/brown_spot/brown_spot (350).jpg  \n",
            "  inflating: RiceLeafsDisease/train/brown_spot/brown_spot (36).jpg  \n",
            "  inflating: RiceLeafsDisease/train/brown_spot/brown_spot (37).jpg  \n",
            "  inflating: RiceLeafsDisease/train/brown_spot/brown_spot (38).jpg  \n",
            "  inflating: RiceLeafsDisease/train/brown_spot/brown_spot (39).jpg  \n",
            "  inflating: RiceLeafsDisease/train/brown_spot/brown_spot (4).jpg  \n",
            "  inflating: RiceLeafsDisease/train/brown_spot/brown_spot (40).jpg  \n",
            "  inflating: RiceLeafsDisease/train/brown_spot/brown_spot (41).jpg  \n",
            "  inflating: RiceLeafsDisease/train/brown_spot/brown_spot (42).jpg  \n",
            "  inflating: RiceLeafsDisease/train/brown_spot/brown_spot (43).jpg  \n",
            "  inflating: RiceLeafsDisease/train/brown_spot/brown_spot (44).jpg  \n",
            "  inflating: RiceLeafsDisease/train/brown_spot/brown_spot (45).jpg  \n",
            "  inflating: RiceLeafsDisease/train/brown_spot/brown_spot (46).jpg  \n",
            "  inflating: RiceLeafsDisease/train/brown_spot/brown_spot (47).jpg  \n",
            "  inflating: RiceLeafsDisease/train/brown_spot/brown_spot (48).jpg  \n",
            "  inflating: RiceLeafsDisease/train/brown_spot/brown_spot (49).jpg  \n",
            "  inflating: RiceLeafsDisease/train/brown_spot/brown_spot (5).jpg  \n",
            "  inflating: RiceLeafsDisease/train/brown_spot/brown_spot (50).jpg  \n",
            "  inflating: RiceLeafsDisease/train/brown_spot/brown_spot (51).jpg  \n",
            "  inflating: RiceLeafsDisease/train/brown_spot/brown_spot (52).jpg  \n",
            "  inflating: RiceLeafsDisease/train/brown_spot/brown_spot (53).jpg  \n",
            "  inflating: RiceLeafsDisease/train/brown_spot/brown_spot (54).jpg  \n",
            "  inflating: RiceLeafsDisease/train/brown_spot/brown_spot (55).jpg  \n",
            "  inflating: RiceLeafsDisease/train/brown_spot/brown_spot (56).jpg  \n",
            "  inflating: RiceLeafsDisease/train/brown_spot/brown_spot (57).jpg  \n",
            "  inflating: RiceLeafsDisease/train/brown_spot/brown_spot (58).jpg  \n",
            "  inflating: RiceLeafsDisease/train/brown_spot/brown_spot (59).jpg  \n",
            "  inflating: RiceLeafsDisease/train/brown_spot/brown_spot (6).jpg  \n",
            "  inflating: RiceLeafsDisease/train/brown_spot/brown_spot (60).jpg  \n",
            "  inflating: RiceLeafsDisease/train/brown_spot/brown_spot (61).jpg  \n",
            "  inflating: RiceLeafsDisease/train/brown_spot/brown_spot (62).jpg  \n",
            "  inflating: RiceLeafsDisease/train/brown_spot/brown_spot (63).jpg  \n",
            "  inflating: RiceLeafsDisease/train/brown_spot/brown_spot (64).jpg  \n",
            "  inflating: RiceLeafsDisease/train/brown_spot/brown_spot (65).jpg  \n",
            "  inflating: RiceLeafsDisease/train/brown_spot/brown_spot (66).jpg  \n",
            "  inflating: RiceLeafsDisease/train/brown_spot/brown_spot (67).jpg  \n",
            "  inflating: RiceLeafsDisease/train/brown_spot/brown_spot (68).jpg  \n",
            "  inflating: RiceLeafsDisease/train/brown_spot/brown_spot (69).jpg  \n",
            "  inflating: RiceLeafsDisease/train/brown_spot/brown_spot (7).jpg  \n",
            "  inflating: RiceLeafsDisease/train/brown_spot/brown_spot (70).jpg  \n",
            "  inflating: RiceLeafsDisease/train/brown_spot/brown_spot (71).jpg  \n",
            "  inflating: RiceLeafsDisease/train/brown_spot/brown_spot (72).jpg  \n",
            "  inflating: RiceLeafsDisease/train/brown_spot/brown_spot (73).jpg  \n",
            "  inflating: RiceLeafsDisease/train/brown_spot/brown_spot (74).jpg  \n",
            "  inflating: RiceLeafsDisease/train/brown_spot/brown_spot (75).jpg  \n",
            "  inflating: RiceLeafsDisease/train/brown_spot/brown_spot (76).jpg  \n",
            "  inflating: RiceLeafsDisease/train/brown_spot/brown_spot (77).jpg  \n",
            "  inflating: RiceLeafsDisease/train/brown_spot/brown_spot (78).jpg  \n",
            "  inflating: RiceLeafsDisease/train/brown_spot/brown_spot (79).jpg  \n",
            "  inflating: RiceLeafsDisease/train/brown_spot/brown_spot (8).jpg  \n",
            "  inflating: RiceLeafsDisease/train/brown_spot/brown_spot (80).jpg  \n",
            "  inflating: RiceLeafsDisease/train/brown_spot/brown_spot (81).jpg  \n",
            "  inflating: RiceLeafsDisease/train/brown_spot/brown_spot (82).jpg  \n",
            "  inflating: RiceLeafsDisease/train/brown_spot/brown_spot (83).jpg  \n",
            "  inflating: RiceLeafsDisease/train/brown_spot/brown_spot (84).jpg  \n",
            "  inflating: RiceLeafsDisease/train/brown_spot/brown_spot (85).jpg  \n",
            "  inflating: RiceLeafsDisease/train/brown_spot/brown_spot (86).jpg  \n",
            "  inflating: RiceLeafsDisease/train/brown_spot/brown_spot (87).jpg  \n",
            "  inflating: RiceLeafsDisease/train/brown_spot/brown_spot (88).jpg  \n",
            "  inflating: RiceLeafsDisease/train/brown_spot/brown_spot (89).jpg  \n",
            "  inflating: RiceLeafsDisease/train/brown_spot/brown_spot (9).jpg  \n",
            "  inflating: RiceLeafsDisease/train/brown_spot/brown_spot (90).jpg  \n",
            "  inflating: RiceLeafsDisease/train/brown_spot/brown_spot (91).jpg  \n",
            "  inflating: RiceLeafsDisease/train/brown_spot/brown_spot (92).jpg  \n",
            "  inflating: RiceLeafsDisease/train/brown_spot/brown_spot (93).jpg  \n",
            "  inflating: RiceLeafsDisease/train/brown_spot/brown_spot (94).jpg  \n",
            "  inflating: RiceLeafsDisease/train/brown_spot/brown_spot (95).jpg  \n",
            "  inflating: RiceLeafsDisease/train/brown_spot/brown_spot (96).jpg  \n",
            "  inflating: RiceLeafsDisease/train/brown_spot/brown_spot (97).jpg  \n",
            "  inflating: RiceLeafsDisease/train/brown_spot/brown_spot (98).jpg  \n",
            "  inflating: RiceLeafsDisease/train/brown_spot/brown_spot (99).JPG  \n",
            "  inflating: RiceLeafsDisease/train/healthy/healthy (1).jpg  \n",
            "  inflating: RiceLeafsDisease/train/healthy/healthy (10).jpg  \n",
            "  inflating: RiceLeafsDisease/train/healthy/healthy (100).jpg  \n",
            "  inflating: RiceLeafsDisease/train/healthy/healthy (101).jpg  \n",
            "  inflating: RiceLeafsDisease/train/healthy/healthy (102).jpg  \n",
            "  inflating: RiceLeafsDisease/train/healthy/healthy (103).jpg  \n",
            "  inflating: RiceLeafsDisease/train/healthy/healthy (104).jpg  \n",
            "  inflating: RiceLeafsDisease/train/healthy/healthy (105).jpg  \n",
            "  inflating: RiceLeafsDisease/train/healthy/healthy (106).jpg  \n",
            "  inflating: RiceLeafsDisease/train/healthy/healthy (107).jpg  \n",
            "  inflating: RiceLeafsDisease/train/healthy/healthy (108).jpg  \n",
            "  inflating: RiceLeafsDisease/train/healthy/healthy (109).jpg  \n",
            "  inflating: RiceLeafsDisease/train/healthy/healthy (11).jpg  \n",
            "  inflating: RiceLeafsDisease/train/healthy/healthy (110).jpg  \n",
            "  inflating: RiceLeafsDisease/train/healthy/healthy (111).jpg  \n",
            "  inflating: RiceLeafsDisease/train/healthy/healthy (112).jpg  \n",
            "  inflating: RiceLeafsDisease/train/healthy/healthy (113).jpg  \n",
            "  inflating: RiceLeafsDisease/train/healthy/healthy (114).jpg  \n",
            "  inflating: RiceLeafsDisease/train/healthy/healthy (115).jpg  \n",
            "  inflating: RiceLeafsDisease/train/healthy/healthy (116).jpg  \n",
            "  inflating: RiceLeafsDisease/train/healthy/healthy (117).jpg  \n",
            "  inflating: RiceLeafsDisease/train/healthy/healthy (118).jpg  \n",
            "  inflating: RiceLeafsDisease/train/healthy/healthy (119).jpg  \n",
            "  inflating: RiceLeafsDisease/train/healthy/healthy (12).jpg  \n",
            "  inflating: RiceLeafsDisease/train/healthy/healthy (120).jpg  \n",
            "  inflating: RiceLeafsDisease/train/healthy/healthy (121).jpg  \n",
            "  inflating: RiceLeafsDisease/train/healthy/healthy (122).jpg  \n",
            "  inflating: RiceLeafsDisease/train/healthy/healthy (123).jpg  \n",
            "  inflating: RiceLeafsDisease/train/healthy/healthy (124).jpg  \n",
            "  inflating: RiceLeafsDisease/train/healthy/healthy (125).jpg  \n",
            "  inflating: RiceLeafsDisease/train/healthy/healthy (126).jpg  \n",
            "  inflating: RiceLeafsDisease/train/healthy/healthy (127).jpg  \n",
            "  inflating: RiceLeafsDisease/train/healthy/healthy (128).jpg  \n",
            "  inflating: RiceLeafsDisease/train/healthy/healthy (129).jpg  \n",
            "  inflating: RiceLeafsDisease/train/healthy/healthy (13).jpg  \n",
            "  inflating: RiceLeafsDisease/train/healthy/healthy (130).jpg  \n",
            "  inflating: RiceLeafsDisease/train/healthy/healthy (131).jpg  \n",
            "  inflating: RiceLeafsDisease/train/healthy/healthy (132).jpg  \n",
            "  inflating: RiceLeafsDisease/train/healthy/healthy (133).jpg  \n",
            "  inflating: RiceLeafsDisease/train/healthy/healthy (134).jpg  \n",
            "  inflating: RiceLeafsDisease/train/healthy/healthy (135).jpg  \n",
            "  inflating: RiceLeafsDisease/train/healthy/healthy (136).jpg  \n",
            "  inflating: RiceLeafsDisease/train/healthy/healthy (137).jpg  \n",
            "  inflating: RiceLeafsDisease/train/healthy/healthy (138).jpg  \n",
            "  inflating: RiceLeafsDisease/train/healthy/healthy (139).jpg  \n",
            "  inflating: RiceLeafsDisease/train/healthy/healthy (14).jpg  \n",
            "  inflating: RiceLeafsDisease/train/healthy/healthy (140).jpg  \n",
            "  inflating: RiceLeafsDisease/train/healthy/healthy (141).jpg  \n",
            "  inflating: RiceLeafsDisease/train/healthy/healthy (142).jpg  \n",
            "  inflating: RiceLeafsDisease/train/healthy/healthy (143).jpg  \n",
            "  inflating: RiceLeafsDisease/train/healthy/healthy (144).jpg  \n",
            "  inflating: RiceLeafsDisease/train/healthy/healthy (145).jpg  \n",
            "  inflating: RiceLeafsDisease/train/healthy/healthy (146).jpg  \n",
            "  inflating: RiceLeafsDisease/train/healthy/healthy (147).jpg  \n",
            "  inflating: RiceLeafsDisease/train/healthy/healthy (148).jpg  \n",
            "  inflating: RiceLeafsDisease/train/healthy/healthy (149).jpg  \n",
            "  inflating: RiceLeafsDisease/train/healthy/healthy (15).jpg  \n",
            "  inflating: RiceLeafsDisease/train/healthy/healthy (150).jpg  \n",
            "  inflating: RiceLeafsDisease/train/healthy/healthy (151).jpg  \n",
            "  inflating: RiceLeafsDisease/train/healthy/healthy (152).jpg  \n",
            "  inflating: RiceLeafsDisease/train/healthy/healthy (153).jpg  \n",
            "  inflating: RiceLeafsDisease/train/healthy/healthy (154).jpg  \n",
            "  inflating: RiceLeafsDisease/train/healthy/healthy (155).jpg  \n",
            "  inflating: RiceLeafsDisease/train/healthy/healthy (156).jpg  \n",
            "  inflating: RiceLeafsDisease/train/healthy/healthy (157).jpg  \n",
            "  inflating: RiceLeafsDisease/train/healthy/healthy (158).jpg  \n",
            "  inflating: RiceLeafsDisease/train/healthy/healthy (159).jpg  \n",
            "  inflating: RiceLeafsDisease/train/healthy/healthy (16).jpg  \n",
            "  inflating: RiceLeafsDisease/train/healthy/healthy (160).jpg  \n",
            "  inflating: RiceLeafsDisease/train/healthy/healthy (161).jpg  \n",
            "  inflating: RiceLeafsDisease/train/healthy/healthy (162).jpg  \n",
            "  inflating: RiceLeafsDisease/train/healthy/healthy (163).jpg  \n",
            "  inflating: RiceLeafsDisease/train/healthy/healthy (164).jpg  \n",
            "  inflating: RiceLeafsDisease/train/healthy/healthy (165).jpg  \n",
            "  inflating: RiceLeafsDisease/train/healthy/healthy (166).jpg  \n",
            "  inflating: RiceLeafsDisease/train/healthy/healthy (167).jpg  \n",
            "  inflating: RiceLeafsDisease/train/healthy/healthy (168).jpg  \n",
            "  inflating: RiceLeafsDisease/train/healthy/healthy (169).jpg  \n",
            "  inflating: RiceLeafsDisease/train/healthy/healthy (17).jpg  \n",
            "  inflating: RiceLeafsDisease/train/healthy/healthy (170).jpg  \n",
            "  inflating: RiceLeafsDisease/train/healthy/healthy (171).jpg  \n",
            "  inflating: RiceLeafsDisease/train/healthy/healthy (172).jpg  \n",
            "  inflating: RiceLeafsDisease/train/healthy/healthy (173).jpg  \n",
            "  inflating: RiceLeafsDisease/train/healthy/healthy (174).jpg  \n",
            "  inflating: RiceLeafsDisease/train/healthy/healthy (175).jpg  \n",
            "  inflating: RiceLeafsDisease/train/healthy/healthy (176).jpg  \n",
            "  inflating: RiceLeafsDisease/train/healthy/healthy (177).jpg  \n",
            "  inflating: RiceLeafsDisease/train/healthy/healthy (178).jpg  \n",
            "  inflating: RiceLeafsDisease/train/healthy/healthy (179).jpg  \n",
            "  inflating: RiceLeafsDisease/train/healthy/healthy (18).jpg  \n",
            "  inflating: RiceLeafsDisease/train/healthy/healthy (180).jpg  \n",
            "  inflating: RiceLeafsDisease/train/healthy/healthy (181).jpg  \n",
            "  inflating: RiceLeafsDisease/train/healthy/healthy (182).jpg  \n",
            "  inflating: RiceLeafsDisease/train/healthy/healthy (183).jpg  \n",
            "  inflating: RiceLeafsDisease/train/healthy/healthy (184).jpg  \n",
            "  inflating: RiceLeafsDisease/train/healthy/healthy (185).jpg  \n",
            "  inflating: RiceLeafsDisease/train/healthy/healthy (186).jpg  \n",
            "  inflating: RiceLeafsDisease/train/healthy/healthy (187).jpg  \n",
            "  inflating: RiceLeafsDisease/train/healthy/healthy (188).jpg  \n",
            "  inflating: RiceLeafsDisease/train/healthy/healthy (189).jpg  \n",
            "  inflating: RiceLeafsDisease/train/healthy/healthy (19).jpg  \n",
            "  inflating: RiceLeafsDisease/train/healthy/healthy (190).jpg  \n",
            "  inflating: RiceLeafsDisease/train/healthy/healthy (191).jpg  \n",
            "  inflating: RiceLeafsDisease/train/healthy/healthy (192).jpg  \n",
            "  inflating: RiceLeafsDisease/train/healthy/healthy (193).jpg  \n",
            "  inflating: RiceLeafsDisease/train/healthy/healthy (194).jpg  \n",
            "  inflating: RiceLeafsDisease/train/healthy/healthy (195).jpg  \n",
            "  inflating: RiceLeafsDisease/train/healthy/healthy (196).jpg  \n",
            "  inflating: RiceLeafsDisease/train/healthy/healthy (197).jpg  \n",
            "  inflating: RiceLeafsDisease/train/healthy/healthy (198).jpg  \n",
            "  inflating: RiceLeafsDisease/train/healthy/healthy (199).jpg  \n",
            "  inflating: RiceLeafsDisease/train/healthy/healthy (2).jpg  \n",
            "  inflating: RiceLeafsDisease/train/healthy/healthy (20).jpg  \n",
            "  inflating: RiceLeafsDisease/train/healthy/healthy (200).jpg  \n",
            "  inflating: RiceLeafsDisease/train/healthy/healthy (201).jpg  \n",
            "  inflating: RiceLeafsDisease/train/healthy/healthy (202).jpg  \n",
            "  inflating: RiceLeafsDisease/train/healthy/healthy (203).jpg  \n",
            "  inflating: RiceLeafsDisease/train/healthy/healthy (204).jpg  \n",
            "  inflating: RiceLeafsDisease/train/healthy/healthy (205).jpg  \n",
            "  inflating: RiceLeafsDisease/train/healthy/healthy (206).jpg  \n",
            "  inflating: RiceLeafsDisease/train/healthy/healthy (207).jpg  \n",
            "  inflating: RiceLeafsDisease/train/healthy/healthy (208).jpg  \n",
            "  inflating: RiceLeafsDisease/train/healthy/healthy (209).jpg  \n",
            "  inflating: RiceLeafsDisease/train/healthy/healthy (21).jpg  \n",
            "  inflating: RiceLeafsDisease/train/healthy/healthy (210).jpg  \n",
            "  inflating: RiceLeafsDisease/train/healthy/healthy (211).jpg  \n",
            "  inflating: RiceLeafsDisease/train/healthy/healthy (212).jpg  \n",
            "  inflating: RiceLeafsDisease/train/healthy/healthy (213).jpg  \n",
            "  inflating: RiceLeafsDisease/train/healthy/healthy (214).jpg  \n",
            "  inflating: RiceLeafsDisease/train/healthy/healthy (215).jpg  \n",
            "  inflating: RiceLeafsDisease/train/healthy/healthy (216).jpg  \n",
            "  inflating: RiceLeafsDisease/train/healthy/healthy (217).jpg  \n",
            "  inflating: RiceLeafsDisease/train/healthy/healthy (218).jpg  \n",
            "  inflating: RiceLeafsDisease/train/healthy/healthy (219).jpg  \n",
            "  inflating: RiceLeafsDisease/train/healthy/healthy (22).jpg  \n",
            "  inflating: RiceLeafsDisease/train/healthy/healthy (220).jpg  \n",
            "  inflating: RiceLeafsDisease/train/healthy/healthy (221).jpg  \n",
            "  inflating: RiceLeafsDisease/train/healthy/healthy (222).jpg  \n",
            "  inflating: RiceLeafsDisease/train/healthy/healthy (223).jpg  \n",
            "  inflating: RiceLeafsDisease/train/healthy/healthy (224).jpg  \n",
            "  inflating: RiceLeafsDisease/train/healthy/healthy (225).jpg  \n",
            "  inflating: RiceLeafsDisease/train/healthy/healthy (226).jpg  \n",
            "  inflating: RiceLeafsDisease/train/healthy/healthy (227).jpg  \n",
            "  inflating: RiceLeafsDisease/train/healthy/healthy (228).jpg  \n",
            "  inflating: RiceLeafsDisease/train/healthy/healthy (229).jpg  \n",
            "  inflating: RiceLeafsDisease/train/healthy/healthy (23).jpg  \n",
            "  inflating: RiceLeafsDisease/train/healthy/healthy (230).jpg  \n",
            "  inflating: RiceLeafsDisease/train/healthy/healthy (231).jpg  \n",
            "  inflating: RiceLeafsDisease/train/healthy/healthy (232).jpg  \n",
            "  inflating: RiceLeafsDisease/train/healthy/healthy (233).jpg  \n",
            "  inflating: RiceLeafsDisease/train/healthy/healthy (234).jpg  \n",
            "  inflating: RiceLeafsDisease/train/healthy/healthy (235).jpg  \n",
            "  inflating: RiceLeafsDisease/train/healthy/healthy (236).jpg  \n",
            "  inflating: RiceLeafsDisease/train/healthy/healthy (237).jpg  \n",
            "  inflating: RiceLeafsDisease/train/healthy/healthy (238).jpg  \n",
            "  inflating: RiceLeafsDisease/train/healthy/healthy (239).jpg  \n",
            "  inflating: RiceLeafsDisease/train/healthy/healthy (24).jpg  \n",
            "  inflating: RiceLeafsDisease/train/healthy/healthy (240).jpg  \n",
            "  inflating: RiceLeafsDisease/train/healthy/healthy (241).jpg  \n",
            "  inflating: RiceLeafsDisease/train/healthy/healthy (242).jpg  \n",
            "  inflating: RiceLeafsDisease/train/healthy/healthy (243).jpg  \n",
            "  inflating: RiceLeafsDisease/train/healthy/healthy (244).jpg  \n",
            "  inflating: RiceLeafsDisease/train/healthy/healthy (245).jpg  \n",
            "  inflating: RiceLeafsDisease/train/healthy/healthy (246).jpg  \n",
            "  inflating: RiceLeafsDisease/train/healthy/healthy (247).jpg  \n",
            "  inflating: RiceLeafsDisease/train/healthy/healthy (248).jpg  \n",
            "  inflating: RiceLeafsDisease/train/healthy/healthy (249).jpg  \n",
            "  inflating: RiceLeafsDisease/train/healthy/healthy (25).jpg  \n",
            "  inflating: RiceLeafsDisease/train/healthy/healthy (250).jpg  \n",
            "  inflating: RiceLeafsDisease/train/healthy/healthy (251).jpg  \n",
            "  inflating: RiceLeafsDisease/train/healthy/healthy (252).jpg  \n",
            "  inflating: RiceLeafsDisease/train/healthy/healthy (253).jpg  \n",
            "  inflating: RiceLeafsDisease/train/healthy/healthy (254).jpg  \n",
            "  inflating: RiceLeafsDisease/train/healthy/healthy (255).jpg  \n",
            "  inflating: RiceLeafsDisease/train/healthy/healthy (256).jpg  \n",
            "  inflating: RiceLeafsDisease/train/healthy/healthy (257).jpg  \n",
            "  inflating: RiceLeafsDisease/train/healthy/healthy (258).jpg  \n",
            "  inflating: RiceLeafsDisease/train/healthy/healthy (259).jpg  \n",
            "  inflating: RiceLeafsDisease/train/healthy/healthy (26).jpg  \n",
            "  inflating: RiceLeafsDisease/train/healthy/healthy (260).jpg  \n",
            "  inflating: RiceLeafsDisease/train/healthy/healthy (261).jpg  \n",
            "  inflating: RiceLeafsDisease/train/healthy/healthy (262).jpg  \n",
            "  inflating: RiceLeafsDisease/train/healthy/healthy (263).jpg  \n",
            "  inflating: RiceLeafsDisease/train/healthy/healthy (264).jpg  \n",
            "  inflating: RiceLeafsDisease/train/healthy/healthy (265).jpg  \n",
            "  inflating: RiceLeafsDisease/train/healthy/healthy (266).jpg  \n",
            "  inflating: RiceLeafsDisease/train/healthy/healthy (267).jpg  \n",
            "  inflating: RiceLeafsDisease/train/healthy/healthy (268).jpg  \n",
            "  inflating: RiceLeafsDisease/train/healthy/healthy (269).jpg  \n",
            "  inflating: RiceLeafsDisease/train/healthy/healthy (27).jpg  \n",
            "  inflating: RiceLeafsDisease/train/healthy/healthy (270).jpg  \n",
            "  inflating: RiceLeafsDisease/train/healthy/healthy (271).jpg  \n",
            "  inflating: RiceLeafsDisease/train/healthy/healthy (272).jpg  \n",
            "  inflating: RiceLeafsDisease/train/healthy/healthy (273).jpg  \n",
            "  inflating: RiceLeafsDisease/train/healthy/healthy (274).jpg  \n",
            "  inflating: RiceLeafsDisease/train/healthy/healthy (275).jpg  \n",
            "  inflating: RiceLeafsDisease/train/healthy/healthy (276).jpg  \n",
            "  inflating: RiceLeafsDisease/train/healthy/healthy (277).jpg  \n",
            "  inflating: RiceLeafsDisease/train/healthy/healthy (278).jpg  \n",
            "  inflating: RiceLeafsDisease/train/healthy/healthy (279).jpg  \n",
            "  inflating: RiceLeafsDisease/train/healthy/healthy (28).jpg  \n",
            "  inflating: RiceLeafsDisease/train/healthy/healthy (280).jpg  \n",
            "  inflating: RiceLeafsDisease/train/healthy/healthy (281).jpg  \n",
            "  inflating: RiceLeafsDisease/train/healthy/healthy (282).jpg  \n",
            "  inflating: RiceLeafsDisease/train/healthy/healthy (283).jpg  \n",
            "  inflating: RiceLeafsDisease/train/healthy/healthy (284).jpg  \n",
            "  inflating: RiceLeafsDisease/train/healthy/healthy (285).jpg  \n",
            "  inflating: RiceLeafsDisease/train/healthy/healthy (286).jpg  \n",
            "  inflating: RiceLeafsDisease/train/healthy/healthy (287).jpg  \n",
            "  inflating: RiceLeafsDisease/train/healthy/healthy (288).jpg  \n",
            "  inflating: RiceLeafsDisease/train/healthy/healthy (289).jpg  \n",
            "  inflating: RiceLeafsDisease/train/healthy/healthy (29).jpg  \n",
            "  inflating: RiceLeafsDisease/train/healthy/healthy (290).jpg  \n",
            "  inflating: RiceLeafsDisease/train/healthy/healthy (291).jpg  \n",
            "  inflating: RiceLeafsDisease/train/healthy/healthy (292).jpg  \n",
            "  inflating: RiceLeafsDisease/train/healthy/healthy (293).jpg  \n",
            "  inflating: RiceLeafsDisease/train/healthy/healthy (294).jpg  \n",
            "  inflating: RiceLeafsDisease/train/healthy/healthy (295).jpg  \n",
            "  inflating: RiceLeafsDisease/train/healthy/healthy (296).jpg  \n",
            "  inflating: RiceLeafsDisease/train/healthy/healthy (297).jpg  \n",
            "  inflating: RiceLeafsDisease/train/healthy/healthy (298).jpg  \n",
            "  inflating: RiceLeafsDisease/train/healthy/healthy (299).jpg  \n",
            "  inflating: RiceLeafsDisease/train/healthy/healthy (3).jpg  \n",
            "  inflating: RiceLeafsDisease/train/healthy/healthy (30).jpg  \n",
            "  inflating: RiceLeafsDisease/train/healthy/healthy (300).jpg  \n",
            "  inflating: RiceLeafsDisease/train/healthy/healthy (301).jpg  \n",
            "  inflating: RiceLeafsDisease/train/healthy/healthy (302).jpg  \n",
            "  inflating: RiceLeafsDisease/train/healthy/healthy (303).jpg  \n",
            "  inflating: RiceLeafsDisease/train/healthy/healthy (304).jpg  \n",
            "  inflating: RiceLeafsDisease/train/healthy/healthy (305).jpg  \n",
            "  inflating: RiceLeafsDisease/train/healthy/healthy (306).jpg  \n",
            "  inflating: RiceLeafsDisease/train/healthy/healthy (307).jpg  \n",
            "  inflating: RiceLeafsDisease/train/healthy/healthy (308).jpg  \n",
            "  inflating: RiceLeafsDisease/train/healthy/healthy (309).jpg  \n",
            "  inflating: RiceLeafsDisease/train/healthy/healthy (31).jpg  \n",
            "  inflating: RiceLeafsDisease/train/healthy/healthy (310).jpg  \n",
            "  inflating: RiceLeafsDisease/train/healthy/healthy (311).jpg  \n",
            "  inflating: RiceLeafsDisease/train/healthy/healthy (312).jpg  \n",
            "  inflating: RiceLeafsDisease/train/healthy/healthy (313).jpg  \n",
            "  inflating: RiceLeafsDisease/train/healthy/healthy (314).jpg  \n",
            "  inflating: RiceLeafsDisease/train/healthy/healthy (315).jpg  \n",
            "  inflating: RiceLeafsDisease/train/healthy/healthy (316).jpg  \n",
            "  inflating: RiceLeafsDisease/train/healthy/healthy (317).jpg  \n",
            "  inflating: RiceLeafsDisease/train/healthy/healthy (318).jpg  \n",
            "  inflating: RiceLeafsDisease/train/healthy/healthy (319).jpg  \n",
            "  inflating: RiceLeafsDisease/train/healthy/healthy (32).jpg  \n",
            "  inflating: RiceLeafsDisease/train/healthy/healthy (320).jpg  \n",
            "  inflating: RiceLeafsDisease/train/healthy/healthy (321).jpg  \n",
            "  inflating: RiceLeafsDisease/train/healthy/healthy (322).jpg  \n",
            "  inflating: RiceLeafsDisease/train/healthy/healthy (323).jpg  \n",
            "  inflating: RiceLeafsDisease/train/healthy/healthy (324).jpg  \n",
            "  inflating: RiceLeafsDisease/train/healthy/healthy (325).jpg  \n",
            "  inflating: RiceLeafsDisease/train/healthy/healthy (326).jpg  \n",
            "  inflating: RiceLeafsDisease/train/healthy/healthy (327).jpg  \n",
            "  inflating: RiceLeafsDisease/train/healthy/healthy (328).jpg  \n",
            "  inflating: RiceLeafsDisease/train/healthy/healthy (329).jpg  \n",
            "  inflating: RiceLeafsDisease/train/healthy/healthy (33).jpg  \n",
            "  inflating: RiceLeafsDisease/train/healthy/healthy (330).jpg  \n",
            "  inflating: RiceLeafsDisease/train/healthy/healthy (331).jpg  \n",
            "  inflating: RiceLeafsDisease/train/healthy/healthy (332).jpg  \n",
            "  inflating: RiceLeafsDisease/train/healthy/healthy (333).jpg  \n",
            "  inflating: RiceLeafsDisease/train/healthy/healthy (334).jpg  \n",
            "  inflating: RiceLeafsDisease/train/healthy/healthy (335).jpg  \n",
            "  inflating: RiceLeafsDisease/train/healthy/healthy (336).jpg  \n",
            "  inflating: RiceLeafsDisease/train/healthy/healthy (337).jpg  \n",
            "  inflating: RiceLeafsDisease/train/healthy/healthy (338).jpg  \n",
            "  inflating: RiceLeafsDisease/train/healthy/healthy (339).jpg  \n",
            "  inflating: RiceLeafsDisease/train/healthy/healthy (34).jpg  \n",
            "  inflating: RiceLeafsDisease/train/healthy/healthy (340).jpg  \n",
            "  inflating: RiceLeafsDisease/train/healthy/healthy (341).jpg  \n",
            "  inflating: RiceLeafsDisease/train/healthy/healthy (342).jpg  \n",
            "  inflating: RiceLeafsDisease/train/healthy/healthy (343).jpg  \n",
            "  inflating: RiceLeafsDisease/train/healthy/healthy (344).jpg  \n",
            "  inflating: RiceLeafsDisease/train/healthy/healthy (345).jpg  \n",
            "  inflating: RiceLeafsDisease/train/healthy/healthy (346).jpg  \n",
            "  inflating: RiceLeafsDisease/train/healthy/healthy (347).jpg  \n",
            "  inflating: RiceLeafsDisease/train/healthy/healthy (348).jpg  \n",
            "  inflating: RiceLeafsDisease/train/healthy/healthy (349).jpg  \n",
            "  inflating: RiceLeafsDisease/train/healthy/healthy (35).jpg  \n",
            "  inflating: RiceLeafsDisease/train/healthy/healthy (350).jpg  \n",
            "  inflating: RiceLeafsDisease/train/healthy/healthy (36).jpg  \n",
            "  inflating: RiceLeafsDisease/train/healthy/healthy (37).jpg  \n",
            "  inflating: RiceLeafsDisease/train/healthy/healthy (38).jpg  \n",
            "  inflating: RiceLeafsDisease/train/healthy/healthy (39).jpg  \n",
            "  inflating: RiceLeafsDisease/train/healthy/healthy (4).jpg  \n",
            "  inflating: RiceLeafsDisease/train/healthy/healthy (40).jpg  \n",
            "  inflating: RiceLeafsDisease/train/healthy/healthy (41).jpg  \n",
            "  inflating: RiceLeafsDisease/train/healthy/healthy (42).jpg  \n",
            "  inflating: RiceLeafsDisease/train/healthy/healthy (43).jpg  \n",
            "  inflating: RiceLeafsDisease/train/healthy/healthy (44).jpg  \n",
            "  inflating: RiceLeafsDisease/train/healthy/healthy (45).jpg  \n",
            "  inflating: RiceLeafsDisease/train/healthy/healthy (46).jpg  \n",
            "  inflating: RiceLeafsDisease/train/healthy/healthy (47).jpg  \n",
            "  inflating: RiceLeafsDisease/train/healthy/healthy (48).jpg  \n",
            "  inflating: RiceLeafsDisease/train/healthy/healthy (49).jpg  \n",
            "  inflating: RiceLeafsDisease/train/healthy/healthy (5).jpg  \n",
            "  inflating: RiceLeafsDisease/train/healthy/healthy (50).jpg  \n",
            "  inflating: RiceLeafsDisease/train/healthy/healthy (51).jpg  \n",
            "  inflating: RiceLeafsDisease/train/healthy/healthy (52).jpg  \n",
            "  inflating: RiceLeafsDisease/train/healthy/healthy (53).jpg  \n",
            "  inflating: RiceLeafsDisease/train/healthy/healthy (54).jpg  \n",
            "  inflating: RiceLeafsDisease/train/healthy/healthy (55).jpg  \n",
            "  inflating: RiceLeafsDisease/train/healthy/healthy (56).jpg  \n",
            "  inflating: RiceLeafsDisease/train/healthy/healthy (57).jpg  \n",
            "  inflating: RiceLeafsDisease/train/healthy/healthy (58).jpg  \n",
            "  inflating: RiceLeafsDisease/train/healthy/healthy (59).jpg  \n",
            "  inflating: RiceLeafsDisease/train/healthy/healthy (6).jpg  \n",
            "  inflating: RiceLeafsDisease/train/healthy/healthy (60).jpg  \n",
            "  inflating: RiceLeafsDisease/train/healthy/healthy (61).jpg  \n",
            "  inflating: RiceLeafsDisease/train/healthy/healthy (62).jpg  \n",
            "  inflating: RiceLeafsDisease/train/healthy/healthy (63).jpg  \n",
            "  inflating: RiceLeafsDisease/train/healthy/healthy (64).jpg  \n",
            "  inflating: RiceLeafsDisease/train/healthy/healthy (65).jpg  \n",
            "  inflating: RiceLeafsDisease/train/healthy/healthy (66).jpg  \n",
            "  inflating: RiceLeafsDisease/train/healthy/healthy (67).jpg  \n",
            "  inflating: RiceLeafsDisease/train/healthy/healthy (68).jpg  \n",
            "  inflating: RiceLeafsDisease/train/healthy/healthy (69).jpg  \n",
            "  inflating: RiceLeafsDisease/train/healthy/healthy (7).jpg  \n",
            "  inflating: RiceLeafsDisease/train/healthy/healthy (70).jpg  \n",
            "  inflating: RiceLeafsDisease/train/healthy/healthy (71).jpg  \n",
            "  inflating: RiceLeafsDisease/train/healthy/healthy (72).jpg  \n",
            "  inflating: RiceLeafsDisease/train/healthy/healthy (73).jpg  \n",
            "  inflating: RiceLeafsDisease/train/healthy/healthy (74).jpg  \n",
            "  inflating: RiceLeafsDisease/train/healthy/healthy (75).jpg  \n",
            "  inflating: RiceLeafsDisease/train/healthy/healthy (76).jpg  \n",
            "  inflating: RiceLeafsDisease/train/healthy/healthy (77).jpg  \n",
            "  inflating: RiceLeafsDisease/train/healthy/healthy (78).jpg  \n",
            "  inflating: RiceLeafsDisease/train/healthy/healthy (79).jpg  \n",
            "  inflating: RiceLeafsDisease/train/healthy/healthy (8).jpg  \n",
            "  inflating: RiceLeafsDisease/train/healthy/healthy (80).jpg  \n",
            "  inflating: RiceLeafsDisease/train/healthy/healthy (81).jpg  \n",
            "  inflating: RiceLeafsDisease/train/healthy/healthy (82).jpg  \n",
            "  inflating: RiceLeafsDisease/train/healthy/healthy (83).jpg  \n",
            "  inflating: RiceLeafsDisease/train/healthy/healthy (84).jpg  \n",
            "  inflating: RiceLeafsDisease/train/healthy/healthy (85).jpg  \n",
            "  inflating: RiceLeafsDisease/train/healthy/healthy (86).jpg  \n",
            "  inflating: RiceLeafsDisease/train/healthy/healthy (87).jpg  \n",
            "  inflating: RiceLeafsDisease/train/healthy/healthy (88).jpg  \n",
            "  inflating: RiceLeafsDisease/train/healthy/healthy (89).jpg  \n",
            "  inflating: RiceLeafsDisease/train/healthy/healthy (9).jpg  \n",
            "  inflating: RiceLeafsDisease/train/healthy/healthy (90).jpg  \n",
            "  inflating: RiceLeafsDisease/train/healthy/healthy (91).jpg  \n",
            "  inflating: RiceLeafsDisease/train/healthy/healthy (92).jpg  \n",
            "  inflating: RiceLeafsDisease/train/healthy/healthy (93).jpg  \n",
            "  inflating: RiceLeafsDisease/train/healthy/healthy (94).jpg  \n",
            "  inflating: RiceLeafsDisease/train/healthy/healthy (95).jpg  \n",
            "  inflating: RiceLeafsDisease/train/healthy/healthy (96).jpg  \n",
            "  inflating: RiceLeafsDisease/train/healthy/healthy (97).jpg  \n",
            "  inflating: RiceLeafsDisease/train/healthy/healthy (98).jpg  \n",
            "  inflating: RiceLeafsDisease/train/healthy/healthy (99).jpg  \n",
            "  inflating: RiceLeafsDisease/train/leaf_blast/leaf_blast (1).jpg  \n",
            "  inflating: RiceLeafsDisease/train/leaf_blast/leaf_blast (10).jpg  \n",
            "  inflating: RiceLeafsDisease/train/leaf_blast/leaf_blast (100).jpg  \n",
            "  inflating: RiceLeafsDisease/train/leaf_blast/leaf_blast (101).jpg  \n",
            "  inflating: RiceLeafsDisease/train/leaf_blast/leaf_blast (102).jpg  \n",
            "  inflating: RiceLeafsDisease/train/leaf_blast/leaf_blast (103).jpg  \n",
            "  inflating: RiceLeafsDisease/train/leaf_blast/leaf_blast (104).jpg  \n",
            "  inflating: RiceLeafsDisease/train/leaf_blast/leaf_blast (105).jpg  \n",
            "  inflating: RiceLeafsDisease/train/leaf_blast/leaf_blast (106).jpg  \n",
            "  inflating: RiceLeafsDisease/train/leaf_blast/leaf_blast (107).jpg  \n",
            "  inflating: RiceLeafsDisease/train/leaf_blast/leaf_blast (108).jpg  \n",
            "  inflating: RiceLeafsDisease/train/leaf_blast/leaf_blast (109).jpg  \n",
            "  inflating: RiceLeafsDisease/train/leaf_blast/leaf_blast (11).jpg  \n",
            "  inflating: RiceLeafsDisease/train/leaf_blast/leaf_blast (110).jpg  \n",
            "  inflating: RiceLeafsDisease/train/leaf_blast/leaf_blast (111).jpg  \n",
            "  inflating: RiceLeafsDisease/train/leaf_blast/leaf_blast (112).jpg  \n",
            "  inflating: RiceLeafsDisease/train/leaf_blast/leaf_blast (113).jpg  \n",
            "  inflating: RiceLeafsDisease/train/leaf_blast/leaf_blast (114).jpg  \n",
            "  inflating: RiceLeafsDisease/train/leaf_blast/leaf_blast (115).jpg  \n",
            "  inflating: RiceLeafsDisease/train/leaf_blast/leaf_blast (116).jpg  \n",
            "  inflating: RiceLeafsDisease/train/leaf_blast/leaf_blast (117).jpg  \n",
            "  inflating: RiceLeafsDisease/train/leaf_blast/leaf_blast (118).jpg  \n",
            "  inflating: RiceLeafsDisease/train/leaf_blast/leaf_blast (119).jpg  \n",
            "  inflating: RiceLeafsDisease/train/leaf_blast/leaf_blast (12).jpg  \n",
            "  inflating: RiceLeafsDisease/train/leaf_blast/leaf_blast (120).jpg  \n",
            "  inflating: RiceLeafsDisease/train/leaf_blast/leaf_blast (121).jpg  \n",
            "  inflating: RiceLeafsDisease/train/leaf_blast/leaf_blast (122).jpg  \n",
            "  inflating: RiceLeafsDisease/train/leaf_blast/leaf_blast (123).jpg  \n",
            "  inflating: RiceLeafsDisease/train/leaf_blast/leaf_blast (124).jpg  \n",
            "  inflating: RiceLeafsDisease/train/leaf_blast/leaf_blast (125).jpg  \n",
            "  inflating: RiceLeafsDisease/train/leaf_blast/leaf_blast (126).jpg  \n",
            "  inflating: RiceLeafsDisease/train/leaf_blast/leaf_blast (127).jpg  \n",
            "  inflating: RiceLeafsDisease/train/leaf_blast/leaf_blast (128).jpg  \n",
            "  inflating: RiceLeafsDisease/train/leaf_blast/leaf_blast (129).jpg  \n",
            "  inflating: RiceLeafsDisease/train/leaf_blast/leaf_blast (13).jpg  \n",
            "  inflating: RiceLeafsDisease/train/leaf_blast/leaf_blast (130).jpg  \n",
            "  inflating: RiceLeafsDisease/train/leaf_blast/leaf_blast (131).jpg  \n",
            "  inflating: RiceLeafsDisease/train/leaf_blast/leaf_blast (132).jpg  \n",
            "  inflating: RiceLeafsDisease/train/leaf_blast/leaf_blast (133).jpg  \n",
            "  inflating: RiceLeafsDisease/train/leaf_blast/leaf_blast (134).jpg  \n",
            "  inflating: RiceLeafsDisease/train/leaf_blast/leaf_blast (135).jpg  \n",
            "  inflating: RiceLeafsDisease/train/leaf_blast/leaf_blast (136).jpg  \n",
            "  inflating: RiceLeafsDisease/train/leaf_blast/leaf_blast (137).jpg  \n",
            "  inflating: RiceLeafsDisease/train/leaf_blast/leaf_blast (138).jpg  \n",
            "  inflating: RiceLeafsDisease/train/leaf_blast/leaf_blast (139).jpg  \n",
            "  inflating: RiceLeafsDisease/train/leaf_blast/leaf_blast (14).jpg  \n",
            "  inflating: RiceLeafsDisease/train/leaf_blast/leaf_blast (140).jpg  \n",
            "  inflating: RiceLeafsDisease/train/leaf_blast/leaf_blast (141).jpg  \n",
            "  inflating: RiceLeafsDisease/train/leaf_blast/leaf_blast (142).jpg  \n",
            "  inflating: RiceLeafsDisease/train/leaf_blast/leaf_blast (143).jpg  \n",
            "  inflating: RiceLeafsDisease/train/leaf_blast/leaf_blast (144).jpg  \n",
            "  inflating: RiceLeafsDisease/train/leaf_blast/leaf_blast (145).jpg  \n",
            "  inflating: RiceLeafsDisease/train/leaf_blast/leaf_blast (146).jpg  \n",
            "  inflating: RiceLeafsDisease/train/leaf_blast/leaf_blast (147).jpg  \n",
            "  inflating: RiceLeafsDisease/train/leaf_blast/leaf_blast (148).jpg  \n",
            "  inflating: RiceLeafsDisease/train/leaf_blast/leaf_blast (149).jpg  \n",
            "  inflating: RiceLeafsDisease/train/leaf_blast/leaf_blast (15).jpg  \n",
            "  inflating: RiceLeafsDisease/train/leaf_blast/leaf_blast (150).jpg  \n",
            "  inflating: RiceLeafsDisease/train/leaf_blast/leaf_blast (151).jpg  \n",
            "  inflating: RiceLeafsDisease/train/leaf_blast/leaf_blast (152).jpg  \n",
            "  inflating: RiceLeafsDisease/train/leaf_blast/leaf_blast (153).jpg  \n",
            "  inflating: RiceLeafsDisease/train/leaf_blast/leaf_blast (154).jpg  \n",
            "  inflating: RiceLeafsDisease/train/leaf_blast/leaf_blast (155).jpg  \n",
            "  inflating: RiceLeafsDisease/train/leaf_blast/leaf_blast (156).jpg  \n",
            "  inflating: RiceLeafsDisease/train/leaf_blast/leaf_blast (157).jpg  \n",
            "  inflating: RiceLeafsDisease/train/leaf_blast/leaf_blast (158).jpg  \n",
            "  inflating: RiceLeafsDisease/train/leaf_blast/leaf_blast (159).jpg  \n",
            "  inflating: RiceLeafsDisease/train/leaf_blast/leaf_blast (16).jpg  \n",
            "  inflating: RiceLeafsDisease/train/leaf_blast/leaf_blast (160).jpg  \n",
            "  inflating: RiceLeafsDisease/train/leaf_blast/leaf_blast (161).jpg  \n",
            "  inflating: RiceLeafsDisease/train/leaf_blast/leaf_blast (162).jpg  \n",
            "  inflating: RiceLeafsDisease/train/leaf_blast/leaf_blast (163).jpg  \n",
            "  inflating: RiceLeafsDisease/train/leaf_blast/leaf_blast (164).jpg  \n",
            "  inflating: RiceLeafsDisease/train/leaf_blast/leaf_blast (165).jpg  \n",
            "  inflating: RiceLeafsDisease/train/leaf_blast/leaf_blast (166).jpg  \n",
            "  inflating: RiceLeafsDisease/train/leaf_blast/leaf_blast (167).jpg  \n",
            "  inflating: RiceLeafsDisease/train/leaf_blast/leaf_blast (168).jpg  \n",
            "  inflating: RiceLeafsDisease/train/leaf_blast/leaf_blast (169).jpg  \n",
            "  inflating: RiceLeafsDisease/train/leaf_blast/leaf_blast (17).jpg  \n",
            "  inflating: RiceLeafsDisease/train/leaf_blast/leaf_blast (170).jpg  \n",
            "  inflating: RiceLeafsDisease/train/leaf_blast/leaf_blast (171).jpg  \n",
            "  inflating: RiceLeafsDisease/train/leaf_blast/leaf_blast (172).jpg  \n",
            "  inflating: RiceLeafsDisease/train/leaf_blast/leaf_blast (173).jpg  \n",
            "  inflating: RiceLeafsDisease/train/leaf_blast/leaf_blast (174).jpg  \n",
            "  inflating: RiceLeafsDisease/train/leaf_blast/leaf_blast (175).jpg  \n",
            "  inflating: RiceLeafsDisease/train/leaf_blast/leaf_blast (176).jpg  \n",
            "  inflating: RiceLeafsDisease/train/leaf_blast/leaf_blast (177).jpg  \n",
            "  inflating: RiceLeafsDisease/train/leaf_blast/leaf_blast (178).jpg  \n",
            "  inflating: RiceLeafsDisease/train/leaf_blast/leaf_blast (179).jpg  \n",
            "  inflating: RiceLeafsDisease/train/leaf_blast/leaf_blast (18).jpg  \n",
            "  inflating: RiceLeafsDisease/train/leaf_blast/leaf_blast (180).jpg  \n",
            "  inflating: RiceLeafsDisease/train/leaf_blast/leaf_blast (181).jpg  \n",
            "  inflating: RiceLeafsDisease/train/leaf_blast/leaf_blast (182).jpg  \n",
            "  inflating: RiceLeafsDisease/train/leaf_blast/leaf_blast (183).jpg  \n",
            "  inflating: RiceLeafsDisease/train/leaf_blast/leaf_blast (184).jpg  \n",
            "  inflating: RiceLeafsDisease/train/leaf_blast/leaf_blast (185).jpg  \n",
            "  inflating: RiceLeafsDisease/train/leaf_blast/leaf_blast (186).jpg  \n",
            "  inflating: RiceLeafsDisease/train/leaf_blast/leaf_blast (187).jpg  \n",
            "  inflating: RiceLeafsDisease/train/leaf_blast/leaf_blast (188).jpg  \n",
            "  inflating: RiceLeafsDisease/train/leaf_blast/leaf_blast (189).jpg  \n",
            "  inflating: RiceLeafsDisease/train/leaf_blast/leaf_blast (19).jpg  \n",
            "  inflating: RiceLeafsDisease/train/leaf_blast/leaf_blast (190).jpg  \n",
            "  inflating: RiceLeafsDisease/train/leaf_blast/leaf_blast (191).jpg  \n",
            "  inflating: RiceLeafsDisease/train/leaf_blast/leaf_blast (192).jpg  \n",
            "  inflating: RiceLeafsDisease/train/leaf_blast/leaf_blast (193).jpg  \n",
            "  inflating: RiceLeafsDisease/train/leaf_blast/leaf_blast (194).jpg  \n",
            "  inflating: RiceLeafsDisease/train/leaf_blast/leaf_blast (195).jpg  \n",
            "  inflating: RiceLeafsDisease/train/leaf_blast/leaf_blast (196).jpg  \n",
            "  inflating: RiceLeafsDisease/train/leaf_blast/leaf_blast (197).jpg  \n",
            "  inflating: RiceLeafsDisease/train/leaf_blast/leaf_blast (198).jpg  \n",
            "  inflating: RiceLeafsDisease/train/leaf_blast/leaf_blast (199).jpg  \n",
            "  inflating: RiceLeafsDisease/train/leaf_blast/leaf_blast (2).jpg  \n",
            "  inflating: RiceLeafsDisease/train/leaf_blast/leaf_blast (20).jpg  \n",
            "  inflating: RiceLeafsDisease/train/leaf_blast/leaf_blast (200).jpg  \n",
            "  inflating: RiceLeafsDisease/train/leaf_blast/leaf_blast (201).jpg  \n",
            "  inflating: RiceLeafsDisease/train/leaf_blast/leaf_blast (202).jpg  \n",
            "  inflating: RiceLeafsDisease/train/leaf_blast/leaf_blast (203).jpg  \n",
            "  inflating: RiceLeafsDisease/train/leaf_blast/leaf_blast (204).jpg  \n",
            "  inflating: RiceLeafsDisease/train/leaf_blast/leaf_blast (205).jpg  \n",
            "  inflating: RiceLeafsDisease/train/leaf_blast/leaf_blast (206).jpg  \n",
            "  inflating: RiceLeafsDisease/train/leaf_blast/leaf_blast (207).jpg  \n",
            "  inflating: RiceLeafsDisease/train/leaf_blast/leaf_blast (208).jpg  \n",
            "  inflating: RiceLeafsDisease/train/leaf_blast/leaf_blast (209).jpg  \n",
            "  inflating: RiceLeafsDisease/train/leaf_blast/leaf_blast (21).jpg  \n",
            "  inflating: RiceLeafsDisease/train/leaf_blast/leaf_blast (210).jpg  \n",
            "  inflating: RiceLeafsDisease/train/leaf_blast/leaf_blast (211).jpg  \n",
            "  inflating: RiceLeafsDisease/train/leaf_blast/leaf_blast (212).jpg  \n",
            "  inflating: RiceLeafsDisease/train/leaf_blast/leaf_blast (213).jpg  \n",
            "  inflating: RiceLeafsDisease/train/leaf_blast/leaf_blast (214).jpg  \n",
            "  inflating: RiceLeafsDisease/train/leaf_blast/leaf_blast (215).jpg  \n",
            "  inflating: RiceLeafsDisease/train/leaf_blast/leaf_blast (216).jpg  \n",
            "  inflating: RiceLeafsDisease/train/leaf_blast/leaf_blast (217).jpg  \n",
            "  inflating: RiceLeafsDisease/train/leaf_blast/leaf_blast (218).jpg  \n",
            "  inflating: RiceLeafsDisease/train/leaf_blast/leaf_blast (219).jpg  \n",
            "  inflating: RiceLeafsDisease/train/leaf_blast/leaf_blast (22).jpg  \n",
            "  inflating: RiceLeafsDisease/train/leaf_blast/leaf_blast (220).jpg  \n",
            "  inflating: RiceLeafsDisease/train/leaf_blast/leaf_blast (221).jpg  \n",
            "  inflating: RiceLeafsDisease/train/leaf_blast/leaf_blast (222).jpg  \n",
            "  inflating: RiceLeafsDisease/train/leaf_blast/leaf_blast (223).jpg  \n",
            "  inflating: RiceLeafsDisease/train/leaf_blast/leaf_blast (224).jpg  \n",
            "  inflating: RiceLeafsDisease/train/leaf_blast/leaf_blast (225).jpg  \n",
            "  inflating: RiceLeafsDisease/train/leaf_blast/leaf_blast (226).jpg  \n",
            "  inflating: RiceLeafsDisease/train/leaf_blast/leaf_blast (227).jpg  \n",
            "  inflating: RiceLeafsDisease/train/leaf_blast/leaf_blast (228).jpg  \n",
            "  inflating: RiceLeafsDisease/train/leaf_blast/leaf_blast (229).jpg  \n",
            "  inflating: RiceLeafsDisease/train/leaf_blast/leaf_blast (23).jpg  \n",
            "  inflating: RiceLeafsDisease/train/leaf_blast/leaf_blast (230).jpg  \n",
            "  inflating: RiceLeafsDisease/train/leaf_blast/leaf_blast (231).jpg  \n",
            "  inflating: RiceLeafsDisease/train/leaf_blast/leaf_blast (232).jpg  \n",
            "  inflating: RiceLeafsDisease/train/leaf_blast/leaf_blast (233).jpg  \n",
            "  inflating: RiceLeafsDisease/train/leaf_blast/leaf_blast (234).jpg  \n",
            "  inflating: RiceLeafsDisease/train/leaf_blast/leaf_blast (235).jpg  \n",
            "  inflating: RiceLeafsDisease/train/leaf_blast/leaf_blast (236).jpg  \n",
            "  inflating: RiceLeafsDisease/train/leaf_blast/leaf_blast (237).jpg  \n",
            "  inflating: RiceLeafsDisease/train/leaf_blast/leaf_blast (238).jpg  \n",
            "  inflating: RiceLeafsDisease/train/leaf_blast/leaf_blast (239).jpg  \n",
            "  inflating: RiceLeafsDisease/train/leaf_blast/leaf_blast (24).jpg  \n",
            "  inflating: RiceLeafsDisease/train/leaf_blast/leaf_blast (240).jpg  \n",
            "  inflating: RiceLeafsDisease/train/leaf_blast/leaf_blast (241).jpg  \n",
            "  inflating: RiceLeafsDisease/train/leaf_blast/leaf_blast (242).jpg  \n",
            "  inflating: RiceLeafsDisease/train/leaf_blast/leaf_blast (243).jpg  \n",
            "  inflating: RiceLeafsDisease/train/leaf_blast/leaf_blast (244).jpg  \n",
            "  inflating: RiceLeafsDisease/train/leaf_blast/leaf_blast (245).jpg  \n",
            "  inflating: RiceLeafsDisease/train/leaf_blast/leaf_blast (246).jpg  \n",
            "  inflating: RiceLeafsDisease/train/leaf_blast/leaf_blast (247).jpg  \n",
            "  inflating: RiceLeafsDisease/train/leaf_blast/leaf_blast (248).jpg  \n",
            "  inflating: RiceLeafsDisease/train/leaf_blast/leaf_blast (249).jpg  \n",
            "  inflating: RiceLeafsDisease/train/leaf_blast/leaf_blast (25).jpg  \n",
            "  inflating: RiceLeafsDisease/train/leaf_blast/leaf_blast (250).jpg  \n",
            "  inflating: RiceLeafsDisease/train/leaf_blast/leaf_blast (251).jpg  \n",
            "  inflating: RiceLeafsDisease/train/leaf_blast/leaf_blast (252).jpg  \n",
            "  inflating: RiceLeafsDisease/train/leaf_blast/leaf_blast (253).jpg  \n",
            "  inflating: RiceLeafsDisease/train/leaf_blast/leaf_blast (254).jpg  \n",
            "  inflating: RiceLeafsDisease/train/leaf_blast/leaf_blast (255).jpg  \n",
            "  inflating: RiceLeafsDisease/train/leaf_blast/leaf_blast (256).jpg  \n",
            "  inflating: RiceLeafsDisease/train/leaf_blast/leaf_blast (257).jpg  \n",
            "  inflating: RiceLeafsDisease/train/leaf_blast/leaf_blast (258).jpg  \n",
            "  inflating: RiceLeafsDisease/train/leaf_blast/leaf_blast (259).jpg  \n",
            "  inflating: RiceLeafsDisease/train/leaf_blast/leaf_blast (26).jpg  \n",
            "  inflating: RiceLeafsDisease/train/leaf_blast/leaf_blast (260).jpg  \n",
            "  inflating: RiceLeafsDisease/train/leaf_blast/leaf_blast (261).jpg  \n",
            "  inflating: RiceLeafsDisease/train/leaf_blast/leaf_blast (262).jpg  \n",
            "  inflating: RiceLeafsDisease/train/leaf_blast/leaf_blast (263).jpg  \n",
            "  inflating: RiceLeafsDisease/train/leaf_blast/leaf_blast (264).jpg  \n",
            "  inflating: RiceLeafsDisease/train/leaf_blast/leaf_blast (265).jpg  \n",
            "  inflating: RiceLeafsDisease/train/leaf_blast/leaf_blast (266).jpg  \n",
            "  inflating: RiceLeafsDisease/train/leaf_blast/leaf_blast (267).jpg  \n",
            "  inflating: RiceLeafsDisease/train/leaf_blast/leaf_blast (268).jpg  \n",
            "  inflating: RiceLeafsDisease/train/leaf_blast/leaf_blast (269).jpg  \n",
            "  inflating: RiceLeafsDisease/train/leaf_blast/leaf_blast (27).jpg  \n",
            "  inflating: RiceLeafsDisease/train/leaf_blast/leaf_blast (270).jpg  \n",
            "  inflating: RiceLeafsDisease/train/leaf_blast/leaf_blast (271).jpg  \n",
            "  inflating: RiceLeafsDisease/train/leaf_blast/leaf_blast (272).jpg  \n",
            "  inflating: RiceLeafsDisease/train/leaf_blast/leaf_blast (273).jpg  \n",
            "  inflating: RiceLeafsDisease/train/leaf_blast/leaf_blast (274).jpg  \n",
            "  inflating: RiceLeafsDisease/train/leaf_blast/leaf_blast (275).jpg  \n",
            "  inflating: RiceLeafsDisease/train/leaf_blast/leaf_blast (276).jpg  \n",
            "  inflating: RiceLeafsDisease/train/leaf_blast/leaf_blast (277).jpg  \n",
            "  inflating: RiceLeafsDisease/train/leaf_blast/leaf_blast (278).jpg  \n",
            "  inflating: RiceLeafsDisease/train/leaf_blast/leaf_blast (279).jpg  \n",
            "  inflating: RiceLeafsDisease/train/leaf_blast/leaf_blast (28).jpg  \n",
            "  inflating: RiceLeafsDisease/train/leaf_blast/leaf_blast (280).jpg  \n",
            "  inflating: RiceLeafsDisease/train/leaf_blast/leaf_blast (281).jpg  \n",
            "  inflating: RiceLeafsDisease/train/leaf_blast/leaf_blast (282).jpg  \n",
            "  inflating: RiceLeafsDisease/train/leaf_blast/leaf_blast (283).jpg  \n",
            "  inflating: RiceLeafsDisease/train/leaf_blast/leaf_blast (284).jpg  \n",
            "  inflating: RiceLeafsDisease/train/leaf_blast/leaf_blast (285).jpg  \n",
            "  inflating: RiceLeafsDisease/train/leaf_blast/leaf_blast (286).jpg  \n",
            "  inflating: RiceLeafsDisease/train/leaf_blast/leaf_blast (287).jpg  \n",
            "  inflating: RiceLeafsDisease/train/leaf_blast/leaf_blast (288).jpg  \n",
            "  inflating: RiceLeafsDisease/train/leaf_blast/leaf_blast (289).jpg  \n",
            "  inflating: RiceLeafsDisease/train/leaf_blast/leaf_blast (29).jpg  \n",
            "  inflating: RiceLeafsDisease/train/leaf_blast/leaf_blast (290).jpg  \n",
            "  inflating: RiceLeafsDisease/train/leaf_blast/leaf_blast (291).jpg  \n",
            "  inflating: RiceLeafsDisease/train/leaf_blast/leaf_blast (292).jpg  \n",
            "  inflating: RiceLeafsDisease/train/leaf_blast/leaf_blast (293).jpg  \n",
            "  inflating: RiceLeafsDisease/train/leaf_blast/leaf_blast (294).jpg  \n",
            "  inflating: RiceLeafsDisease/train/leaf_blast/leaf_blast (295).jpg  \n",
            "  inflating: RiceLeafsDisease/train/leaf_blast/leaf_blast (296).jpg  \n",
            "  inflating: RiceLeafsDisease/train/leaf_blast/leaf_blast (297).jpg  \n",
            "  inflating: RiceLeafsDisease/train/leaf_blast/leaf_blast (298).jpg  \n",
            "  inflating: RiceLeafsDisease/train/leaf_blast/leaf_blast (299).jpg  \n",
            "  inflating: RiceLeafsDisease/train/leaf_blast/leaf_blast (3).jpg  \n",
            "  inflating: RiceLeafsDisease/train/leaf_blast/leaf_blast (30).jpg  \n",
            "  inflating: RiceLeafsDisease/train/leaf_blast/leaf_blast (300).jpg  \n",
            "  inflating: RiceLeafsDisease/train/leaf_blast/leaf_blast (301).jpg  \n",
            "  inflating: RiceLeafsDisease/train/leaf_blast/leaf_blast (302).jpg  \n",
            "  inflating: RiceLeafsDisease/train/leaf_blast/leaf_blast (303).jpg  \n",
            "  inflating: RiceLeafsDisease/train/leaf_blast/leaf_blast (304).jpg  \n",
            "  inflating: RiceLeafsDisease/train/leaf_blast/leaf_blast (305).jpg  \n",
            "  inflating: RiceLeafsDisease/train/leaf_blast/leaf_blast (306).jpg  \n",
            "  inflating: RiceLeafsDisease/train/leaf_blast/leaf_blast (307).jpg  \n",
            "  inflating: RiceLeafsDisease/train/leaf_blast/leaf_blast (308).jpg  \n",
            "  inflating: RiceLeafsDisease/train/leaf_blast/leaf_blast (309).jpg  \n",
            "  inflating: RiceLeafsDisease/train/leaf_blast/leaf_blast (31).jpg  \n",
            "  inflating: RiceLeafsDisease/train/leaf_blast/leaf_blast (310).jpg  \n",
            "  inflating: RiceLeafsDisease/train/leaf_blast/leaf_blast (311).jpg  \n",
            "  inflating: RiceLeafsDisease/train/leaf_blast/leaf_blast (312).jpg  \n",
            "  inflating: RiceLeafsDisease/train/leaf_blast/leaf_blast (313).jpg  \n",
            "  inflating: RiceLeafsDisease/train/leaf_blast/leaf_blast (314).jpg  \n",
            "  inflating: RiceLeafsDisease/train/leaf_blast/leaf_blast (315).jpg  \n",
            "  inflating: RiceLeafsDisease/train/leaf_blast/leaf_blast (316).jpg  \n",
            "  inflating: RiceLeafsDisease/train/leaf_blast/leaf_blast (317).jpg  \n",
            "  inflating: RiceLeafsDisease/train/leaf_blast/leaf_blast (318).jpg  \n",
            "  inflating: RiceLeafsDisease/train/leaf_blast/leaf_blast (319).jpg  \n",
            "  inflating: RiceLeafsDisease/train/leaf_blast/leaf_blast (32).jpg  \n",
            "  inflating: RiceLeafsDisease/train/leaf_blast/leaf_blast (320).jpg  \n",
            "  inflating: RiceLeafsDisease/train/leaf_blast/leaf_blast (321).jpg  \n",
            "  inflating: RiceLeafsDisease/train/leaf_blast/leaf_blast (322).jpg  \n",
            "  inflating: RiceLeafsDisease/train/leaf_blast/leaf_blast (323).jpg  \n",
            "  inflating: RiceLeafsDisease/train/leaf_blast/leaf_blast (324).jpg  \n",
            "  inflating: RiceLeafsDisease/train/leaf_blast/leaf_blast (325).jpg  \n",
            "  inflating: RiceLeafsDisease/train/leaf_blast/leaf_blast (326).jpg  \n",
            "  inflating: RiceLeafsDisease/train/leaf_blast/leaf_blast (327).jpg  \n",
            "  inflating: RiceLeafsDisease/train/leaf_blast/leaf_blast (328).jpg  \n",
            "  inflating: RiceLeafsDisease/train/leaf_blast/leaf_blast (329).jpg  \n",
            "  inflating: RiceLeafsDisease/train/leaf_blast/leaf_blast (33).jpg  \n",
            "  inflating: RiceLeafsDisease/train/leaf_blast/leaf_blast (330).jpg  \n",
            "  inflating: RiceLeafsDisease/train/leaf_blast/leaf_blast (331).jpg  \n",
            "  inflating: RiceLeafsDisease/train/leaf_blast/leaf_blast (332).jpg  \n",
            "  inflating: RiceLeafsDisease/train/leaf_blast/leaf_blast (333).jpg  \n",
            "  inflating: RiceLeafsDisease/train/leaf_blast/leaf_blast (334).jpg  \n",
            "  inflating: RiceLeafsDisease/train/leaf_blast/leaf_blast (335).jpg  \n",
            "  inflating: RiceLeafsDisease/train/leaf_blast/leaf_blast (336).jpg  \n",
            "  inflating: RiceLeafsDisease/train/leaf_blast/leaf_blast (337).jpg  \n",
            "  inflating: RiceLeafsDisease/train/leaf_blast/leaf_blast (338).jpg  \n",
            "  inflating: RiceLeafsDisease/train/leaf_blast/leaf_blast (339).jpg  \n",
            "  inflating: RiceLeafsDisease/train/leaf_blast/leaf_blast (34).jpg  \n",
            "  inflating: RiceLeafsDisease/train/leaf_blast/leaf_blast (340).jpg  \n",
            "  inflating: RiceLeafsDisease/train/leaf_blast/leaf_blast (341).jpg  \n",
            "  inflating: RiceLeafsDisease/train/leaf_blast/leaf_blast (342).jpg  \n",
            "  inflating: RiceLeafsDisease/train/leaf_blast/leaf_blast (343).jpg  \n",
            "  inflating: RiceLeafsDisease/train/leaf_blast/leaf_blast (344).jpg  \n",
            "  inflating: RiceLeafsDisease/train/leaf_blast/leaf_blast (345).jpg  \n",
            "  inflating: RiceLeafsDisease/train/leaf_blast/leaf_blast (346).jpg  \n",
            "  inflating: RiceLeafsDisease/train/leaf_blast/leaf_blast (347).jpg  \n",
            "  inflating: RiceLeafsDisease/train/leaf_blast/leaf_blast (348).jpg  \n",
            "  inflating: RiceLeafsDisease/train/leaf_blast/leaf_blast (349).jpg  \n",
            "  inflating: RiceLeafsDisease/train/leaf_blast/leaf_blast (35).jpg  \n",
            "  inflating: RiceLeafsDisease/train/leaf_blast/leaf_blast (350).jpg  \n",
            "  inflating: RiceLeafsDisease/train/leaf_blast/leaf_blast (36).jpg  \n",
            "  inflating: RiceLeafsDisease/train/leaf_blast/leaf_blast (37).jpg  \n",
            "  inflating: RiceLeafsDisease/train/leaf_blast/leaf_blast (38).jpg  \n",
            "  inflating: RiceLeafsDisease/train/leaf_blast/leaf_blast (39).jpg  \n",
            "  inflating: RiceLeafsDisease/train/leaf_blast/leaf_blast (4).jpg  \n",
            "  inflating: RiceLeafsDisease/train/leaf_blast/leaf_blast (40).jpg  \n",
            "  inflating: RiceLeafsDisease/train/leaf_blast/leaf_blast (41).jpg  \n",
            "  inflating: RiceLeafsDisease/train/leaf_blast/leaf_blast (42).jpg  \n",
            "  inflating: RiceLeafsDisease/train/leaf_blast/leaf_blast (43).jpg  \n",
            "  inflating: RiceLeafsDisease/train/leaf_blast/leaf_blast (44).jpg  \n",
            "  inflating: RiceLeafsDisease/train/leaf_blast/leaf_blast (45).jpg  \n",
            "  inflating: RiceLeafsDisease/train/leaf_blast/leaf_blast (46).jpg  \n",
            "  inflating: RiceLeafsDisease/train/leaf_blast/leaf_blast (47).jpg  \n",
            "  inflating: RiceLeafsDisease/train/leaf_blast/leaf_blast (48).jpg  \n",
            "  inflating: RiceLeafsDisease/train/leaf_blast/leaf_blast (49).jpg  \n",
            "  inflating: RiceLeafsDisease/train/leaf_blast/leaf_blast (5).jpg  \n",
            "  inflating: RiceLeafsDisease/train/leaf_blast/leaf_blast (50).jpg  \n",
            "  inflating: RiceLeafsDisease/train/leaf_blast/leaf_blast (51).jpg  \n",
            "  inflating: RiceLeafsDisease/train/leaf_blast/leaf_blast (52).jpg  \n",
            "  inflating: RiceLeafsDisease/train/leaf_blast/leaf_blast (53).jpg  \n",
            "  inflating: RiceLeafsDisease/train/leaf_blast/leaf_blast (54).jpg  \n",
            "  inflating: RiceLeafsDisease/train/leaf_blast/leaf_blast (55).jpg  \n",
            "  inflating: RiceLeafsDisease/train/leaf_blast/leaf_blast (56).jpg  \n",
            "  inflating: RiceLeafsDisease/train/leaf_blast/leaf_blast (57).jpg  \n",
            "  inflating: RiceLeafsDisease/train/leaf_blast/leaf_blast (58).jpg  \n",
            "  inflating: RiceLeafsDisease/train/leaf_blast/leaf_blast (59).jpg  \n",
            "  inflating: RiceLeafsDisease/train/leaf_blast/leaf_blast (6).jpg  \n",
            "  inflating: RiceLeafsDisease/train/leaf_blast/leaf_blast (60).jpg  \n",
            "  inflating: RiceLeafsDisease/train/leaf_blast/leaf_blast (61).jpg  \n",
            "  inflating: RiceLeafsDisease/train/leaf_blast/leaf_blast (62).jpg  \n",
            "  inflating: RiceLeafsDisease/train/leaf_blast/leaf_blast (63).jpg  \n",
            "  inflating: RiceLeafsDisease/train/leaf_blast/leaf_blast (64).jpg  \n",
            "  inflating: RiceLeafsDisease/train/leaf_blast/leaf_blast (65).jpg  \n",
            "  inflating: RiceLeafsDisease/train/leaf_blast/leaf_blast (66).jpg  \n",
            "  inflating: RiceLeafsDisease/train/leaf_blast/leaf_blast (67).jpg  \n",
            "  inflating: RiceLeafsDisease/train/leaf_blast/leaf_blast (68).jpg  \n",
            "  inflating: RiceLeafsDisease/train/leaf_blast/leaf_blast (69).jpg  \n",
            "  inflating: RiceLeafsDisease/train/leaf_blast/leaf_blast (7).jpg  \n",
            "  inflating: RiceLeafsDisease/train/leaf_blast/leaf_blast (70).jpg  \n",
            "  inflating: RiceLeafsDisease/train/leaf_blast/leaf_blast (71).jpg  \n",
            "  inflating: RiceLeafsDisease/train/leaf_blast/leaf_blast (72).jpg  \n",
            "  inflating: RiceLeafsDisease/train/leaf_blast/leaf_blast (73).jpg  \n",
            "  inflating: RiceLeafsDisease/train/leaf_blast/leaf_blast (74).jpg  \n",
            "  inflating: RiceLeafsDisease/train/leaf_blast/leaf_blast (75).jpg  \n",
            "  inflating: RiceLeafsDisease/train/leaf_blast/leaf_blast (76).jpg  \n",
            "  inflating: RiceLeafsDisease/train/leaf_blast/leaf_blast (77).jpg  \n",
            "  inflating: RiceLeafsDisease/train/leaf_blast/leaf_blast (78).jpg  \n",
            "  inflating: RiceLeafsDisease/train/leaf_blast/leaf_blast (79).jpg  \n",
            "  inflating: RiceLeafsDisease/train/leaf_blast/leaf_blast (8).jpg  \n",
            "  inflating: RiceLeafsDisease/train/leaf_blast/leaf_blast (80).jpg  \n",
            "  inflating: RiceLeafsDisease/train/leaf_blast/leaf_blast (81).jpg  \n",
            "  inflating: RiceLeafsDisease/train/leaf_blast/leaf_blast (82).jpg  \n",
            "  inflating: RiceLeafsDisease/train/leaf_blast/leaf_blast (83).jpg  \n",
            "  inflating: RiceLeafsDisease/train/leaf_blast/leaf_blast (84).jpg  \n",
            "  inflating: RiceLeafsDisease/train/leaf_blast/leaf_blast (85).jpg  \n",
            "  inflating: RiceLeafsDisease/train/leaf_blast/leaf_blast (86).jpg  \n",
            "  inflating: RiceLeafsDisease/train/leaf_blast/leaf_blast (87).jpg  \n",
            "  inflating: RiceLeafsDisease/train/leaf_blast/leaf_blast (88).jpg  \n",
            "  inflating: RiceLeafsDisease/train/leaf_blast/leaf_blast (89).jpg  \n",
            "  inflating: RiceLeafsDisease/train/leaf_blast/leaf_blast (9).jpg  \n",
            "  inflating: RiceLeafsDisease/train/leaf_blast/leaf_blast (90).jpg  \n",
            "  inflating: RiceLeafsDisease/train/leaf_blast/leaf_blast (91).jpg  \n",
            "  inflating: RiceLeafsDisease/train/leaf_blast/leaf_blast (92).jpg  \n",
            "  inflating: RiceLeafsDisease/train/leaf_blast/leaf_blast (93).jpg  \n",
            "  inflating: RiceLeafsDisease/train/leaf_blast/leaf_blast (94).jpg  \n",
            "  inflating: RiceLeafsDisease/train/leaf_blast/leaf_blast (95).jpg  \n",
            "  inflating: RiceLeafsDisease/train/leaf_blast/leaf_blast (96).jpg  \n",
            "  inflating: RiceLeafsDisease/train/leaf_blast/leaf_blast (97).jpg  \n",
            "  inflating: RiceLeafsDisease/train/leaf_blast/leaf_blast (98).jpg  \n",
            "  inflating: RiceLeafsDisease/train/leaf_blast/leaf_blast (99).jpg  \n",
            "  inflating: RiceLeafsDisease/train/leaf_scald/leaf_scald (1).jpg  \n",
            "  inflating: RiceLeafsDisease/train/leaf_scald/leaf_scald (10).jpg  \n",
            "  inflating: RiceLeafsDisease/train/leaf_scald/leaf_scald (100).jpg  \n",
            "  inflating: RiceLeafsDisease/train/leaf_scald/leaf_scald (101).jpg  \n",
            "  inflating: RiceLeafsDisease/train/leaf_scald/leaf_scald (102).jpg  \n",
            "  inflating: RiceLeafsDisease/train/leaf_scald/leaf_scald (103).jpg  \n",
            "  inflating: RiceLeafsDisease/train/leaf_scald/leaf_scald (104).jpg  \n",
            "  inflating: RiceLeafsDisease/train/leaf_scald/leaf_scald (105).jpg  \n",
            "  inflating: RiceLeafsDisease/train/leaf_scald/leaf_scald (106).jpg  \n",
            "  inflating: RiceLeafsDisease/train/leaf_scald/leaf_scald (107).jpg  \n",
            "  inflating: RiceLeafsDisease/train/leaf_scald/leaf_scald (108).jpg  \n",
            "  inflating: RiceLeafsDisease/train/leaf_scald/leaf_scald (109).jpg  \n",
            "  inflating: RiceLeafsDisease/train/leaf_scald/leaf_scald (11).jpg  \n",
            "  inflating: RiceLeafsDisease/train/leaf_scald/leaf_scald (110).jpg  \n",
            "  inflating: RiceLeafsDisease/train/leaf_scald/leaf_scald (111).jpg  \n",
            "  inflating: RiceLeafsDisease/train/leaf_scald/leaf_scald (112).jpg  \n",
            "  inflating: RiceLeafsDisease/train/leaf_scald/leaf_scald (113).jpg  \n",
            "  inflating: RiceLeafsDisease/train/leaf_scald/leaf_scald (114).jpg  \n",
            "  inflating: RiceLeafsDisease/train/leaf_scald/leaf_scald (115).jpg  \n",
            "  inflating: RiceLeafsDisease/train/leaf_scald/leaf_scald (116).jpg  \n",
            "  inflating: RiceLeafsDisease/train/leaf_scald/leaf_scald (117).jpg  \n",
            "  inflating: RiceLeafsDisease/train/leaf_scald/leaf_scald (118).jpg  \n",
            "  inflating: RiceLeafsDisease/train/leaf_scald/leaf_scald (119).jpg  \n",
            "  inflating: RiceLeafsDisease/train/leaf_scald/leaf_scald (12).jpg  \n",
            "  inflating: RiceLeafsDisease/train/leaf_scald/leaf_scald (120).jpg  \n",
            "  inflating: RiceLeafsDisease/train/leaf_scald/leaf_scald (121).jpg  \n",
            "  inflating: RiceLeafsDisease/train/leaf_scald/leaf_scald (122).jpg  \n",
            "  inflating: RiceLeafsDisease/train/leaf_scald/leaf_scald (123).jpg  \n",
            "  inflating: RiceLeafsDisease/train/leaf_scald/leaf_scald (124).jpg  \n",
            "  inflating: RiceLeafsDisease/train/leaf_scald/leaf_scald (125).jpg  \n",
            "  inflating: RiceLeafsDisease/train/leaf_scald/leaf_scald (126).jpg  \n",
            "  inflating: RiceLeafsDisease/train/leaf_scald/leaf_scald (127).jpg  \n",
            "  inflating: RiceLeafsDisease/train/leaf_scald/leaf_scald (128).jpg  \n",
            "  inflating: RiceLeafsDisease/train/leaf_scald/leaf_scald (129).jpg  \n",
            "  inflating: RiceLeafsDisease/train/leaf_scald/leaf_scald (13).jpg  \n",
            "  inflating: RiceLeafsDisease/train/leaf_scald/leaf_scald (130).jpg  \n",
            "  inflating: RiceLeafsDisease/train/leaf_scald/leaf_scald (131).jpg  \n",
            "  inflating: RiceLeafsDisease/train/leaf_scald/leaf_scald (132).jpg  \n",
            "  inflating: RiceLeafsDisease/train/leaf_scald/leaf_scald (133).jpg  \n",
            "  inflating: RiceLeafsDisease/train/leaf_scald/leaf_scald (134).jpg  \n",
            "  inflating: RiceLeafsDisease/train/leaf_scald/leaf_scald (135).jpg  \n",
            "  inflating: RiceLeafsDisease/train/leaf_scald/leaf_scald (136).jpg  \n",
            "  inflating: RiceLeafsDisease/train/leaf_scald/leaf_scald (137).jpg  \n",
            "  inflating: RiceLeafsDisease/train/leaf_scald/leaf_scald (138).jpg  \n",
            "  inflating: RiceLeafsDisease/train/leaf_scald/leaf_scald (139).jpg  \n",
            "  inflating: RiceLeafsDisease/train/leaf_scald/leaf_scald (14).jpg  \n",
            "  inflating: RiceLeafsDisease/train/leaf_scald/leaf_scald (140).jpg  \n",
            "  inflating: RiceLeafsDisease/train/leaf_scald/leaf_scald (141).jpg  \n",
            "  inflating: RiceLeafsDisease/train/leaf_scald/leaf_scald (142).jpg  \n",
            "  inflating: RiceLeafsDisease/train/leaf_scald/leaf_scald (143).jpg  \n",
            "  inflating: RiceLeafsDisease/train/leaf_scald/leaf_scald (144).jpg  \n",
            "  inflating: RiceLeafsDisease/train/leaf_scald/leaf_scald (145).jpg  \n",
            "  inflating: RiceLeafsDisease/train/leaf_scald/leaf_scald (146).jpg  \n",
            "  inflating: RiceLeafsDisease/train/leaf_scald/leaf_scald (147).jpg  \n",
            "  inflating: RiceLeafsDisease/train/leaf_scald/leaf_scald (148).jpg  \n",
            "  inflating: RiceLeafsDisease/train/leaf_scald/leaf_scald (149).jpg  \n",
            "  inflating: RiceLeafsDisease/train/leaf_scald/leaf_scald (15).jpg  \n",
            "  inflating: RiceLeafsDisease/train/leaf_scald/leaf_scald (150).jpg  \n",
            "  inflating: RiceLeafsDisease/train/leaf_scald/leaf_scald (151).jpg  \n",
            "  inflating: RiceLeafsDisease/train/leaf_scald/leaf_scald (152).jpg  \n",
            "  inflating: RiceLeafsDisease/train/leaf_scald/leaf_scald (153).jpg  \n",
            "  inflating: RiceLeafsDisease/train/leaf_scald/leaf_scald (154).jpg  \n",
            "  inflating: RiceLeafsDisease/train/leaf_scald/leaf_scald (155).jpg  \n",
            "  inflating: RiceLeafsDisease/train/leaf_scald/leaf_scald (156).jpg  \n",
            "  inflating: RiceLeafsDisease/train/leaf_scald/leaf_scald (157).jpg  \n",
            "  inflating: RiceLeafsDisease/train/leaf_scald/leaf_scald (158).jpg  \n",
            "  inflating: RiceLeafsDisease/train/leaf_scald/leaf_scald (159).jpg  \n",
            "  inflating: RiceLeafsDisease/train/leaf_scald/leaf_scald (16).jpg  \n",
            "  inflating: RiceLeafsDisease/train/leaf_scald/leaf_scald (160).jpg  \n",
            "  inflating: RiceLeafsDisease/train/leaf_scald/leaf_scald (161).jpg  \n",
            "  inflating: RiceLeafsDisease/train/leaf_scald/leaf_scald (162).jpg  \n",
            "  inflating: RiceLeafsDisease/train/leaf_scald/leaf_scald (163).jpg  \n",
            "  inflating: RiceLeafsDisease/train/leaf_scald/leaf_scald (164).jpg  \n",
            "  inflating: RiceLeafsDisease/train/leaf_scald/leaf_scald (165).jpg  \n",
            "  inflating: RiceLeafsDisease/train/leaf_scald/leaf_scald (166).jpg  \n",
            "  inflating: RiceLeafsDisease/train/leaf_scald/leaf_scald (167).jpg  \n",
            "  inflating: RiceLeafsDisease/train/leaf_scald/leaf_scald (168).jpg  \n",
            "  inflating: RiceLeafsDisease/train/leaf_scald/leaf_scald (169).jpg  \n",
            "  inflating: RiceLeafsDisease/train/leaf_scald/leaf_scald (17).jpg  \n",
            "  inflating: RiceLeafsDisease/train/leaf_scald/leaf_scald (170).jpg  \n",
            "  inflating: RiceLeafsDisease/train/leaf_scald/leaf_scald (171).jpg  \n",
            "  inflating: RiceLeafsDisease/train/leaf_scald/leaf_scald (172).jpg  \n",
            "  inflating: RiceLeafsDisease/train/leaf_scald/leaf_scald (173).jpg  \n",
            "  inflating: RiceLeafsDisease/train/leaf_scald/leaf_scald (174).jpg  \n",
            "  inflating: RiceLeafsDisease/train/leaf_scald/leaf_scald (175).jpg  \n",
            "  inflating: RiceLeafsDisease/train/leaf_scald/leaf_scald (176).jpg  \n",
            "  inflating: RiceLeafsDisease/train/leaf_scald/leaf_scald (177).jpg  \n",
            "  inflating: RiceLeafsDisease/train/leaf_scald/leaf_scald (178).jpg  \n",
            "  inflating: RiceLeafsDisease/train/leaf_scald/leaf_scald (179).jpg  \n",
            "  inflating: RiceLeafsDisease/train/leaf_scald/leaf_scald (18).jpg  \n",
            "  inflating: RiceLeafsDisease/train/leaf_scald/leaf_scald (180).jpg  \n",
            "  inflating: RiceLeafsDisease/train/leaf_scald/leaf_scald (181).jpg  \n",
            "  inflating: RiceLeafsDisease/train/leaf_scald/leaf_scald (182).jpg  \n",
            "  inflating: RiceLeafsDisease/train/leaf_scald/leaf_scald (183).jpg  \n",
            "  inflating: RiceLeafsDisease/train/leaf_scald/leaf_scald (184).jpg  \n",
            "  inflating: RiceLeafsDisease/train/leaf_scald/leaf_scald (185).jpg  \n",
            "  inflating: RiceLeafsDisease/train/leaf_scald/leaf_scald (186).jpg  \n",
            "  inflating: RiceLeafsDisease/train/leaf_scald/leaf_scald (187).jpg  \n",
            "  inflating: RiceLeafsDisease/train/leaf_scald/leaf_scald (188).jpg  \n",
            "  inflating: RiceLeafsDisease/train/leaf_scald/leaf_scald (189).jpg  \n",
            "  inflating: RiceLeafsDisease/train/leaf_scald/leaf_scald (19).jpg  \n",
            "  inflating: RiceLeafsDisease/train/leaf_scald/leaf_scald (190).jpg  \n",
            "  inflating: RiceLeafsDisease/train/leaf_scald/leaf_scald (191).jpg  \n",
            "  inflating: RiceLeafsDisease/train/leaf_scald/leaf_scald (192).jpg  \n",
            "  inflating: RiceLeafsDisease/train/leaf_scald/leaf_scald (193).jpg  \n",
            "  inflating: RiceLeafsDisease/train/leaf_scald/leaf_scald (194).jpg  \n",
            "  inflating: RiceLeafsDisease/train/leaf_scald/leaf_scald (195).jpg  \n",
            "  inflating: RiceLeafsDisease/train/leaf_scald/leaf_scald (196).jpg  \n",
            "  inflating: RiceLeafsDisease/train/leaf_scald/leaf_scald (197).jpg  \n",
            "  inflating: RiceLeafsDisease/train/leaf_scald/leaf_scald (198).jpg  \n",
            "  inflating: RiceLeafsDisease/train/leaf_scald/leaf_scald (199).jpg  \n",
            "  inflating: RiceLeafsDisease/train/leaf_scald/leaf_scald (2).jpg  \n",
            "  inflating: RiceLeafsDisease/train/leaf_scald/leaf_scald (20).jpg  \n",
            "  inflating: RiceLeafsDisease/train/leaf_scald/leaf_scald (200).jpg  \n",
            "  inflating: RiceLeafsDisease/train/leaf_scald/leaf_scald (201).jpg  \n",
            "  inflating: RiceLeafsDisease/train/leaf_scald/leaf_scald (202).jpg  \n",
            "  inflating: RiceLeafsDisease/train/leaf_scald/leaf_scald (203).jpg  \n",
            "  inflating: RiceLeafsDisease/train/leaf_scald/leaf_scald (204).jpg  \n",
            "  inflating: RiceLeafsDisease/train/leaf_scald/leaf_scald (205).jpg  \n",
            "  inflating: RiceLeafsDisease/train/leaf_scald/leaf_scald (206).jpg  \n",
            "  inflating: RiceLeafsDisease/train/leaf_scald/leaf_scald (207).jpg  \n",
            "  inflating: RiceLeafsDisease/train/leaf_scald/leaf_scald (208).jpg  \n",
            "  inflating: RiceLeafsDisease/train/leaf_scald/leaf_scald (209).jpg  \n",
            "  inflating: RiceLeafsDisease/train/leaf_scald/leaf_scald (21).jpg  \n",
            "  inflating: RiceLeafsDisease/train/leaf_scald/leaf_scald (210).jpg  \n",
            "  inflating: RiceLeafsDisease/train/leaf_scald/leaf_scald (211).jpg  \n",
            "  inflating: RiceLeafsDisease/train/leaf_scald/leaf_scald (212).jpg  \n",
            "  inflating: RiceLeafsDisease/train/leaf_scald/leaf_scald (213).jpg  \n",
            "  inflating: RiceLeafsDisease/train/leaf_scald/leaf_scald (214).jpg  \n",
            "  inflating: RiceLeafsDisease/train/leaf_scald/leaf_scald (215).jpg  \n",
            "  inflating: RiceLeafsDisease/train/leaf_scald/leaf_scald (216).jpg  \n",
            "  inflating: RiceLeafsDisease/train/leaf_scald/leaf_scald (217).jpg  \n",
            "  inflating: RiceLeafsDisease/train/leaf_scald/leaf_scald (218).jpg  \n",
            "  inflating: RiceLeafsDisease/train/leaf_scald/leaf_scald (219).jpg  \n",
            "  inflating: RiceLeafsDisease/train/leaf_scald/leaf_scald (22).jpg  \n",
            "  inflating: RiceLeafsDisease/train/leaf_scald/leaf_scald (220).jpg  \n",
            "  inflating: RiceLeafsDisease/train/leaf_scald/leaf_scald (221).jpg  \n",
            "  inflating: RiceLeafsDisease/train/leaf_scald/leaf_scald (222).jpg  \n",
            "  inflating: RiceLeafsDisease/train/leaf_scald/leaf_scald (223).jpg  \n",
            "  inflating: RiceLeafsDisease/train/leaf_scald/leaf_scald (224).jpg  \n",
            "  inflating: RiceLeafsDisease/train/leaf_scald/leaf_scald (225).jpg  \n",
            "  inflating: RiceLeafsDisease/train/leaf_scald/leaf_scald (226).jpg  \n",
            "  inflating: RiceLeafsDisease/train/leaf_scald/leaf_scald (227).jpg  \n",
            "  inflating: RiceLeafsDisease/train/leaf_scald/leaf_scald (228).jpg  \n",
            "  inflating: RiceLeafsDisease/train/leaf_scald/leaf_scald (229).jpg  \n",
            "  inflating: RiceLeafsDisease/train/leaf_scald/leaf_scald (23).jpg  \n",
            "  inflating: RiceLeafsDisease/train/leaf_scald/leaf_scald (230).jpg  \n",
            "  inflating: RiceLeafsDisease/train/leaf_scald/leaf_scald (231).jpg  \n",
            "  inflating: RiceLeafsDisease/train/leaf_scald/leaf_scald (232).jpg  \n",
            "  inflating: RiceLeafsDisease/train/leaf_scald/leaf_scald (233).jpg  \n",
            "  inflating: RiceLeafsDisease/train/leaf_scald/leaf_scald (234).jpg  \n",
            "  inflating: RiceLeafsDisease/train/leaf_scald/leaf_scald (235).jpg  \n",
            "  inflating: RiceLeafsDisease/train/leaf_scald/leaf_scald (236).jpg  \n",
            "  inflating: RiceLeafsDisease/train/leaf_scald/leaf_scald (237).jpg  \n",
            "  inflating: RiceLeafsDisease/train/leaf_scald/leaf_scald (238).jpg  \n",
            "  inflating: RiceLeafsDisease/train/leaf_scald/leaf_scald (239).jpg  \n",
            "  inflating: RiceLeafsDisease/train/leaf_scald/leaf_scald (24).jpg  \n",
            "  inflating: RiceLeafsDisease/train/leaf_scald/leaf_scald (240).jpg  \n",
            "  inflating: RiceLeafsDisease/train/leaf_scald/leaf_scald (241).jpg  \n",
            "  inflating: RiceLeafsDisease/train/leaf_scald/leaf_scald (242).jpg  \n",
            "  inflating: RiceLeafsDisease/train/leaf_scald/leaf_scald (243).jpg  \n",
            "  inflating: RiceLeafsDisease/train/leaf_scald/leaf_scald (244).jpg  \n",
            "  inflating: RiceLeafsDisease/train/leaf_scald/leaf_scald (245).jpg  \n",
            "  inflating: RiceLeafsDisease/train/leaf_scald/leaf_scald (246).jpg  \n",
            "  inflating: RiceLeafsDisease/train/leaf_scald/leaf_scald (247).jpg  \n",
            "  inflating: RiceLeafsDisease/train/leaf_scald/leaf_scald (248).jpg  \n",
            "  inflating: RiceLeafsDisease/train/leaf_scald/leaf_scald (249).jpg  \n",
            "  inflating: RiceLeafsDisease/train/leaf_scald/leaf_scald (25).jpg  \n",
            "  inflating: RiceLeafsDisease/train/leaf_scald/leaf_scald (250).jpg  \n",
            "  inflating: RiceLeafsDisease/train/leaf_scald/leaf_scald (251).jpg  \n",
            "  inflating: RiceLeafsDisease/train/leaf_scald/leaf_scald (252).jpg  \n",
            "  inflating: RiceLeafsDisease/train/leaf_scald/leaf_scald (253).jpg  \n",
            "  inflating: RiceLeafsDisease/train/leaf_scald/leaf_scald (254).jpg  \n",
            "  inflating: RiceLeafsDisease/train/leaf_scald/leaf_scald (255).jpg  \n",
            "  inflating: RiceLeafsDisease/train/leaf_scald/leaf_scald (256).jpg  \n",
            "  inflating: RiceLeafsDisease/train/leaf_scald/leaf_scald (257).jpg  \n",
            "  inflating: RiceLeafsDisease/train/leaf_scald/leaf_scald (258).jpg  \n",
            "  inflating: RiceLeafsDisease/train/leaf_scald/leaf_scald (259).jpg  \n",
            "  inflating: RiceLeafsDisease/train/leaf_scald/leaf_scald (26).jpg  \n",
            "  inflating: RiceLeafsDisease/train/leaf_scald/leaf_scald (260).jpg  \n",
            "  inflating: RiceLeafsDisease/train/leaf_scald/leaf_scald (261).jpg  \n",
            "  inflating: RiceLeafsDisease/train/leaf_scald/leaf_scald (262).jpg  \n",
            "  inflating: RiceLeafsDisease/train/leaf_scald/leaf_scald (263).jpg  \n",
            "  inflating: RiceLeafsDisease/train/leaf_scald/leaf_scald (264).jpg  \n",
            "  inflating: RiceLeafsDisease/train/leaf_scald/leaf_scald (265).jpg  \n",
            "  inflating: RiceLeafsDisease/train/leaf_scald/leaf_scald (266).jpg  \n",
            "  inflating: RiceLeafsDisease/train/leaf_scald/leaf_scald (267).jpg  \n",
            "  inflating: RiceLeafsDisease/train/leaf_scald/leaf_scald (268).jpg  \n",
            "  inflating: RiceLeafsDisease/train/leaf_scald/leaf_scald (269).jpg  \n",
            "  inflating: RiceLeafsDisease/train/leaf_scald/leaf_scald (27).jpg  \n",
            "  inflating: RiceLeafsDisease/train/leaf_scald/leaf_scald (270).jpg  \n",
            "  inflating: RiceLeafsDisease/train/leaf_scald/leaf_scald (271).jpg  \n",
            "  inflating: RiceLeafsDisease/train/leaf_scald/leaf_scald (272).jpg  \n",
            "  inflating: RiceLeafsDisease/train/leaf_scald/leaf_scald (273).jpg  \n",
            "  inflating: RiceLeafsDisease/train/leaf_scald/leaf_scald (274).jpg  \n",
            "  inflating: RiceLeafsDisease/train/leaf_scald/leaf_scald (275).jpg  \n",
            "  inflating: RiceLeafsDisease/train/leaf_scald/leaf_scald (276).jpg  \n",
            "  inflating: RiceLeafsDisease/train/leaf_scald/leaf_scald (277).jpg  \n",
            "  inflating: RiceLeafsDisease/train/leaf_scald/leaf_scald (278).jpg  \n",
            "  inflating: RiceLeafsDisease/train/leaf_scald/leaf_scald (279).jpg  \n",
            "  inflating: RiceLeafsDisease/train/leaf_scald/leaf_scald (28).jpg  \n",
            "  inflating: RiceLeafsDisease/train/leaf_scald/leaf_scald (280).jpg  \n",
            "  inflating: RiceLeafsDisease/train/leaf_scald/leaf_scald (281).jpg  \n",
            "  inflating: RiceLeafsDisease/train/leaf_scald/leaf_scald (282).jpg  \n",
            "  inflating: RiceLeafsDisease/train/leaf_scald/leaf_scald (283).jpg  \n",
            "  inflating: RiceLeafsDisease/train/leaf_scald/leaf_scald (284).jpg  \n",
            "  inflating: RiceLeafsDisease/train/leaf_scald/leaf_scald (285).jpg  \n",
            "  inflating: RiceLeafsDisease/train/leaf_scald/leaf_scald (286).jpg  \n",
            "  inflating: RiceLeafsDisease/train/leaf_scald/leaf_scald (287).jpg  \n",
            "  inflating: RiceLeafsDisease/train/leaf_scald/leaf_scald (288).jpg  \n",
            "  inflating: RiceLeafsDisease/train/leaf_scald/leaf_scald (289).jpg  \n",
            "  inflating: RiceLeafsDisease/train/leaf_scald/leaf_scald (29).jpg  \n",
            "  inflating: RiceLeafsDisease/train/leaf_scald/leaf_scald (290).jpg  \n",
            "  inflating: RiceLeafsDisease/train/leaf_scald/leaf_scald (291).jpg  \n",
            "  inflating: RiceLeafsDisease/train/leaf_scald/leaf_scald (292).jpg  \n",
            "  inflating: RiceLeafsDisease/train/leaf_scald/leaf_scald (293).jpg  \n",
            "  inflating: RiceLeafsDisease/train/leaf_scald/leaf_scald (294).jpg  \n",
            "  inflating: RiceLeafsDisease/train/leaf_scald/leaf_scald (295).jpg  \n",
            "  inflating: RiceLeafsDisease/train/leaf_scald/leaf_scald (296).jpg  \n",
            "  inflating: RiceLeafsDisease/train/leaf_scald/leaf_scald (297).jpg  \n",
            "  inflating: RiceLeafsDisease/train/leaf_scald/leaf_scald (298).jpg  \n",
            "  inflating: RiceLeafsDisease/train/leaf_scald/leaf_scald (299).jpg  \n",
            "  inflating: RiceLeafsDisease/train/leaf_scald/leaf_scald (3).jpg  \n",
            "  inflating: RiceLeafsDisease/train/leaf_scald/leaf_scald (30).jpg  \n",
            "  inflating: RiceLeafsDisease/train/leaf_scald/leaf_scald (300).jpg  \n",
            "  inflating: RiceLeafsDisease/train/leaf_scald/leaf_scald (301).jpg  \n",
            "  inflating: RiceLeafsDisease/train/leaf_scald/leaf_scald (302).jpg  \n",
            "  inflating: RiceLeafsDisease/train/leaf_scald/leaf_scald (303).jpg  \n",
            "  inflating: RiceLeafsDisease/train/leaf_scald/leaf_scald (304).jpg  \n",
            "  inflating: RiceLeafsDisease/train/leaf_scald/leaf_scald (305).jpg  \n",
            "  inflating: RiceLeafsDisease/train/leaf_scald/leaf_scald (306).jpg  \n",
            "  inflating: RiceLeafsDisease/train/leaf_scald/leaf_scald (307).jpg  \n",
            "  inflating: RiceLeafsDisease/train/leaf_scald/leaf_scald (308).jpg  \n",
            "  inflating: RiceLeafsDisease/train/leaf_scald/leaf_scald (309).jpg  \n",
            "  inflating: RiceLeafsDisease/train/leaf_scald/leaf_scald (31).jpg  \n",
            "  inflating: RiceLeafsDisease/train/leaf_scald/leaf_scald (310).jpg  \n",
            "  inflating: RiceLeafsDisease/train/leaf_scald/leaf_scald (311).jpg  \n",
            "  inflating: RiceLeafsDisease/train/leaf_scald/leaf_scald (312).jpg  \n",
            "  inflating: RiceLeafsDisease/train/leaf_scald/leaf_scald (313).jpg  \n",
            "  inflating: RiceLeafsDisease/train/leaf_scald/leaf_scald (314).jpg  \n",
            "  inflating: RiceLeafsDisease/train/leaf_scald/leaf_scald (315).jpg  \n",
            "  inflating: RiceLeafsDisease/train/leaf_scald/leaf_scald (316).jpg  \n",
            "  inflating: RiceLeafsDisease/train/leaf_scald/leaf_scald (317).jpg  \n",
            "  inflating: RiceLeafsDisease/train/leaf_scald/leaf_scald (318).jpg  \n",
            "  inflating: RiceLeafsDisease/train/leaf_scald/leaf_scald (319).jpg  \n",
            "  inflating: RiceLeafsDisease/train/leaf_scald/leaf_scald (32).jpg  \n",
            "  inflating: RiceLeafsDisease/train/leaf_scald/leaf_scald (320).jpg  \n",
            "  inflating: RiceLeafsDisease/train/leaf_scald/leaf_scald (321).jpg  \n",
            "  inflating: RiceLeafsDisease/train/leaf_scald/leaf_scald (322).jpg  \n",
            "  inflating: RiceLeafsDisease/train/leaf_scald/leaf_scald (323).jpg  \n",
            "  inflating: RiceLeafsDisease/train/leaf_scald/leaf_scald (324).jpg  \n",
            "  inflating: RiceLeafsDisease/train/leaf_scald/leaf_scald (325).jpg  \n",
            "  inflating: RiceLeafsDisease/train/leaf_scald/leaf_scald (326).jpg  \n",
            "  inflating: RiceLeafsDisease/train/leaf_scald/leaf_scald (327).jpg  \n",
            "  inflating: RiceLeafsDisease/train/leaf_scald/leaf_scald (328).jpg  \n",
            "  inflating: RiceLeafsDisease/train/leaf_scald/leaf_scald (329).jpg  \n",
            "  inflating: RiceLeafsDisease/train/leaf_scald/leaf_scald (33).jpg  \n",
            "  inflating: RiceLeafsDisease/train/leaf_scald/leaf_scald (330).jpg  \n",
            "  inflating: RiceLeafsDisease/train/leaf_scald/leaf_scald (331).jpg  \n",
            "  inflating: RiceLeafsDisease/train/leaf_scald/leaf_scald (332).jpg  \n",
            "  inflating: RiceLeafsDisease/train/leaf_scald/leaf_scald (333).jpg  \n",
            "  inflating: RiceLeafsDisease/train/leaf_scald/leaf_scald (334).jpg  \n",
            "  inflating: RiceLeafsDisease/train/leaf_scald/leaf_scald (335).jpg  \n",
            "  inflating: RiceLeafsDisease/train/leaf_scald/leaf_scald (336).jpg  \n",
            "  inflating: RiceLeafsDisease/train/leaf_scald/leaf_scald (337).jpg  \n",
            "  inflating: RiceLeafsDisease/train/leaf_scald/leaf_scald (338).jpg  \n",
            "  inflating: RiceLeafsDisease/train/leaf_scald/leaf_scald (339).jpg  \n",
            "  inflating: RiceLeafsDisease/train/leaf_scald/leaf_scald (34).jpg  \n",
            "  inflating: RiceLeafsDisease/train/leaf_scald/leaf_scald (340).jpg  \n",
            "  inflating: RiceLeafsDisease/train/leaf_scald/leaf_scald (341).jpg  \n",
            "  inflating: RiceLeafsDisease/train/leaf_scald/leaf_scald (342).jpg  \n",
            "  inflating: RiceLeafsDisease/train/leaf_scald/leaf_scald (343).jpg  \n",
            "  inflating: RiceLeafsDisease/train/leaf_scald/leaf_scald (344).jpg  \n",
            "  inflating: RiceLeafsDisease/train/leaf_scald/leaf_scald (345).jpg  \n",
            "  inflating: RiceLeafsDisease/train/leaf_scald/leaf_scald (346).jpg  \n",
            "  inflating: RiceLeafsDisease/train/leaf_scald/leaf_scald (347).jpg  \n",
            "  inflating: RiceLeafsDisease/train/leaf_scald/leaf_scald (348).jpg  \n",
            "  inflating: RiceLeafsDisease/train/leaf_scald/leaf_scald (349).jpg  \n",
            "  inflating: RiceLeafsDisease/train/leaf_scald/leaf_scald (35).jpg  \n",
            "  inflating: RiceLeafsDisease/train/leaf_scald/leaf_scald (350).jpg  \n",
            "  inflating: RiceLeafsDisease/train/leaf_scald/leaf_scald (36).jpg  \n",
            "  inflating: RiceLeafsDisease/train/leaf_scald/leaf_scald (37).jpg  \n",
            "  inflating: RiceLeafsDisease/train/leaf_scald/leaf_scald (38).jpg  \n",
            "  inflating: RiceLeafsDisease/train/leaf_scald/leaf_scald (39).jpg  \n",
            "  inflating: RiceLeafsDisease/train/leaf_scald/leaf_scald (4).jpg  \n",
            "  inflating: RiceLeafsDisease/train/leaf_scald/leaf_scald (40).jpg  \n",
            "  inflating: RiceLeafsDisease/train/leaf_scald/leaf_scald (41).jpg  \n",
            "  inflating: RiceLeafsDisease/train/leaf_scald/leaf_scald (42).jpg  \n",
            "  inflating: RiceLeafsDisease/train/leaf_scald/leaf_scald (43).jpg  \n",
            "  inflating: RiceLeafsDisease/train/leaf_scald/leaf_scald (44).jpg  \n",
            "  inflating: RiceLeafsDisease/train/leaf_scald/leaf_scald (45).jpg  \n",
            "  inflating: RiceLeafsDisease/train/leaf_scald/leaf_scald (46).jpg  \n",
            "  inflating: RiceLeafsDisease/train/leaf_scald/leaf_scald (47).jpg  \n",
            "  inflating: RiceLeafsDisease/train/leaf_scald/leaf_scald (48).jpg  \n",
            "  inflating: RiceLeafsDisease/train/leaf_scald/leaf_scald (49).jpg  \n",
            "  inflating: RiceLeafsDisease/train/leaf_scald/leaf_scald (5).jpg  \n",
            "  inflating: RiceLeafsDisease/train/leaf_scald/leaf_scald (50).jpg  \n",
            "  inflating: RiceLeafsDisease/train/leaf_scald/leaf_scald (51).jpg  \n",
            "  inflating: RiceLeafsDisease/train/leaf_scald/leaf_scald (52).jpg  \n",
            "  inflating: RiceLeafsDisease/train/leaf_scald/leaf_scald (53).jpg  \n",
            "  inflating: RiceLeafsDisease/train/leaf_scald/leaf_scald (54).jpg  \n",
            "  inflating: RiceLeafsDisease/train/leaf_scald/leaf_scald (55).jpg  \n",
            "  inflating: RiceLeafsDisease/train/leaf_scald/leaf_scald (56).jpg  \n",
            "  inflating: RiceLeafsDisease/train/leaf_scald/leaf_scald (57).jpg  \n",
            "  inflating: RiceLeafsDisease/train/leaf_scald/leaf_scald (58).jpg  \n",
            "  inflating: RiceLeafsDisease/train/leaf_scald/leaf_scald (59).jpg  \n",
            "  inflating: RiceLeafsDisease/train/leaf_scald/leaf_scald (6).jpg  \n",
            "  inflating: RiceLeafsDisease/train/leaf_scald/leaf_scald (60).jpg  \n",
            "  inflating: RiceLeafsDisease/train/leaf_scald/leaf_scald (61).jpg  \n",
            "  inflating: RiceLeafsDisease/train/leaf_scald/leaf_scald (62).jpg  \n",
            "  inflating: RiceLeafsDisease/train/leaf_scald/leaf_scald (63).jpg  \n",
            "  inflating: RiceLeafsDisease/train/leaf_scald/leaf_scald (64).jpg  \n",
            "  inflating: RiceLeafsDisease/train/leaf_scald/leaf_scald (65).jpg  \n",
            "  inflating: RiceLeafsDisease/train/leaf_scald/leaf_scald (66).jpg  \n",
            "  inflating: RiceLeafsDisease/train/leaf_scald/leaf_scald (67).jpg  \n",
            "  inflating: RiceLeafsDisease/train/leaf_scald/leaf_scald (68).jpg  \n",
            "  inflating: RiceLeafsDisease/train/leaf_scald/leaf_scald (69).jpg  \n",
            "  inflating: RiceLeafsDisease/train/leaf_scald/leaf_scald (7).jpg  \n",
            "  inflating: RiceLeafsDisease/train/leaf_scald/leaf_scald (70).jpg  \n",
            "  inflating: RiceLeafsDisease/train/leaf_scald/leaf_scald (71).jpg  \n",
            "  inflating: RiceLeafsDisease/train/leaf_scald/leaf_scald (72).jpg  \n",
            "  inflating: RiceLeafsDisease/train/leaf_scald/leaf_scald (73).jpg  \n",
            "  inflating: RiceLeafsDisease/train/leaf_scald/leaf_scald (74).jpg  \n",
            "  inflating: RiceLeafsDisease/train/leaf_scald/leaf_scald (75).jpg  \n",
            "  inflating: RiceLeafsDisease/train/leaf_scald/leaf_scald (76).jpg  \n",
            "  inflating: RiceLeafsDisease/train/leaf_scald/leaf_scald (77).jpg  \n",
            "  inflating: RiceLeafsDisease/train/leaf_scald/leaf_scald (78).jpg  \n",
            "  inflating: RiceLeafsDisease/train/leaf_scald/leaf_scald (79).jpg  \n",
            "  inflating: RiceLeafsDisease/train/leaf_scald/leaf_scald (8).jpg  \n",
            "  inflating: RiceLeafsDisease/train/leaf_scald/leaf_scald (80).jpg  \n",
            "  inflating: RiceLeafsDisease/train/leaf_scald/leaf_scald (81).jpg  \n",
            "  inflating: RiceLeafsDisease/train/leaf_scald/leaf_scald (82).jpg  \n",
            "  inflating: RiceLeafsDisease/train/leaf_scald/leaf_scald (83).jpg  \n",
            "  inflating: RiceLeafsDisease/train/leaf_scald/leaf_scald (84).jpg  \n",
            "  inflating: RiceLeafsDisease/train/leaf_scald/leaf_scald (85).jpg  \n",
            "  inflating: RiceLeafsDisease/train/leaf_scald/leaf_scald (86).jpg  \n",
            "  inflating: RiceLeafsDisease/train/leaf_scald/leaf_scald (87).jpg  \n",
            "  inflating: RiceLeafsDisease/train/leaf_scald/leaf_scald (88).jpg  \n",
            "  inflating: RiceLeafsDisease/train/leaf_scald/leaf_scald (89).jpg  \n",
            "  inflating: RiceLeafsDisease/train/leaf_scald/leaf_scald (9).jpg  \n",
            "  inflating: RiceLeafsDisease/train/leaf_scald/leaf_scald (90).jpg  \n",
            "  inflating: RiceLeafsDisease/train/leaf_scald/leaf_scald (91).jpg  \n",
            "  inflating: RiceLeafsDisease/train/leaf_scald/leaf_scald (92).jpg  \n",
            "  inflating: RiceLeafsDisease/train/leaf_scald/leaf_scald (93).jpg  \n",
            "  inflating: RiceLeafsDisease/train/leaf_scald/leaf_scald (94).jpg  \n",
            "  inflating: RiceLeafsDisease/train/leaf_scald/leaf_scald (95).jpg  \n",
            "  inflating: RiceLeafsDisease/train/leaf_scald/leaf_scald (96).jpg  \n",
            "  inflating: RiceLeafsDisease/train/leaf_scald/leaf_scald (97).jpg  \n",
            "  inflating: RiceLeafsDisease/train/leaf_scald/leaf_scald (98).jpg  \n",
            "  inflating: RiceLeafsDisease/train/leaf_scald/leaf_scald (99).jpg  \n",
            "  inflating: RiceLeafsDisease/train/narrow_brown_spot/narrow_brown (1).jpg  \n",
            "  inflating: RiceLeafsDisease/train/narrow_brown_spot/narrow_brown (10).jpg  \n",
            "  inflating: RiceLeafsDisease/train/narrow_brown_spot/narrow_brown (100).jpg  \n",
            "  inflating: RiceLeafsDisease/train/narrow_brown_spot/narrow_brown (101).jpg  \n",
            "  inflating: RiceLeafsDisease/train/narrow_brown_spot/narrow_brown (102).jpg  \n",
            "  inflating: RiceLeafsDisease/train/narrow_brown_spot/narrow_brown (103).jpg  \n",
            "  inflating: RiceLeafsDisease/train/narrow_brown_spot/narrow_brown (104).jpg  \n",
            "  inflating: RiceLeafsDisease/train/narrow_brown_spot/narrow_brown (105).jpg  \n",
            "  inflating: RiceLeafsDisease/train/narrow_brown_spot/narrow_brown (106).jpg  \n",
            "  inflating: RiceLeafsDisease/train/narrow_brown_spot/narrow_brown (107).jpg  \n",
            "  inflating: RiceLeafsDisease/train/narrow_brown_spot/narrow_brown (108).jpg  \n",
            "  inflating: RiceLeafsDisease/train/narrow_brown_spot/narrow_brown (109).jpg  \n",
            "  inflating: RiceLeafsDisease/train/narrow_brown_spot/narrow_brown (11).jpg  \n",
            "  inflating: RiceLeafsDisease/train/narrow_brown_spot/narrow_brown (110).jpg  \n",
            "  inflating: RiceLeafsDisease/train/narrow_brown_spot/narrow_brown (111).jpg  \n",
            "  inflating: RiceLeafsDisease/train/narrow_brown_spot/narrow_brown (112).jpg  \n",
            "  inflating: RiceLeafsDisease/train/narrow_brown_spot/narrow_brown (113).jpg  \n",
            "  inflating: RiceLeafsDisease/train/narrow_brown_spot/narrow_brown (114).jpg  \n",
            "  inflating: RiceLeafsDisease/train/narrow_brown_spot/narrow_brown (115).jpg  \n",
            "  inflating: RiceLeafsDisease/train/narrow_brown_spot/narrow_brown (116).jpg  \n",
            "  inflating: RiceLeafsDisease/train/narrow_brown_spot/narrow_brown (117).jpg  \n",
            "  inflating: RiceLeafsDisease/train/narrow_brown_spot/narrow_brown (118).jpg  \n",
            "  inflating: RiceLeafsDisease/train/narrow_brown_spot/narrow_brown (119).jpg  \n",
            "  inflating: RiceLeafsDisease/train/narrow_brown_spot/narrow_brown (12).jpg  \n",
            "  inflating: RiceLeafsDisease/train/narrow_brown_spot/narrow_brown (120).jpg  \n",
            "  inflating: RiceLeafsDisease/train/narrow_brown_spot/narrow_brown (121).jpg  \n",
            "  inflating: RiceLeafsDisease/train/narrow_brown_spot/narrow_brown (122).jpg  \n",
            "  inflating: RiceLeafsDisease/train/narrow_brown_spot/narrow_brown (123).jpg  \n",
            "  inflating: RiceLeafsDisease/train/narrow_brown_spot/narrow_brown (124).jpg  \n",
            "  inflating: RiceLeafsDisease/train/narrow_brown_spot/narrow_brown (125).jpg  \n",
            "  inflating: RiceLeafsDisease/train/narrow_brown_spot/narrow_brown (126).jpg  \n",
            "  inflating: RiceLeafsDisease/train/narrow_brown_spot/narrow_brown (127).jpg  \n",
            "  inflating: RiceLeafsDisease/train/narrow_brown_spot/narrow_brown (128).jpg  \n",
            "  inflating: RiceLeafsDisease/train/narrow_brown_spot/narrow_brown (129).jpg  \n",
            "  inflating: RiceLeafsDisease/train/narrow_brown_spot/narrow_brown (13).jpg  \n",
            "  inflating: RiceLeafsDisease/train/narrow_brown_spot/narrow_brown (130).jpg  \n",
            "  inflating: RiceLeafsDisease/train/narrow_brown_spot/narrow_brown (131).jpg  \n",
            "  inflating: RiceLeafsDisease/train/narrow_brown_spot/narrow_brown (132).jpg  \n",
            "  inflating: RiceLeafsDisease/train/narrow_brown_spot/narrow_brown (133).jpg  \n",
            "  inflating: RiceLeafsDisease/train/narrow_brown_spot/narrow_brown (134).jpg  \n",
            "  inflating: RiceLeafsDisease/train/narrow_brown_spot/narrow_brown (135).jpg  \n",
            "  inflating: RiceLeafsDisease/train/narrow_brown_spot/narrow_brown (136).jpg  \n",
            "  inflating: RiceLeafsDisease/train/narrow_brown_spot/narrow_brown (137).jpg  \n",
            "  inflating: RiceLeafsDisease/train/narrow_brown_spot/narrow_brown (138).jpg  \n",
            "  inflating: RiceLeafsDisease/train/narrow_brown_spot/narrow_brown (139).jpg  \n",
            "  inflating: RiceLeafsDisease/train/narrow_brown_spot/narrow_brown (14).jpg  \n",
            "  inflating: RiceLeafsDisease/train/narrow_brown_spot/narrow_brown (140).jpg  \n",
            "  inflating: RiceLeafsDisease/train/narrow_brown_spot/narrow_brown (141).jpg  \n",
            "  inflating: RiceLeafsDisease/train/narrow_brown_spot/narrow_brown (142).jpg  \n",
            "  inflating: RiceLeafsDisease/train/narrow_brown_spot/narrow_brown (143).jpg  \n",
            "  inflating: RiceLeafsDisease/train/narrow_brown_spot/narrow_brown (144).jpg  \n",
            "  inflating: RiceLeafsDisease/train/narrow_brown_spot/narrow_brown (145).jpg  \n",
            "  inflating: RiceLeafsDisease/train/narrow_brown_spot/narrow_brown (146).jpg  \n",
            "  inflating: RiceLeafsDisease/train/narrow_brown_spot/narrow_brown (147).jpg  \n",
            "  inflating: RiceLeafsDisease/train/narrow_brown_spot/narrow_brown (148).jpg  \n",
            "  inflating: RiceLeafsDisease/train/narrow_brown_spot/narrow_brown (149).jpg  \n",
            "  inflating: RiceLeafsDisease/train/narrow_brown_spot/narrow_brown (15).jpg  \n",
            "  inflating: RiceLeafsDisease/train/narrow_brown_spot/narrow_brown (150).jpg  \n",
            "  inflating: RiceLeafsDisease/train/narrow_brown_spot/narrow_brown (151).jpg  \n",
            "  inflating: RiceLeafsDisease/train/narrow_brown_spot/narrow_brown (152).jpg  \n",
            "  inflating: RiceLeafsDisease/train/narrow_brown_spot/narrow_brown (153).jpg  \n",
            "  inflating: RiceLeafsDisease/train/narrow_brown_spot/narrow_brown (154).jpg  \n",
            "  inflating: RiceLeafsDisease/train/narrow_brown_spot/narrow_brown (155).jpg  \n",
            "  inflating: RiceLeafsDisease/train/narrow_brown_spot/narrow_brown (156).jpg  \n",
            "  inflating: RiceLeafsDisease/train/narrow_brown_spot/narrow_brown (157).jpg  \n",
            "  inflating: RiceLeafsDisease/train/narrow_brown_spot/narrow_brown (158).jpg  \n",
            "  inflating: RiceLeafsDisease/train/narrow_brown_spot/narrow_brown (159).jpg  \n",
            "  inflating: RiceLeafsDisease/train/narrow_brown_spot/narrow_brown (16).jpg  \n",
            "  inflating: RiceLeafsDisease/train/narrow_brown_spot/narrow_brown (160).jpg  \n",
            "  inflating: RiceLeafsDisease/train/narrow_brown_spot/narrow_brown (161).jpg  \n",
            "  inflating: RiceLeafsDisease/train/narrow_brown_spot/narrow_brown (162).jpg  \n",
            "  inflating: RiceLeafsDisease/train/narrow_brown_spot/narrow_brown (163).jpg  \n",
            "  inflating: RiceLeafsDisease/train/narrow_brown_spot/narrow_brown (164).jpg  \n",
            "  inflating: RiceLeafsDisease/train/narrow_brown_spot/narrow_brown (165).jpg  \n",
            "  inflating: RiceLeafsDisease/train/narrow_brown_spot/narrow_brown (166).jpg  \n",
            "  inflating: RiceLeafsDisease/train/narrow_brown_spot/narrow_brown (167).jpg  \n",
            "  inflating: RiceLeafsDisease/train/narrow_brown_spot/narrow_brown (168).jpg  \n",
            "  inflating: RiceLeafsDisease/train/narrow_brown_spot/narrow_brown (169).jpg  \n",
            "  inflating: RiceLeafsDisease/train/narrow_brown_spot/narrow_brown (17).jpg  \n",
            "  inflating: RiceLeafsDisease/train/narrow_brown_spot/narrow_brown (170).jpg  \n",
            "  inflating: RiceLeafsDisease/train/narrow_brown_spot/narrow_brown (171).jpg  \n",
            "  inflating: RiceLeafsDisease/train/narrow_brown_spot/narrow_brown (172).jpg  \n",
            "  inflating: RiceLeafsDisease/train/narrow_brown_spot/narrow_brown (173).jpg  \n",
            "  inflating: RiceLeafsDisease/train/narrow_brown_spot/narrow_brown (174).jpg  \n",
            "  inflating: RiceLeafsDisease/train/narrow_brown_spot/narrow_brown (175).jpg  \n",
            "  inflating: RiceLeafsDisease/train/narrow_brown_spot/narrow_brown (176).jpg  \n",
            "  inflating: RiceLeafsDisease/train/narrow_brown_spot/narrow_brown (177).jpg  \n",
            "  inflating: RiceLeafsDisease/train/narrow_brown_spot/narrow_brown (178).jpg  \n",
            "  inflating: RiceLeafsDisease/train/narrow_brown_spot/narrow_brown (179).jpg  \n",
            "  inflating: RiceLeafsDisease/train/narrow_brown_spot/narrow_brown (18).jpg  \n",
            "  inflating: RiceLeafsDisease/train/narrow_brown_spot/narrow_brown (180).jpg  \n",
            "  inflating: RiceLeafsDisease/train/narrow_brown_spot/narrow_brown (181).jpg  \n",
            "  inflating: RiceLeafsDisease/train/narrow_brown_spot/narrow_brown (182).jpg  \n",
            "  inflating: RiceLeafsDisease/train/narrow_brown_spot/narrow_brown (183).jpg  \n",
            "  inflating: RiceLeafsDisease/train/narrow_brown_spot/narrow_brown (184).jpg  \n",
            "  inflating: RiceLeafsDisease/train/narrow_brown_spot/narrow_brown (185).jpg  \n",
            "  inflating: RiceLeafsDisease/train/narrow_brown_spot/narrow_brown (186).jpg  \n",
            "  inflating: RiceLeafsDisease/train/narrow_brown_spot/narrow_brown (187).jpg  \n",
            "  inflating: RiceLeafsDisease/train/narrow_brown_spot/narrow_brown (188).jpg  \n",
            "  inflating: RiceLeafsDisease/train/narrow_brown_spot/narrow_brown (189).jpg  \n",
            "  inflating: RiceLeafsDisease/train/narrow_brown_spot/narrow_brown (19).jpg  \n",
            "  inflating: RiceLeafsDisease/train/narrow_brown_spot/narrow_brown (190).jpg  \n",
            "  inflating: RiceLeafsDisease/train/narrow_brown_spot/narrow_brown (191).jpg  \n",
            "  inflating: RiceLeafsDisease/train/narrow_brown_spot/narrow_brown (192).jpg  \n",
            "  inflating: RiceLeafsDisease/train/narrow_brown_spot/narrow_brown (193).jpg  \n",
            "  inflating: RiceLeafsDisease/train/narrow_brown_spot/narrow_brown (194).jpg  \n",
            "  inflating: RiceLeafsDisease/train/narrow_brown_spot/narrow_brown (195).jpg  \n",
            "  inflating: RiceLeafsDisease/train/narrow_brown_spot/narrow_brown (196).jpg  \n",
            "  inflating: RiceLeafsDisease/train/narrow_brown_spot/narrow_brown (197).jpg  \n",
            "  inflating: RiceLeafsDisease/train/narrow_brown_spot/narrow_brown (198).jpg  \n",
            "  inflating: RiceLeafsDisease/train/narrow_brown_spot/narrow_brown (199).jpg  \n",
            "  inflating: RiceLeafsDisease/train/narrow_brown_spot/narrow_brown (2).jpg  \n",
            "  inflating: RiceLeafsDisease/train/narrow_brown_spot/narrow_brown (20).jpg  \n",
            "  inflating: RiceLeafsDisease/train/narrow_brown_spot/narrow_brown (200).jpg  \n",
            "  inflating: RiceLeafsDisease/train/narrow_brown_spot/narrow_brown (201).jpg  \n",
            "  inflating: RiceLeafsDisease/train/narrow_brown_spot/narrow_brown (202).jpg  \n",
            "  inflating: RiceLeafsDisease/train/narrow_brown_spot/narrow_brown (203).jpg  \n",
            "  inflating: RiceLeafsDisease/train/narrow_brown_spot/narrow_brown (204).jpg  \n",
            "  inflating: RiceLeafsDisease/train/narrow_brown_spot/narrow_brown (205).jpg  \n",
            "  inflating: RiceLeafsDisease/train/narrow_brown_spot/narrow_brown (206).jpg  \n",
            "  inflating: RiceLeafsDisease/train/narrow_brown_spot/narrow_brown (207).jpg  \n",
            "  inflating: RiceLeafsDisease/train/narrow_brown_spot/narrow_brown (208).jpg  \n",
            "  inflating: RiceLeafsDisease/train/narrow_brown_spot/narrow_brown (209).jpg  \n",
            "  inflating: RiceLeafsDisease/train/narrow_brown_spot/narrow_brown (21).jpg  \n",
            "  inflating: RiceLeafsDisease/train/narrow_brown_spot/narrow_brown (210).jpg  \n",
            "  inflating: RiceLeafsDisease/train/narrow_brown_spot/narrow_brown (211).jpg  \n",
            "  inflating: RiceLeafsDisease/train/narrow_brown_spot/narrow_brown (212).jpg  \n",
            "  inflating: RiceLeafsDisease/train/narrow_brown_spot/narrow_brown (213).jpg  \n",
            "  inflating: RiceLeafsDisease/train/narrow_brown_spot/narrow_brown (214).jpg  \n",
            "  inflating: RiceLeafsDisease/train/narrow_brown_spot/narrow_brown (215).jpg  \n",
            "  inflating: RiceLeafsDisease/train/narrow_brown_spot/narrow_brown (216).jpg  \n",
            "  inflating: RiceLeafsDisease/train/narrow_brown_spot/narrow_brown (217).jpg  \n",
            "  inflating: RiceLeafsDisease/train/narrow_brown_spot/narrow_brown (218).jpg  \n",
            "  inflating: RiceLeafsDisease/train/narrow_brown_spot/narrow_brown (219).jpg  \n",
            "  inflating: RiceLeafsDisease/train/narrow_brown_spot/narrow_brown (22).jpg  \n",
            "  inflating: RiceLeafsDisease/train/narrow_brown_spot/narrow_brown (220).jpg  \n",
            "  inflating: RiceLeafsDisease/train/narrow_brown_spot/narrow_brown (221).jpg  \n",
            "  inflating: RiceLeafsDisease/train/narrow_brown_spot/narrow_brown (222).jpg  \n",
            "  inflating: RiceLeafsDisease/train/narrow_brown_spot/narrow_brown (223).jpg  \n",
            "  inflating: RiceLeafsDisease/train/narrow_brown_spot/narrow_brown (224).jpg  \n",
            "  inflating: RiceLeafsDisease/train/narrow_brown_spot/narrow_brown (225).jpg  \n",
            "  inflating: RiceLeafsDisease/train/narrow_brown_spot/narrow_brown (226).jpg  \n",
            "  inflating: RiceLeafsDisease/train/narrow_brown_spot/narrow_brown (227).jpg  \n",
            "  inflating: RiceLeafsDisease/train/narrow_brown_spot/narrow_brown (228).jpg  \n",
            "  inflating: RiceLeafsDisease/train/narrow_brown_spot/narrow_brown (229).jpg  \n",
            "  inflating: RiceLeafsDisease/train/narrow_brown_spot/narrow_brown (23).jpg  \n",
            "  inflating: RiceLeafsDisease/train/narrow_brown_spot/narrow_brown (230).jpg  \n",
            "  inflating: RiceLeafsDisease/train/narrow_brown_spot/narrow_brown (231).jpg  \n",
            "  inflating: RiceLeafsDisease/train/narrow_brown_spot/narrow_brown (232).jpg  \n",
            "  inflating: RiceLeafsDisease/train/narrow_brown_spot/narrow_brown (233).jpg  \n",
            "  inflating: RiceLeafsDisease/train/narrow_brown_spot/narrow_brown (234).jpg  \n",
            "  inflating: RiceLeafsDisease/train/narrow_brown_spot/narrow_brown (235).jpg  \n",
            "  inflating: RiceLeafsDisease/train/narrow_brown_spot/narrow_brown (236).jpg  \n",
            "  inflating: RiceLeafsDisease/train/narrow_brown_spot/narrow_brown (237).jpg  \n",
            "  inflating: RiceLeafsDisease/train/narrow_brown_spot/narrow_brown (238).jpg  \n",
            "  inflating: RiceLeafsDisease/train/narrow_brown_spot/narrow_brown (239).jpg  \n",
            "  inflating: RiceLeafsDisease/train/narrow_brown_spot/narrow_brown (24).jpg  \n",
            "  inflating: RiceLeafsDisease/train/narrow_brown_spot/narrow_brown (240).jpg  \n",
            "  inflating: RiceLeafsDisease/train/narrow_brown_spot/narrow_brown (241).jpg  \n",
            "  inflating: RiceLeafsDisease/train/narrow_brown_spot/narrow_brown (242).jpg  \n",
            "  inflating: RiceLeafsDisease/train/narrow_brown_spot/narrow_brown (243).jpg  \n",
            "  inflating: RiceLeafsDisease/train/narrow_brown_spot/narrow_brown (244).jpg  \n",
            "  inflating: RiceLeafsDisease/train/narrow_brown_spot/narrow_brown (245).jpg  \n",
            "  inflating: RiceLeafsDisease/train/narrow_brown_spot/narrow_brown (246).jpg  \n",
            "  inflating: RiceLeafsDisease/train/narrow_brown_spot/narrow_brown (247).jpg  \n",
            "  inflating: RiceLeafsDisease/train/narrow_brown_spot/narrow_brown (248).jpg  \n",
            "  inflating: RiceLeafsDisease/train/narrow_brown_spot/narrow_brown (249).jpg  \n",
            "  inflating: RiceLeafsDisease/train/narrow_brown_spot/narrow_brown (25).jpg  \n",
            "  inflating: RiceLeafsDisease/train/narrow_brown_spot/narrow_brown (250).jpg  \n",
            "  inflating: RiceLeafsDisease/train/narrow_brown_spot/narrow_brown (251).jpg  \n",
            "  inflating: RiceLeafsDisease/train/narrow_brown_spot/narrow_brown (252).jpg  \n",
            "  inflating: RiceLeafsDisease/train/narrow_brown_spot/narrow_brown (253).jpg  \n",
            "  inflating: RiceLeafsDisease/train/narrow_brown_spot/narrow_brown (254).jpg  \n",
            "  inflating: RiceLeafsDisease/train/narrow_brown_spot/narrow_brown (255).jpg  \n",
            "  inflating: RiceLeafsDisease/train/narrow_brown_spot/narrow_brown (256).jpg  \n",
            "  inflating: RiceLeafsDisease/train/narrow_brown_spot/narrow_brown (257).jpg  \n",
            "  inflating: RiceLeafsDisease/train/narrow_brown_spot/narrow_brown (258).jpg  \n",
            "  inflating: RiceLeafsDisease/train/narrow_brown_spot/narrow_brown (259).jpg  \n",
            "  inflating: RiceLeafsDisease/train/narrow_brown_spot/narrow_brown (26).jpg  \n",
            "  inflating: RiceLeafsDisease/train/narrow_brown_spot/narrow_brown (260).jpg  \n",
            "  inflating: RiceLeafsDisease/train/narrow_brown_spot/narrow_brown (261).jpg  \n",
            "  inflating: RiceLeafsDisease/train/narrow_brown_spot/narrow_brown (262).jpg  \n",
            "  inflating: RiceLeafsDisease/train/narrow_brown_spot/narrow_brown (263).jpg  \n",
            "  inflating: RiceLeafsDisease/train/narrow_brown_spot/narrow_brown (264).jpg  \n",
            "  inflating: RiceLeafsDisease/train/narrow_brown_spot/narrow_brown (265).jpg  \n",
            "  inflating: RiceLeafsDisease/train/narrow_brown_spot/narrow_brown (266).jpg  \n",
            "  inflating: RiceLeafsDisease/train/narrow_brown_spot/narrow_brown (267).jpg  \n",
            "  inflating: RiceLeafsDisease/train/narrow_brown_spot/narrow_brown (268).jpg  \n",
            "  inflating: RiceLeafsDisease/train/narrow_brown_spot/narrow_brown (269).jpg  \n",
            "  inflating: RiceLeafsDisease/train/narrow_brown_spot/narrow_brown (27).jpg  \n",
            "  inflating: RiceLeafsDisease/train/narrow_brown_spot/narrow_brown (270).jpg  \n",
            "  inflating: RiceLeafsDisease/train/narrow_brown_spot/narrow_brown (271).jpg  \n",
            "  inflating: RiceLeafsDisease/train/narrow_brown_spot/narrow_brown (272).jpg  \n",
            "  inflating: RiceLeafsDisease/train/narrow_brown_spot/narrow_brown (273).jpg  \n",
            "  inflating: RiceLeafsDisease/train/narrow_brown_spot/narrow_brown (274).jpg  \n",
            "  inflating: RiceLeafsDisease/train/narrow_brown_spot/narrow_brown (275).jpg  \n",
            "  inflating: RiceLeafsDisease/train/narrow_brown_spot/narrow_brown (276).jpg  \n",
            "  inflating: RiceLeafsDisease/train/narrow_brown_spot/narrow_brown (277).jpg  \n",
            "  inflating: RiceLeafsDisease/train/narrow_brown_spot/narrow_brown (278).jpg  \n",
            "  inflating: RiceLeafsDisease/train/narrow_brown_spot/narrow_brown (279).jpg  \n",
            "  inflating: RiceLeafsDisease/train/narrow_brown_spot/narrow_brown (28).jpg  \n",
            "  inflating: RiceLeafsDisease/train/narrow_brown_spot/narrow_brown (280).jpg  \n",
            "  inflating: RiceLeafsDisease/train/narrow_brown_spot/narrow_brown (281).jpg  \n",
            "  inflating: RiceLeafsDisease/train/narrow_brown_spot/narrow_brown (282).jpg  \n",
            "  inflating: RiceLeafsDisease/train/narrow_brown_spot/narrow_brown (283).jpg  \n",
            "  inflating: RiceLeafsDisease/train/narrow_brown_spot/narrow_brown (284).jpg  \n",
            "  inflating: RiceLeafsDisease/train/narrow_brown_spot/narrow_brown (285).jpg  \n",
            "  inflating: RiceLeafsDisease/train/narrow_brown_spot/narrow_brown (286).jpg  \n",
            "  inflating: RiceLeafsDisease/train/narrow_brown_spot/narrow_brown (287).jpg  \n",
            "  inflating: RiceLeafsDisease/train/narrow_brown_spot/narrow_brown (288).jpg  \n",
            "  inflating: RiceLeafsDisease/train/narrow_brown_spot/narrow_brown (289).jpg  \n",
            "  inflating: RiceLeafsDisease/train/narrow_brown_spot/narrow_brown (29).jpg  \n",
            "  inflating: RiceLeafsDisease/train/narrow_brown_spot/narrow_brown (290).jpg  \n",
            "  inflating: RiceLeafsDisease/train/narrow_brown_spot/narrow_brown (291).jpg  \n",
            "  inflating: RiceLeafsDisease/train/narrow_brown_spot/narrow_brown (292).jpg  \n",
            "  inflating: RiceLeafsDisease/train/narrow_brown_spot/narrow_brown (293).jpg  \n",
            "  inflating: RiceLeafsDisease/train/narrow_brown_spot/narrow_brown (294).jpg  \n",
            "  inflating: RiceLeafsDisease/train/narrow_brown_spot/narrow_brown (295).jpg  \n",
            "  inflating: RiceLeafsDisease/train/narrow_brown_spot/narrow_brown (296).jpg  \n",
            "  inflating: RiceLeafsDisease/train/narrow_brown_spot/narrow_brown (297).jpg  \n",
            "  inflating: RiceLeafsDisease/train/narrow_brown_spot/narrow_brown (298).jpg  \n",
            "  inflating: RiceLeafsDisease/train/narrow_brown_spot/narrow_brown (299).jpg  \n",
            "  inflating: RiceLeafsDisease/train/narrow_brown_spot/narrow_brown (3).jpg  \n",
            "  inflating: RiceLeafsDisease/train/narrow_brown_spot/narrow_brown (30).jpg  \n",
            "  inflating: RiceLeafsDisease/train/narrow_brown_spot/narrow_brown (300).jpg  \n",
            "  inflating: RiceLeafsDisease/train/narrow_brown_spot/narrow_brown (301).jpg  \n",
            "  inflating: RiceLeafsDisease/train/narrow_brown_spot/narrow_brown (302).jpg  \n",
            "  inflating: RiceLeafsDisease/train/narrow_brown_spot/narrow_brown (303).jpg  \n",
            "  inflating: RiceLeafsDisease/train/narrow_brown_spot/narrow_brown (304).jpg  \n",
            "  inflating: RiceLeafsDisease/train/narrow_brown_spot/narrow_brown (305).jpg  \n",
            "  inflating: RiceLeafsDisease/train/narrow_brown_spot/narrow_brown (306).jpg  \n",
            "  inflating: RiceLeafsDisease/train/narrow_brown_spot/narrow_brown (307).jpg  \n",
            "  inflating: RiceLeafsDisease/train/narrow_brown_spot/narrow_brown (308).jpg  \n",
            "  inflating: RiceLeafsDisease/train/narrow_brown_spot/narrow_brown (309).jpg  \n",
            "  inflating: RiceLeafsDisease/train/narrow_brown_spot/narrow_brown (31).jpg  \n",
            "  inflating: RiceLeafsDisease/train/narrow_brown_spot/narrow_brown (310).jpg  \n",
            "  inflating: RiceLeafsDisease/train/narrow_brown_spot/narrow_brown (311).jpg  \n",
            "  inflating: RiceLeafsDisease/train/narrow_brown_spot/narrow_brown (312).jpg  \n",
            "  inflating: RiceLeafsDisease/train/narrow_brown_spot/narrow_brown (313).jpg  \n",
            "  inflating: RiceLeafsDisease/train/narrow_brown_spot/narrow_brown (314).jpg  \n",
            "  inflating: RiceLeafsDisease/train/narrow_brown_spot/narrow_brown (315).jpg  \n",
            "  inflating: RiceLeafsDisease/train/narrow_brown_spot/narrow_brown (316).jpg  \n",
            "  inflating: RiceLeafsDisease/train/narrow_brown_spot/narrow_brown (317).jpg  \n",
            "  inflating: RiceLeafsDisease/train/narrow_brown_spot/narrow_brown (318).jpg  \n",
            "  inflating: RiceLeafsDisease/train/narrow_brown_spot/narrow_brown (319).jpg  \n",
            "  inflating: RiceLeafsDisease/train/narrow_brown_spot/narrow_brown (32).jpg  \n",
            "  inflating: RiceLeafsDisease/train/narrow_brown_spot/narrow_brown (320).jpg  \n",
            "  inflating: RiceLeafsDisease/train/narrow_brown_spot/narrow_brown (321).jpg  \n",
            "  inflating: RiceLeafsDisease/train/narrow_brown_spot/narrow_brown (322).jpg  \n",
            "  inflating: RiceLeafsDisease/train/narrow_brown_spot/narrow_brown (323).jpg  \n",
            "  inflating: RiceLeafsDisease/train/narrow_brown_spot/narrow_brown (324).jpg  \n",
            "  inflating: RiceLeafsDisease/train/narrow_brown_spot/narrow_brown (325).jpg  \n",
            "  inflating: RiceLeafsDisease/train/narrow_brown_spot/narrow_brown (326).jpg  \n",
            "  inflating: RiceLeafsDisease/train/narrow_brown_spot/narrow_brown (327).jpg  \n",
            "  inflating: RiceLeafsDisease/train/narrow_brown_spot/narrow_brown (328).jpg  \n",
            "  inflating: RiceLeafsDisease/train/narrow_brown_spot/narrow_brown (329).jpg  \n",
            "  inflating: RiceLeafsDisease/train/narrow_brown_spot/narrow_brown (33).jpg  \n",
            "  inflating: RiceLeafsDisease/train/narrow_brown_spot/narrow_brown (330).jpg  \n",
            "  inflating: RiceLeafsDisease/train/narrow_brown_spot/narrow_brown (331).jpg  \n",
            "  inflating: RiceLeafsDisease/train/narrow_brown_spot/narrow_brown (332).jpg  \n",
            "  inflating: RiceLeafsDisease/train/narrow_brown_spot/narrow_brown (333).jpg  \n",
            "  inflating: RiceLeafsDisease/train/narrow_brown_spot/narrow_brown (334).jpg  \n",
            "  inflating: RiceLeafsDisease/train/narrow_brown_spot/narrow_brown (335).jpg  \n",
            "  inflating: RiceLeafsDisease/train/narrow_brown_spot/narrow_brown (336).jpg  \n",
            "  inflating: RiceLeafsDisease/train/narrow_brown_spot/narrow_brown (337).jpg  \n",
            "  inflating: RiceLeafsDisease/train/narrow_brown_spot/narrow_brown (338).jpg  \n",
            "  inflating: RiceLeafsDisease/train/narrow_brown_spot/narrow_brown (339).jpg  \n",
            "  inflating: RiceLeafsDisease/train/narrow_brown_spot/narrow_brown (34).jpg  \n",
            "  inflating: RiceLeafsDisease/train/narrow_brown_spot/narrow_brown (340).jpg  \n",
            "  inflating: RiceLeafsDisease/train/narrow_brown_spot/narrow_brown (341).jpg  \n",
            "  inflating: RiceLeafsDisease/train/narrow_brown_spot/narrow_brown (342).jpg  \n",
            "  inflating: RiceLeafsDisease/train/narrow_brown_spot/narrow_brown (343).jpg  \n",
            "  inflating: RiceLeafsDisease/train/narrow_brown_spot/narrow_brown (344).jpg  \n",
            "  inflating: RiceLeafsDisease/train/narrow_brown_spot/narrow_brown (345).jpg  \n",
            "  inflating: RiceLeafsDisease/train/narrow_brown_spot/narrow_brown (346).jpg  \n",
            "  inflating: RiceLeafsDisease/train/narrow_brown_spot/narrow_brown (347).jpg  \n",
            "  inflating: RiceLeafsDisease/train/narrow_brown_spot/narrow_brown (348).jpg  \n",
            "  inflating: RiceLeafsDisease/train/narrow_brown_spot/narrow_brown (349).jpg  \n",
            "  inflating: RiceLeafsDisease/train/narrow_brown_spot/narrow_brown (35).jpg  \n",
            "  inflating: RiceLeafsDisease/train/narrow_brown_spot/narrow_brown (350).jpg  \n",
            "  inflating: RiceLeafsDisease/train/narrow_brown_spot/narrow_brown (36).jpg  \n",
            "  inflating: RiceLeafsDisease/train/narrow_brown_spot/narrow_brown (37).jpg  \n",
            "  inflating: RiceLeafsDisease/train/narrow_brown_spot/narrow_brown (38).jpg  \n",
            "  inflating: RiceLeafsDisease/train/narrow_brown_spot/narrow_brown (39).jpg  \n",
            "  inflating: RiceLeafsDisease/train/narrow_brown_spot/narrow_brown (4).jpg  \n",
            "  inflating: RiceLeafsDisease/train/narrow_brown_spot/narrow_brown (40).jpg  \n",
            "  inflating: RiceLeafsDisease/train/narrow_brown_spot/narrow_brown (41).jpg  \n",
            "  inflating: RiceLeafsDisease/train/narrow_brown_spot/narrow_brown (42).jpg  \n",
            "  inflating: RiceLeafsDisease/train/narrow_brown_spot/narrow_brown (43).jpg  \n",
            "  inflating: RiceLeafsDisease/train/narrow_brown_spot/narrow_brown (44).jpg  \n",
            "  inflating: RiceLeafsDisease/train/narrow_brown_spot/narrow_brown (45).jpg  \n",
            "  inflating: RiceLeafsDisease/train/narrow_brown_spot/narrow_brown (46).jpg  \n",
            "  inflating: RiceLeafsDisease/train/narrow_brown_spot/narrow_brown (47).jpg  \n",
            "  inflating: RiceLeafsDisease/train/narrow_brown_spot/narrow_brown (48).jpg  \n",
            "  inflating: RiceLeafsDisease/train/narrow_brown_spot/narrow_brown (49).jpg  \n",
            "  inflating: RiceLeafsDisease/train/narrow_brown_spot/narrow_brown (5).jpg  \n",
            "  inflating: RiceLeafsDisease/train/narrow_brown_spot/narrow_brown (50).jpg  \n",
            "  inflating: RiceLeafsDisease/train/narrow_brown_spot/narrow_brown (51).jpg  \n",
            "  inflating: RiceLeafsDisease/train/narrow_brown_spot/narrow_brown (52).jpg  \n",
            "  inflating: RiceLeafsDisease/train/narrow_brown_spot/narrow_brown (53).jpg  \n",
            "  inflating: RiceLeafsDisease/train/narrow_brown_spot/narrow_brown (54).jpg  \n",
            "  inflating: RiceLeafsDisease/train/narrow_brown_spot/narrow_brown (55).jpg  \n",
            "  inflating: RiceLeafsDisease/train/narrow_brown_spot/narrow_brown (56).jpg  \n",
            "  inflating: RiceLeafsDisease/train/narrow_brown_spot/narrow_brown (57).jpg  \n",
            "  inflating: RiceLeafsDisease/train/narrow_brown_spot/narrow_brown (58).jpg  \n",
            "  inflating: RiceLeafsDisease/train/narrow_brown_spot/narrow_brown (59).jpg  \n",
            "  inflating: RiceLeafsDisease/train/narrow_brown_spot/narrow_brown (6).jpg  \n",
            "  inflating: RiceLeafsDisease/train/narrow_brown_spot/narrow_brown (60).jpg  \n",
            "  inflating: RiceLeafsDisease/train/narrow_brown_spot/narrow_brown (61).jpg  \n",
            "  inflating: RiceLeafsDisease/train/narrow_brown_spot/narrow_brown (62).jpg  \n",
            "  inflating: RiceLeafsDisease/train/narrow_brown_spot/narrow_brown (63).jpg  \n",
            "  inflating: RiceLeafsDisease/train/narrow_brown_spot/narrow_brown (64).jpg  \n",
            "  inflating: RiceLeafsDisease/train/narrow_brown_spot/narrow_brown (65).jpg  \n",
            "  inflating: RiceLeafsDisease/train/narrow_brown_spot/narrow_brown (66).jpg  \n",
            "  inflating: RiceLeafsDisease/train/narrow_brown_spot/narrow_brown (67).jpg  \n",
            "  inflating: RiceLeafsDisease/train/narrow_brown_spot/narrow_brown (68).jpg  \n",
            "  inflating: RiceLeafsDisease/train/narrow_brown_spot/narrow_brown (69).jpg  \n",
            "  inflating: RiceLeafsDisease/train/narrow_brown_spot/narrow_brown (7).jpg  \n",
            "  inflating: RiceLeafsDisease/train/narrow_brown_spot/narrow_brown (70).jpg  \n",
            "  inflating: RiceLeafsDisease/train/narrow_brown_spot/narrow_brown (71).jpg  \n",
            "  inflating: RiceLeafsDisease/train/narrow_brown_spot/narrow_brown (72).jpg  \n",
            "  inflating: RiceLeafsDisease/train/narrow_brown_spot/narrow_brown (73).jpg  \n",
            "  inflating: RiceLeafsDisease/train/narrow_brown_spot/narrow_brown (74).jpg  \n",
            "  inflating: RiceLeafsDisease/train/narrow_brown_spot/narrow_brown (75).jpg  \n",
            "  inflating: RiceLeafsDisease/train/narrow_brown_spot/narrow_brown (76).jpg  \n",
            "  inflating: RiceLeafsDisease/train/narrow_brown_spot/narrow_brown (77).jpg  \n",
            "  inflating: RiceLeafsDisease/train/narrow_brown_spot/narrow_brown (78).jpg  \n",
            "  inflating: RiceLeafsDisease/train/narrow_brown_spot/narrow_brown (79).jpg  \n",
            "  inflating: RiceLeafsDisease/train/narrow_brown_spot/narrow_brown (8).jpg  \n",
            "  inflating: RiceLeafsDisease/train/narrow_brown_spot/narrow_brown (80).jpg  \n",
            "  inflating: RiceLeafsDisease/train/narrow_brown_spot/narrow_brown (81).jpg  \n",
            "  inflating: RiceLeafsDisease/train/narrow_brown_spot/narrow_brown (82).jpg  \n",
            "  inflating: RiceLeafsDisease/train/narrow_brown_spot/narrow_brown (83).jpg  \n",
            "  inflating: RiceLeafsDisease/train/narrow_brown_spot/narrow_brown (84).jpg  \n",
            "  inflating: RiceLeafsDisease/train/narrow_brown_spot/narrow_brown (85).jpg  \n",
            "  inflating: RiceLeafsDisease/train/narrow_brown_spot/narrow_brown (86).jpg  \n",
            "  inflating: RiceLeafsDisease/train/narrow_brown_spot/narrow_brown (87).jpg  \n",
            "  inflating: RiceLeafsDisease/train/narrow_brown_spot/narrow_brown (88).jpg  \n",
            "  inflating: RiceLeafsDisease/train/narrow_brown_spot/narrow_brown (89).jpg  \n",
            "  inflating: RiceLeafsDisease/train/narrow_brown_spot/narrow_brown (9).jpg  \n",
            "  inflating: RiceLeafsDisease/train/narrow_brown_spot/narrow_brown (90).jpg  \n",
            "  inflating: RiceLeafsDisease/train/narrow_brown_spot/narrow_brown (91).jpg  \n",
            "  inflating: RiceLeafsDisease/train/narrow_brown_spot/narrow_brown (92).jpg  \n",
            "  inflating: RiceLeafsDisease/train/narrow_brown_spot/narrow_brown (93).jpg  \n",
            "  inflating: RiceLeafsDisease/train/narrow_brown_spot/narrow_brown (94).jpg  \n",
            "  inflating: RiceLeafsDisease/train/narrow_brown_spot/narrow_brown (95).jpg  \n",
            "  inflating: RiceLeafsDisease/train/narrow_brown_spot/narrow_brown (96).jpg  \n",
            "  inflating: RiceLeafsDisease/train/narrow_brown_spot/narrow_brown (97).jpg  \n",
            "  inflating: RiceLeafsDisease/train/narrow_brown_spot/narrow_brown (98).jpg  \n",
            "  inflating: RiceLeafsDisease/train/narrow_brown_spot/narrow_brown (99).jpg  \n",
            "  inflating: RiceLeafsDisease/validation/bacterial_leaf_blight/bacterial_val (1).JPG  \n",
            "  inflating: RiceLeafsDisease/validation/bacterial_leaf_blight/bacterial_val (10).jpg  \n",
            "  inflating: RiceLeafsDisease/validation/bacterial_leaf_blight/bacterial_val (11).JPG  \n",
            "  inflating: RiceLeafsDisease/validation/bacterial_leaf_blight/bacterial_val (12).JPG  \n",
            "  inflating: RiceLeafsDisease/validation/bacterial_leaf_blight/bacterial_val (13).JPG  \n",
            "  inflating: RiceLeafsDisease/validation/bacterial_leaf_blight/bacterial_val (14).JPG  \n",
            "  inflating: RiceLeafsDisease/validation/bacterial_leaf_blight/bacterial_val (15).JPG  \n",
            "  inflating: RiceLeafsDisease/validation/bacterial_leaf_blight/bacterial_val (16).JPG  \n",
            "  inflating: RiceLeafsDisease/validation/bacterial_leaf_blight/bacterial_val (17).JPG  \n",
            "  inflating: RiceLeafsDisease/validation/bacterial_leaf_blight/bacterial_val (18).JPG  \n",
            "  inflating: RiceLeafsDisease/validation/bacterial_leaf_blight/bacterial_val (19).jpg  \n",
            "  inflating: RiceLeafsDisease/validation/bacterial_leaf_blight/bacterial_val (2).JPG  \n",
            "  inflating: RiceLeafsDisease/validation/bacterial_leaf_blight/bacterial_val (20).JPG  \n",
            "  inflating: RiceLeafsDisease/validation/bacterial_leaf_blight/bacterial_val (21).JPG  \n",
            "  inflating: RiceLeafsDisease/validation/bacterial_leaf_blight/bacterial_val (22).JPG  \n",
            "  inflating: RiceLeafsDisease/validation/bacterial_leaf_blight/bacterial_val (23).JPG  \n",
            "  inflating: RiceLeafsDisease/validation/bacterial_leaf_blight/bacterial_val (24).JPG  \n",
            "  inflating: RiceLeafsDisease/validation/bacterial_leaf_blight/bacterial_val (25).JPG  \n",
            "  inflating: RiceLeafsDisease/validation/bacterial_leaf_blight/bacterial_val (26).JPG  \n",
            "  inflating: RiceLeafsDisease/validation/bacterial_leaf_blight/bacterial_val (27).JPG  \n",
            "  inflating: RiceLeafsDisease/validation/bacterial_leaf_blight/bacterial_val (28).JPG  \n",
            "  inflating: RiceLeafsDisease/validation/bacterial_leaf_blight/bacterial_val (29).JPG  \n",
            "  inflating: RiceLeafsDisease/validation/bacterial_leaf_blight/bacterial_val (3).JPG  \n",
            "  inflating: RiceLeafsDisease/validation/bacterial_leaf_blight/bacterial_val (30).JPG  \n",
            "  inflating: RiceLeafsDisease/validation/bacterial_leaf_blight/bacterial_val (31).JPG  \n",
            "  inflating: RiceLeafsDisease/validation/bacterial_leaf_blight/bacterial_val (32).jpg  \n",
            "  inflating: RiceLeafsDisease/validation/bacterial_leaf_blight/bacterial_val (33).jpg  \n",
            "  inflating: RiceLeafsDisease/validation/bacterial_leaf_blight/bacterial_val (34).JPG  \n",
            "  inflating: RiceLeafsDisease/validation/bacterial_leaf_blight/bacterial_val (35).jpg  \n",
            "  inflating: RiceLeafsDisease/validation/bacterial_leaf_blight/bacterial_val (36).JPG  \n",
            "  inflating: RiceLeafsDisease/validation/bacterial_leaf_blight/bacterial_val (37).jpg  \n",
            "  inflating: RiceLeafsDisease/validation/bacterial_leaf_blight/bacterial_val (38).JPG  \n",
            "  inflating: RiceLeafsDisease/validation/bacterial_leaf_blight/bacterial_val (39).JPG  \n",
            "  inflating: RiceLeafsDisease/validation/bacterial_leaf_blight/bacterial_val (4).JPG  \n",
            "  inflating: RiceLeafsDisease/validation/bacterial_leaf_blight/bacterial_val (40).JPG  \n",
            "  inflating: RiceLeafsDisease/validation/bacterial_leaf_blight/bacterial_val (41).jpg  \n",
            "  inflating: RiceLeafsDisease/validation/bacterial_leaf_blight/bacterial_val (42).jpg  \n",
            "  inflating: RiceLeafsDisease/validation/bacterial_leaf_blight/bacterial_val (43).JPG  \n",
            "  inflating: RiceLeafsDisease/validation/bacterial_leaf_blight/bacterial_val (44).jpg  \n",
            "  inflating: RiceLeafsDisease/validation/bacterial_leaf_blight/bacterial_val (45).jpg  \n",
            "  inflating: RiceLeafsDisease/validation/bacterial_leaf_blight/bacterial_val (46).JPG  \n",
            "  inflating: RiceLeafsDisease/validation/bacterial_leaf_blight/bacterial_val (47).jpg  \n",
            "  inflating: RiceLeafsDisease/validation/bacterial_leaf_blight/bacterial_val (48).jpg  \n",
            "  inflating: RiceLeafsDisease/validation/bacterial_leaf_blight/bacterial_val (49).jpg  \n",
            "  inflating: RiceLeafsDisease/validation/bacterial_leaf_blight/bacterial_val (5).JPG  \n",
            "  inflating: RiceLeafsDisease/validation/bacterial_leaf_blight/bacterial_val (50).JPG  \n",
            "  inflating: RiceLeafsDisease/validation/bacterial_leaf_blight/bacterial_val (51).JPG  \n",
            "  inflating: RiceLeafsDisease/validation/bacterial_leaf_blight/bacterial_val (52).JPG  \n",
            "  inflating: RiceLeafsDisease/validation/bacterial_leaf_blight/bacterial_val (53).JPG  \n",
            "  inflating: RiceLeafsDisease/validation/bacterial_leaf_blight/bacterial_val (54).JPG  \n",
            "  inflating: RiceLeafsDisease/validation/bacterial_leaf_blight/bacterial_val (55).JPG  \n",
            "  inflating: RiceLeafsDisease/validation/bacterial_leaf_blight/bacterial_val (56).jpg  \n",
            "  inflating: RiceLeafsDisease/validation/bacterial_leaf_blight/bacterial_val (57).JPG  \n",
            "  inflating: RiceLeafsDisease/validation/bacterial_leaf_blight/bacterial_val (58).jpg  \n",
            "  inflating: RiceLeafsDisease/validation/bacterial_leaf_blight/bacterial_val (59).JPG  \n",
            "  inflating: RiceLeafsDisease/validation/bacterial_leaf_blight/bacterial_val (6).jpg  \n",
            "  inflating: RiceLeafsDisease/validation/bacterial_leaf_blight/bacterial_val (60).JPG  \n",
            "  inflating: RiceLeafsDisease/validation/bacterial_leaf_blight/bacterial_val (61).JPG  \n",
            "  inflating: RiceLeafsDisease/validation/bacterial_leaf_blight/bacterial_val (62).JPG  \n",
            "  inflating: RiceLeafsDisease/validation/bacterial_leaf_blight/bacterial_val (63).JPG  \n",
            "  inflating: RiceLeafsDisease/validation/bacterial_leaf_blight/bacterial_val (64).JPG  \n",
            "  inflating: RiceLeafsDisease/validation/bacterial_leaf_blight/bacterial_val (65).JPG  \n",
            "  inflating: RiceLeafsDisease/validation/bacterial_leaf_blight/bacterial_val (66).JPG  \n",
            "  inflating: RiceLeafsDisease/validation/bacterial_leaf_blight/bacterial_val (67).JPG  \n",
            "  inflating: RiceLeafsDisease/validation/bacterial_leaf_blight/bacterial_val (68).JPG  \n",
            "  inflating: RiceLeafsDisease/validation/bacterial_leaf_blight/bacterial_val (69).JPG  \n",
            "  inflating: RiceLeafsDisease/validation/bacterial_leaf_blight/bacterial_val (7).JPG  \n",
            "  inflating: RiceLeafsDisease/validation/bacterial_leaf_blight/bacterial_val (70).JPG  \n",
            "  inflating: RiceLeafsDisease/validation/bacterial_leaf_blight/bacterial_val (71).JPG  \n",
            "  inflating: RiceLeafsDisease/validation/bacterial_leaf_blight/bacterial_val (72).JPG  \n",
            "  inflating: RiceLeafsDisease/validation/bacterial_leaf_blight/bacterial_val (73).JPG  \n",
            "  inflating: RiceLeafsDisease/validation/bacterial_leaf_blight/bacterial_val (74).jpg  \n",
            "  inflating: RiceLeafsDisease/validation/bacterial_leaf_blight/bacterial_val (75).JPG  \n",
            "  inflating: RiceLeafsDisease/validation/bacterial_leaf_blight/bacterial_val (76).JPG  \n",
            "  inflating: RiceLeafsDisease/validation/bacterial_leaf_blight/bacterial_val (77).JPG  \n",
            "  inflating: RiceLeafsDisease/validation/bacterial_leaf_blight/bacterial_val (78).JPG  \n",
            "  inflating: RiceLeafsDisease/validation/bacterial_leaf_blight/bacterial_val (79).JPG  \n",
            "  inflating: RiceLeafsDisease/validation/bacterial_leaf_blight/bacterial_val (8).JPG  \n",
            "  inflating: RiceLeafsDisease/validation/bacterial_leaf_blight/bacterial_val (80).JPG  \n",
            "  inflating: RiceLeafsDisease/validation/bacterial_leaf_blight/bacterial_val (81).JPG  \n",
            "  inflating: RiceLeafsDisease/validation/bacterial_leaf_blight/bacterial_val (82).JPG  \n",
            "  inflating: RiceLeafsDisease/validation/bacterial_leaf_blight/bacterial_val (83).JPG  \n",
            "  inflating: RiceLeafsDisease/validation/bacterial_leaf_blight/bacterial_val (84).jpg  \n",
            "  inflating: RiceLeafsDisease/validation/bacterial_leaf_blight/bacterial_val (85).JPG  \n",
            "  inflating: RiceLeafsDisease/validation/bacterial_leaf_blight/bacterial_val (86).JPG  \n",
            "  inflating: RiceLeafsDisease/validation/bacterial_leaf_blight/bacterial_val (87).jpg  \n",
            "  inflating: RiceLeafsDisease/validation/bacterial_leaf_blight/bacterial_val (88).JPG  \n",
            "  inflating: RiceLeafsDisease/validation/bacterial_leaf_blight/bacterial_val (9).JPG  \n",
            "  inflating: RiceLeafsDisease/validation/brown_spot/brown_val (1).jpg  \n",
            "  inflating: RiceLeafsDisease/validation/brown_spot/brown_val (10).jpg  \n",
            "  inflating: RiceLeafsDisease/validation/brown_spot/brown_val (11).jpg  \n",
            "  inflating: RiceLeafsDisease/validation/brown_spot/brown_val (12).jpg  \n",
            "  inflating: RiceLeafsDisease/validation/brown_spot/brown_val (13).jpg  \n",
            "  inflating: RiceLeafsDisease/validation/brown_spot/brown_val (14).jpg  \n",
            "  inflating: RiceLeafsDisease/validation/brown_spot/brown_val (15).jpg  \n",
            "  inflating: RiceLeafsDisease/validation/brown_spot/brown_val (16).JPG  \n",
            "  inflating: RiceLeafsDisease/validation/brown_spot/brown_val (17).JPG  \n",
            "  inflating: RiceLeafsDisease/validation/brown_spot/brown_val (18).JPG  \n",
            "  inflating: RiceLeafsDisease/validation/brown_spot/brown_val (19).JPG  \n",
            "  inflating: RiceLeafsDisease/validation/brown_spot/brown_val (2).jpg  \n",
            "  inflating: RiceLeafsDisease/validation/brown_spot/brown_val (20).JPG  \n",
            "  inflating: RiceLeafsDisease/validation/brown_spot/brown_val (21).JPG  \n",
            "  inflating: RiceLeafsDisease/validation/brown_spot/brown_val (22).JPG  \n",
            "  inflating: RiceLeafsDisease/validation/brown_spot/brown_val (23).jpg  \n",
            "  inflating: RiceLeafsDisease/validation/brown_spot/brown_val (24).jpg  \n",
            "  inflating: RiceLeafsDisease/validation/brown_spot/brown_val (25).jpg  \n",
            "  inflating: RiceLeafsDisease/validation/brown_spot/brown_val (26).jpg  \n",
            "  inflating: RiceLeafsDisease/validation/brown_spot/brown_val (27).jpg  \n",
            "  inflating: RiceLeafsDisease/validation/brown_spot/brown_val (28).jpg  \n",
            "  inflating: RiceLeafsDisease/validation/brown_spot/brown_val (29).jpg  \n",
            "  inflating: RiceLeafsDisease/validation/brown_spot/brown_val (3).jpg  \n",
            "  inflating: RiceLeafsDisease/validation/brown_spot/brown_val (30).jpg  \n",
            "  inflating: RiceLeafsDisease/validation/brown_spot/brown_val (31).jpg  \n",
            "  inflating: RiceLeafsDisease/validation/brown_spot/brown_val (32).jpg  \n",
            "  inflating: RiceLeafsDisease/validation/brown_spot/brown_val (33).jpg  \n",
            "  inflating: RiceLeafsDisease/validation/brown_spot/brown_val (34).jpg  \n",
            "  inflating: RiceLeafsDisease/validation/brown_spot/brown_val (35).jpg  \n",
            "  inflating: RiceLeafsDisease/validation/brown_spot/brown_val (36).jpg  \n",
            "  inflating: RiceLeafsDisease/validation/brown_spot/brown_val (37).jpg  \n",
            "  inflating: RiceLeafsDisease/validation/brown_spot/brown_val (38).jpg  \n",
            "  inflating: RiceLeafsDisease/validation/brown_spot/brown_val (39).jpg  \n",
            "  inflating: RiceLeafsDisease/validation/brown_spot/brown_val (4).jpg  \n",
            "  inflating: RiceLeafsDisease/validation/brown_spot/brown_val (40).jpg  \n",
            "  inflating: RiceLeafsDisease/validation/brown_spot/brown_val (41).jpg  \n",
            "  inflating: RiceLeafsDisease/validation/brown_spot/brown_val (42).jpg  \n",
            "  inflating: RiceLeafsDisease/validation/brown_spot/brown_val (43).jpg  \n",
            "  inflating: RiceLeafsDisease/validation/brown_spot/brown_val (44).jpg  \n",
            "  inflating: RiceLeafsDisease/validation/brown_spot/brown_val (45).jpg  \n",
            "  inflating: RiceLeafsDisease/validation/brown_spot/brown_val (46).jpg  \n",
            "  inflating: RiceLeafsDisease/validation/brown_spot/brown_val (47).JPG  \n",
            "  inflating: RiceLeafsDisease/validation/brown_spot/brown_val (48).JPG  \n",
            "  inflating: RiceLeafsDisease/validation/brown_spot/brown_val (49).JPG  \n",
            "  inflating: RiceLeafsDisease/validation/brown_spot/brown_val (5).JPG  \n",
            "  inflating: RiceLeafsDisease/validation/brown_spot/brown_val (50).jpg  \n",
            "  inflating: RiceLeafsDisease/validation/brown_spot/brown_val (51).jpg  \n",
            "  inflating: RiceLeafsDisease/validation/brown_spot/brown_val (52).jpg  \n",
            "  inflating: RiceLeafsDisease/validation/brown_spot/brown_val (53).jpg  \n",
            "  inflating: RiceLeafsDisease/validation/brown_spot/brown_val (54).jpg  \n",
            "  inflating: RiceLeafsDisease/validation/brown_spot/brown_val (55).jpg  \n",
            "  inflating: RiceLeafsDisease/validation/brown_spot/brown_val (56).jpg  \n",
            "  inflating: RiceLeafsDisease/validation/brown_spot/brown_val (57).jpg  \n",
            "  inflating: RiceLeafsDisease/validation/brown_spot/brown_val (58).jpg  \n",
            "  inflating: RiceLeafsDisease/validation/brown_spot/brown_val (59).jpg  \n",
            "  inflating: RiceLeafsDisease/validation/brown_spot/brown_val (6).jpg  \n",
            "  inflating: RiceLeafsDisease/validation/brown_spot/brown_val (60).jpg  \n",
            "  inflating: RiceLeafsDisease/validation/brown_spot/brown_val (61).jpg  \n",
            "  inflating: RiceLeafsDisease/validation/brown_spot/brown_val (62).jpg  \n",
            "  inflating: RiceLeafsDisease/validation/brown_spot/brown_val (63).jpg  \n",
            "  inflating: RiceLeafsDisease/validation/brown_spot/brown_val (64).jpg  \n",
            "  inflating: RiceLeafsDisease/validation/brown_spot/brown_val (65).jpg  \n",
            "  inflating: RiceLeafsDisease/validation/brown_spot/brown_val (66).jpg  \n",
            "  inflating: RiceLeafsDisease/validation/brown_spot/brown_val (67).jpg  \n",
            "  inflating: RiceLeafsDisease/validation/brown_spot/brown_val (68).jpg  \n",
            "  inflating: RiceLeafsDisease/validation/brown_spot/brown_val (69).jpg  \n",
            "  inflating: RiceLeafsDisease/validation/brown_spot/brown_val (7).jpg  \n",
            "  inflating: RiceLeafsDisease/validation/brown_spot/brown_val (70).jpg  \n",
            "  inflating: RiceLeafsDisease/validation/brown_spot/brown_val (71).jpg  \n",
            "  inflating: RiceLeafsDisease/validation/brown_spot/brown_val (72).jpg  \n",
            "  inflating: RiceLeafsDisease/validation/brown_spot/brown_val (73).jpg  \n",
            "  inflating: RiceLeafsDisease/validation/brown_spot/brown_val (74).jpg  \n",
            "  inflating: RiceLeafsDisease/validation/brown_spot/brown_val (75).jpg  \n",
            "  inflating: RiceLeafsDisease/validation/brown_spot/brown_val (76).jpg  \n",
            "  inflating: RiceLeafsDisease/validation/brown_spot/brown_val (77).jpg  \n",
            "  inflating: RiceLeafsDisease/validation/brown_spot/brown_val (78).JPG  \n",
            "  inflating: RiceLeafsDisease/validation/brown_spot/brown_val (79).jpg  \n",
            "  inflating: RiceLeafsDisease/validation/brown_spot/brown_val (8).jpg  \n",
            "  inflating: RiceLeafsDisease/validation/brown_spot/brown_val (80).jpg  \n",
            "  inflating: RiceLeafsDisease/validation/brown_spot/brown_val (81).jpg  \n",
            "  inflating: RiceLeafsDisease/validation/brown_spot/brown_val (82).jpg  \n",
            "  inflating: RiceLeafsDisease/validation/brown_spot/brown_val (83).jpg  \n",
            "  inflating: RiceLeafsDisease/validation/brown_spot/brown_val (84).jpg  \n",
            "  inflating: RiceLeafsDisease/validation/brown_spot/brown_val (85).jpg  \n",
            "  inflating: RiceLeafsDisease/validation/brown_spot/brown_val (86).jpg  \n",
            "  inflating: RiceLeafsDisease/validation/brown_spot/brown_val (87).jpg  \n",
            "  inflating: RiceLeafsDisease/validation/brown_spot/brown_val (88).jpg  \n",
            "  inflating: RiceLeafsDisease/validation/brown_spot/brown_val (9).jpg  \n",
            "  inflating: RiceLeafsDisease/validation/healthy/healthy_val (1).jpg  \n",
            "  inflating: RiceLeafsDisease/validation/healthy/healthy_val (10).jpg  \n",
            "  inflating: RiceLeafsDisease/validation/healthy/healthy_val (11).jpg  \n",
            "  inflating: RiceLeafsDisease/validation/healthy/healthy_val (12).jpg  \n",
            "  inflating: RiceLeafsDisease/validation/healthy/healthy_val (13).jpg  \n",
            "  inflating: RiceLeafsDisease/validation/healthy/healthy_val (14).jpg  \n",
            "  inflating: RiceLeafsDisease/validation/healthy/healthy_val (15).jpg  \n",
            "  inflating: RiceLeafsDisease/validation/healthy/healthy_val (16).jpg  \n",
            "  inflating: RiceLeafsDisease/validation/healthy/healthy_val (17).jpg  \n",
            "  inflating: RiceLeafsDisease/validation/healthy/healthy_val (18).jpg  \n",
            "  inflating: RiceLeafsDisease/validation/healthy/healthy_val (19).jpg  \n",
            "  inflating: RiceLeafsDisease/validation/healthy/healthy_val (2).jpg  \n",
            "  inflating: RiceLeafsDisease/validation/healthy/healthy_val (20).jpg  \n",
            "  inflating: RiceLeafsDisease/validation/healthy/healthy_val (21).jpg  \n",
            "  inflating: RiceLeafsDisease/validation/healthy/healthy_val (22).jpg  \n",
            "  inflating: RiceLeafsDisease/validation/healthy/healthy_val (23).jpg  \n",
            "  inflating: RiceLeafsDisease/validation/healthy/healthy_val (24).jpg  \n",
            "  inflating: RiceLeafsDisease/validation/healthy/healthy_val (25).jpg  \n",
            "  inflating: RiceLeafsDisease/validation/healthy/healthy_val (26).jpg  \n",
            "  inflating: RiceLeafsDisease/validation/healthy/healthy_val (27).jpg  \n",
            "  inflating: RiceLeafsDisease/validation/healthy/healthy_val (28).jpg  \n",
            "  inflating: RiceLeafsDisease/validation/healthy/healthy_val (29).jpg  \n",
            "  inflating: RiceLeafsDisease/validation/healthy/healthy_val (3).jpg  \n",
            "  inflating: RiceLeafsDisease/validation/healthy/healthy_val (30).jpg  \n",
            "  inflating: RiceLeafsDisease/validation/healthy/healthy_val (31).jpg  \n",
            "  inflating: RiceLeafsDisease/validation/healthy/healthy_val (32).jpg  \n",
            "  inflating: RiceLeafsDisease/validation/healthy/healthy_val (33).jpg  \n",
            "  inflating: RiceLeafsDisease/validation/healthy/healthy_val (34).jpg  \n",
            "  inflating: RiceLeafsDisease/validation/healthy/healthy_val (35).jpg  \n",
            "  inflating: RiceLeafsDisease/validation/healthy/healthy_val (36).jpg  \n",
            "  inflating: RiceLeafsDisease/validation/healthy/healthy_val (37).jpg  \n",
            "  inflating: RiceLeafsDisease/validation/healthy/healthy_val (38).jpg  \n",
            "  inflating: RiceLeafsDisease/validation/healthy/healthy_val (39).jpg  \n",
            "  inflating: RiceLeafsDisease/validation/healthy/healthy_val (4).jpg  \n",
            "  inflating: RiceLeafsDisease/validation/healthy/healthy_val (40).jpg  \n",
            "  inflating: RiceLeafsDisease/validation/healthy/healthy_val (41).jpg  \n",
            "  inflating: RiceLeafsDisease/validation/healthy/healthy_val (42).jpg  \n",
            "  inflating: RiceLeafsDisease/validation/healthy/healthy_val (43).jpg  \n",
            "  inflating: RiceLeafsDisease/validation/healthy/healthy_val (44).jpg  \n",
            "  inflating: RiceLeafsDisease/validation/healthy/healthy_val (45).jpg  \n",
            "  inflating: RiceLeafsDisease/validation/healthy/healthy_val (46).jpg  \n",
            "  inflating: RiceLeafsDisease/validation/healthy/healthy_val (47).jpg  \n",
            "  inflating: RiceLeafsDisease/validation/healthy/healthy_val (48).jpg  \n",
            "  inflating: RiceLeafsDisease/validation/healthy/healthy_val (49).jpg  \n",
            "  inflating: RiceLeafsDisease/validation/healthy/healthy_val (5).jpg  \n",
            "  inflating: RiceLeafsDisease/validation/healthy/healthy_val (50).jpg  \n",
            "  inflating: RiceLeafsDisease/validation/healthy/healthy_val (51).jpg  \n",
            "  inflating: RiceLeafsDisease/validation/healthy/healthy_val (52).jpg  \n",
            "  inflating: RiceLeafsDisease/validation/healthy/healthy_val (53).jpg  \n",
            "  inflating: RiceLeafsDisease/validation/healthy/healthy_val (54).jpg  \n",
            "  inflating: RiceLeafsDisease/validation/healthy/healthy_val (55).jpg  \n",
            "  inflating: RiceLeafsDisease/validation/healthy/healthy_val (56).jpg  \n",
            "  inflating: RiceLeafsDisease/validation/healthy/healthy_val (57).jpg  \n",
            "  inflating: RiceLeafsDisease/validation/healthy/healthy_val (58).jpg  \n",
            "  inflating: RiceLeafsDisease/validation/healthy/healthy_val (59).jpg  \n",
            "  inflating: RiceLeafsDisease/validation/healthy/healthy_val (6).jpg  \n",
            "  inflating: RiceLeafsDisease/validation/healthy/healthy_val (60).jpg  \n",
            "  inflating: RiceLeafsDisease/validation/healthy/healthy_val (61).jpg  \n",
            "  inflating: RiceLeafsDisease/validation/healthy/healthy_val (62).jpg  \n",
            "  inflating: RiceLeafsDisease/validation/healthy/healthy_val (63).jpg  \n",
            "  inflating: RiceLeafsDisease/validation/healthy/healthy_val (64).jpg  \n",
            "  inflating: RiceLeafsDisease/validation/healthy/healthy_val (65).jpg  \n",
            "  inflating: RiceLeafsDisease/validation/healthy/healthy_val (66).jpg  \n",
            "  inflating: RiceLeafsDisease/validation/healthy/healthy_val (67).jpg  \n",
            "  inflating: RiceLeafsDisease/validation/healthy/healthy_val (68).jpg  \n",
            "  inflating: RiceLeafsDisease/validation/healthy/healthy_val (69).jpg  \n",
            "  inflating: RiceLeafsDisease/validation/healthy/healthy_val (7).jpg  \n",
            "  inflating: RiceLeafsDisease/validation/healthy/healthy_val (70).jpg  \n",
            "  inflating: RiceLeafsDisease/validation/healthy/healthy_val (71).jpg  \n",
            "  inflating: RiceLeafsDisease/validation/healthy/healthy_val (72).jpg  \n",
            "  inflating: RiceLeafsDisease/validation/healthy/healthy_val (73).jpg  \n",
            "  inflating: RiceLeafsDisease/validation/healthy/healthy_val (74).jpg  \n",
            "  inflating: RiceLeafsDisease/validation/healthy/healthy_val (75).jpg  \n",
            "  inflating: RiceLeafsDisease/validation/healthy/healthy_val (76).jpg  \n",
            "  inflating: RiceLeafsDisease/validation/healthy/healthy_val (77).jpg  \n",
            "  inflating: RiceLeafsDisease/validation/healthy/healthy_val (78).jpg  \n",
            "  inflating: RiceLeafsDisease/validation/healthy/healthy_val (79).jpg  \n",
            "  inflating: RiceLeafsDisease/validation/healthy/healthy_val (8).jpg  \n",
            "  inflating: RiceLeafsDisease/validation/healthy/healthy_val (80).jpg  \n",
            "  inflating: RiceLeafsDisease/validation/healthy/healthy_val (81).jpg  \n",
            "  inflating: RiceLeafsDisease/validation/healthy/healthy_val (82).jpg  \n",
            "  inflating: RiceLeafsDisease/validation/healthy/healthy_val (83).jpg  \n",
            "  inflating: RiceLeafsDisease/validation/healthy/healthy_val (84).jpg  \n",
            "  inflating: RiceLeafsDisease/validation/healthy/healthy_val (85).jpg  \n",
            "  inflating: RiceLeafsDisease/validation/healthy/healthy_val (86).jpg  \n",
            "  inflating: RiceLeafsDisease/validation/healthy/healthy_val (87).jpg  \n",
            "  inflating: RiceLeafsDisease/validation/healthy/healthy_val (88).jpg  \n",
            "  inflating: RiceLeafsDisease/validation/healthy/healthy_val (9).jpg  \n",
            "  inflating: RiceLeafsDisease/validation/leaf_blast/leaf_blast_val (1).jpg  \n",
            "  inflating: RiceLeafsDisease/validation/leaf_blast/leaf_blast_val (10).jpg  \n",
            "  inflating: RiceLeafsDisease/validation/leaf_blast/leaf_blast_val (11).jpg  \n",
            "  inflating: RiceLeafsDisease/validation/leaf_blast/leaf_blast_val (12).jpg  \n",
            "  inflating: RiceLeafsDisease/validation/leaf_blast/leaf_blast_val (13).jpg  \n",
            "  inflating: RiceLeafsDisease/validation/leaf_blast/leaf_blast_val (14).jpg  \n",
            "  inflating: RiceLeafsDisease/validation/leaf_blast/leaf_blast_val (15).jpg  \n",
            "  inflating: RiceLeafsDisease/validation/leaf_blast/leaf_blast_val (16).jpg  \n",
            "  inflating: RiceLeafsDisease/validation/leaf_blast/leaf_blast_val (17).jpg  \n",
            "  inflating: RiceLeafsDisease/validation/leaf_blast/leaf_blast_val (18).jpg  \n",
            "  inflating: RiceLeafsDisease/validation/leaf_blast/leaf_blast_val (19).jpg  \n",
            "  inflating: RiceLeafsDisease/validation/leaf_blast/leaf_blast_val (2).jpg  \n",
            "  inflating: RiceLeafsDisease/validation/leaf_blast/leaf_blast_val (20).jpg  \n",
            "  inflating: RiceLeafsDisease/validation/leaf_blast/leaf_blast_val (21).jpg  \n",
            "  inflating: RiceLeafsDisease/validation/leaf_blast/leaf_blast_val (22).jpg  \n",
            "  inflating: RiceLeafsDisease/validation/leaf_blast/leaf_blast_val (23).jpg  \n",
            "  inflating: RiceLeafsDisease/validation/leaf_blast/leaf_blast_val (24).jpg  \n",
            "  inflating: RiceLeafsDisease/validation/leaf_blast/leaf_blast_val (25).jpg  \n",
            "  inflating: RiceLeafsDisease/validation/leaf_blast/leaf_blast_val (26).jpg  \n",
            "  inflating: RiceLeafsDisease/validation/leaf_blast/leaf_blast_val (27).jpg  \n",
            "  inflating: RiceLeafsDisease/validation/leaf_blast/leaf_blast_val (28).jpg  \n",
            "  inflating: RiceLeafsDisease/validation/leaf_blast/leaf_blast_val (29).jpg  \n",
            "  inflating: RiceLeafsDisease/validation/leaf_blast/leaf_blast_val (3).jpg  \n",
            "  inflating: RiceLeafsDisease/validation/leaf_blast/leaf_blast_val (30).jpg  \n",
            "  inflating: RiceLeafsDisease/validation/leaf_blast/leaf_blast_val (31).jpg  \n",
            "  inflating: RiceLeafsDisease/validation/leaf_blast/leaf_blast_val (32).jpg  \n",
            "  inflating: RiceLeafsDisease/validation/leaf_blast/leaf_blast_val (33).jpg  \n",
            "  inflating: RiceLeafsDisease/validation/leaf_blast/leaf_blast_val (34).jpg  \n",
            "  inflating: RiceLeafsDisease/validation/leaf_blast/leaf_blast_val (35).jpg  \n",
            "  inflating: RiceLeafsDisease/validation/leaf_blast/leaf_blast_val (36).jpg  \n",
            "  inflating: RiceLeafsDisease/validation/leaf_blast/leaf_blast_val (37).jpg  \n",
            "  inflating: RiceLeafsDisease/validation/leaf_blast/leaf_blast_val (38).jpg  \n",
            "  inflating: RiceLeafsDisease/validation/leaf_blast/leaf_blast_val (39).jpg  \n",
            "  inflating: RiceLeafsDisease/validation/leaf_blast/leaf_blast_val (4).jpg  \n",
            "  inflating: RiceLeafsDisease/validation/leaf_blast/leaf_blast_val (40).jpg  \n",
            "  inflating: RiceLeafsDisease/validation/leaf_blast/leaf_blast_val (41).jpg  \n",
            "  inflating: RiceLeafsDisease/validation/leaf_blast/leaf_blast_val (42).jpg  \n",
            "  inflating: RiceLeafsDisease/validation/leaf_blast/leaf_blast_val (43).jpg  \n",
            "  inflating: RiceLeafsDisease/validation/leaf_blast/leaf_blast_val (44).jpg  \n",
            "  inflating: RiceLeafsDisease/validation/leaf_blast/leaf_blast_val (45).jpg  \n",
            "  inflating: RiceLeafsDisease/validation/leaf_blast/leaf_blast_val (46).jpg  \n",
            "  inflating: RiceLeafsDisease/validation/leaf_blast/leaf_blast_val (47).jpg  \n",
            "  inflating: RiceLeafsDisease/validation/leaf_blast/leaf_blast_val (48).jpg  \n",
            "  inflating: RiceLeafsDisease/validation/leaf_blast/leaf_blast_val (49).jpg  \n",
            "  inflating: RiceLeafsDisease/validation/leaf_blast/leaf_blast_val (5).jpg  \n",
            "  inflating: RiceLeafsDisease/validation/leaf_blast/leaf_blast_val (50).jpg  \n",
            "  inflating: RiceLeafsDisease/validation/leaf_blast/leaf_blast_val (51).jpg  \n",
            "  inflating: RiceLeafsDisease/validation/leaf_blast/leaf_blast_val (52).jpg  \n",
            "  inflating: RiceLeafsDisease/validation/leaf_blast/leaf_blast_val (53).jpg  \n",
            "  inflating: RiceLeafsDisease/validation/leaf_blast/leaf_blast_val (54).jpg  \n",
            "  inflating: RiceLeafsDisease/validation/leaf_blast/leaf_blast_val (55).jpg  \n",
            "  inflating: RiceLeafsDisease/validation/leaf_blast/leaf_blast_val (56).jpg  \n",
            "  inflating: RiceLeafsDisease/validation/leaf_blast/leaf_blast_val (57).jpg  \n",
            "  inflating: RiceLeafsDisease/validation/leaf_blast/leaf_blast_val (58).jpg  \n",
            "  inflating: RiceLeafsDisease/validation/leaf_blast/leaf_blast_val (59).jpg  \n",
            "  inflating: RiceLeafsDisease/validation/leaf_blast/leaf_blast_val (6).jpg  \n",
            "  inflating: RiceLeafsDisease/validation/leaf_blast/leaf_blast_val (60).jpg  \n",
            "  inflating: RiceLeafsDisease/validation/leaf_blast/leaf_blast_val (61).jpg  \n",
            "  inflating: RiceLeafsDisease/validation/leaf_blast/leaf_blast_val (62).jpg  \n",
            "  inflating: RiceLeafsDisease/validation/leaf_blast/leaf_blast_val (63).jpg  \n",
            "  inflating: RiceLeafsDisease/validation/leaf_blast/leaf_blast_val (64).jpg  \n",
            "  inflating: RiceLeafsDisease/validation/leaf_blast/leaf_blast_val (65).jpg  \n",
            "  inflating: RiceLeafsDisease/validation/leaf_blast/leaf_blast_val (66).jpg  \n",
            "  inflating: RiceLeafsDisease/validation/leaf_blast/leaf_blast_val (67).jpg  \n",
            "  inflating: RiceLeafsDisease/validation/leaf_blast/leaf_blast_val (68).jpg  \n",
            "  inflating: RiceLeafsDisease/validation/leaf_blast/leaf_blast_val (69).jpg  \n",
            "  inflating: RiceLeafsDisease/validation/leaf_blast/leaf_blast_val (7).jpg  \n",
            "  inflating: RiceLeafsDisease/validation/leaf_blast/leaf_blast_val (70).jpg  \n",
            "  inflating: RiceLeafsDisease/validation/leaf_blast/leaf_blast_val (71).jpg  \n",
            "  inflating: RiceLeafsDisease/validation/leaf_blast/leaf_blast_val (72).jpg  \n",
            "  inflating: RiceLeafsDisease/validation/leaf_blast/leaf_blast_val (73).jpg  \n",
            "  inflating: RiceLeafsDisease/validation/leaf_blast/leaf_blast_val (74).jpg  \n",
            "  inflating: RiceLeafsDisease/validation/leaf_blast/leaf_blast_val (75).jpg  \n",
            "  inflating: RiceLeafsDisease/validation/leaf_blast/leaf_blast_val (76).jpg  \n",
            "  inflating: RiceLeafsDisease/validation/leaf_blast/leaf_blast_val (77).jpg  \n",
            "  inflating: RiceLeafsDisease/validation/leaf_blast/leaf_blast_val (78).jpg  \n",
            "  inflating: RiceLeafsDisease/validation/leaf_blast/leaf_blast_val (79).jpg  \n",
            "  inflating: RiceLeafsDisease/validation/leaf_blast/leaf_blast_val (8).jpg  \n",
            "  inflating: RiceLeafsDisease/validation/leaf_blast/leaf_blast_val (80).jpg  \n",
            "  inflating: RiceLeafsDisease/validation/leaf_blast/leaf_blast_val (81).jpg  \n",
            "  inflating: RiceLeafsDisease/validation/leaf_blast/leaf_blast_val (82).jpg  \n",
            "  inflating: RiceLeafsDisease/validation/leaf_blast/leaf_blast_val (83).jpg  \n",
            "  inflating: RiceLeafsDisease/validation/leaf_blast/leaf_blast_val (84).jpg  \n",
            "  inflating: RiceLeafsDisease/validation/leaf_blast/leaf_blast_val (85).jpg  \n",
            "  inflating: RiceLeafsDisease/validation/leaf_blast/leaf_blast_val (86).jpg  \n",
            "  inflating: RiceLeafsDisease/validation/leaf_blast/leaf_blast_val (87).jpg  \n",
            "  inflating: RiceLeafsDisease/validation/leaf_blast/leaf_blast_val (88).jpg  \n",
            "  inflating: RiceLeafsDisease/validation/leaf_blast/leaf_blast_val (9).jpg  \n",
            "  inflating: RiceLeafsDisease/validation/leaf_scald/leaf_scald_val (1).jpg  \n",
            "  inflating: RiceLeafsDisease/validation/leaf_scald/leaf_scald_val (10).jpg  \n",
            "  inflating: RiceLeafsDisease/validation/leaf_scald/leaf_scald_val (11).jpg  \n",
            "  inflating: RiceLeafsDisease/validation/leaf_scald/leaf_scald_val (12).jpg  \n",
            "  inflating: RiceLeafsDisease/validation/leaf_scald/leaf_scald_val (13).jpg  \n",
            "  inflating: RiceLeafsDisease/validation/leaf_scald/leaf_scald_val (14).jpg  \n",
            "  inflating: RiceLeafsDisease/validation/leaf_scald/leaf_scald_val (15).jpg  \n",
            "  inflating: RiceLeafsDisease/validation/leaf_scald/leaf_scald_val (16).jpg  \n",
            "  inflating: RiceLeafsDisease/validation/leaf_scald/leaf_scald_val (17).jpg  \n",
            "  inflating: RiceLeafsDisease/validation/leaf_scald/leaf_scald_val (18).jpg  \n",
            "  inflating: RiceLeafsDisease/validation/leaf_scald/leaf_scald_val (19).jpg  \n",
            "  inflating: RiceLeafsDisease/validation/leaf_scald/leaf_scald_val (2).jpg  \n",
            "  inflating: RiceLeafsDisease/validation/leaf_scald/leaf_scald_val (20).jpg  \n",
            "  inflating: RiceLeafsDisease/validation/leaf_scald/leaf_scald_val (21).jpg  \n",
            "  inflating: RiceLeafsDisease/validation/leaf_scald/leaf_scald_val (22).jpg  \n",
            "  inflating: RiceLeafsDisease/validation/leaf_scald/leaf_scald_val (23).jpg  \n",
            "  inflating: RiceLeafsDisease/validation/leaf_scald/leaf_scald_val (24).jpg  \n",
            "  inflating: RiceLeafsDisease/validation/leaf_scald/leaf_scald_val (25).jpg  \n",
            "  inflating: RiceLeafsDisease/validation/leaf_scald/leaf_scald_val (26).jpg  \n",
            "  inflating: RiceLeafsDisease/validation/leaf_scald/leaf_scald_val (27).jpg  \n",
            "  inflating: RiceLeafsDisease/validation/leaf_scald/leaf_scald_val (28).jpg  \n",
            "  inflating: RiceLeafsDisease/validation/leaf_scald/leaf_scald_val (29).jpg  \n",
            "  inflating: RiceLeafsDisease/validation/leaf_scald/leaf_scald_val (3).jpg  \n",
            "  inflating: RiceLeafsDisease/validation/leaf_scald/leaf_scald_val (30).jpg  \n",
            "  inflating: RiceLeafsDisease/validation/leaf_scald/leaf_scald_val (31).jpg  \n",
            "  inflating: RiceLeafsDisease/validation/leaf_scald/leaf_scald_val (32).jpg  \n",
            "  inflating: RiceLeafsDisease/validation/leaf_scald/leaf_scald_val (33).jpg  \n",
            "  inflating: RiceLeafsDisease/validation/leaf_scald/leaf_scald_val (34).jpg  \n",
            "  inflating: RiceLeafsDisease/validation/leaf_scald/leaf_scald_val (35).jpg  \n",
            "  inflating: RiceLeafsDisease/validation/leaf_scald/leaf_scald_val (36).jpg  \n",
            "  inflating: RiceLeafsDisease/validation/leaf_scald/leaf_scald_val (37).jpg  \n",
            "  inflating: RiceLeafsDisease/validation/leaf_scald/leaf_scald_val (38).jpg  \n",
            "  inflating: RiceLeafsDisease/validation/leaf_scald/leaf_scald_val (39).jpg  \n",
            "  inflating: RiceLeafsDisease/validation/leaf_scald/leaf_scald_val (4).jpg  \n",
            "  inflating: RiceLeafsDisease/validation/leaf_scald/leaf_scald_val (40).jpg  \n",
            "  inflating: RiceLeafsDisease/validation/leaf_scald/leaf_scald_val (41).jpg  \n",
            "  inflating: RiceLeafsDisease/validation/leaf_scald/leaf_scald_val (42).jpg  \n",
            "  inflating: RiceLeafsDisease/validation/leaf_scald/leaf_scald_val (43).jpg  \n",
            "  inflating: RiceLeafsDisease/validation/leaf_scald/leaf_scald_val (44).jpg  \n",
            "  inflating: RiceLeafsDisease/validation/leaf_scald/leaf_scald_val (45).jpg  \n",
            "  inflating: RiceLeafsDisease/validation/leaf_scald/leaf_scald_val (46).jpg  \n",
            "  inflating: RiceLeafsDisease/validation/leaf_scald/leaf_scald_val (47).jpg  \n",
            "  inflating: RiceLeafsDisease/validation/leaf_scald/leaf_scald_val (48).jpg  \n",
            "  inflating: RiceLeafsDisease/validation/leaf_scald/leaf_scald_val (49).jpg  \n",
            "  inflating: RiceLeafsDisease/validation/leaf_scald/leaf_scald_val (5).jpg  \n",
            "  inflating: RiceLeafsDisease/validation/leaf_scald/leaf_scald_val (50).jpg  \n",
            "  inflating: RiceLeafsDisease/validation/leaf_scald/leaf_scald_val (51).jpg  \n",
            "  inflating: RiceLeafsDisease/validation/leaf_scald/leaf_scald_val (52).jpg  \n",
            "  inflating: RiceLeafsDisease/validation/leaf_scald/leaf_scald_val (53).jpg  \n",
            "  inflating: RiceLeafsDisease/validation/leaf_scald/leaf_scald_val (54).jpg  \n",
            "  inflating: RiceLeafsDisease/validation/leaf_scald/leaf_scald_val (55).jpg  \n",
            "  inflating: RiceLeafsDisease/validation/leaf_scald/leaf_scald_val (56).jpg  \n",
            "  inflating: RiceLeafsDisease/validation/leaf_scald/leaf_scald_val (57).jpg  \n",
            "  inflating: RiceLeafsDisease/validation/leaf_scald/leaf_scald_val (58).jpg  \n",
            "  inflating: RiceLeafsDisease/validation/leaf_scald/leaf_scald_val (59).jpg  \n",
            "  inflating: RiceLeafsDisease/validation/leaf_scald/leaf_scald_val (6).jpg  \n",
            "  inflating: RiceLeafsDisease/validation/leaf_scald/leaf_scald_val (60).jpg  \n",
            "  inflating: RiceLeafsDisease/validation/leaf_scald/leaf_scald_val (61).jpg  \n",
            "  inflating: RiceLeafsDisease/validation/leaf_scald/leaf_scald_val (62).jpg  \n",
            "  inflating: RiceLeafsDisease/validation/leaf_scald/leaf_scald_val (63).jpg  \n",
            "  inflating: RiceLeafsDisease/validation/leaf_scald/leaf_scald_val (64).jpg  \n",
            "  inflating: RiceLeafsDisease/validation/leaf_scald/leaf_scald_val (65).jpg  \n",
            "  inflating: RiceLeafsDisease/validation/leaf_scald/leaf_scald_val (66).jpg  \n",
            "  inflating: RiceLeafsDisease/validation/leaf_scald/leaf_scald_val (67).jpg  \n",
            "  inflating: RiceLeafsDisease/validation/leaf_scald/leaf_scald_val (68).jpg  \n",
            "  inflating: RiceLeafsDisease/validation/leaf_scald/leaf_scald_val (69).jpg  \n",
            "  inflating: RiceLeafsDisease/validation/leaf_scald/leaf_scald_val (7).jpg  \n",
            "  inflating: RiceLeafsDisease/validation/leaf_scald/leaf_scald_val (70).jpg  \n",
            "  inflating: RiceLeafsDisease/validation/leaf_scald/leaf_scald_val (71).jpg  \n",
            "  inflating: RiceLeafsDisease/validation/leaf_scald/leaf_scald_val (72).jpg  \n",
            "  inflating: RiceLeafsDisease/validation/leaf_scald/leaf_scald_val (73).jpg  \n",
            "  inflating: RiceLeafsDisease/validation/leaf_scald/leaf_scald_val (74).jpg  \n",
            "  inflating: RiceLeafsDisease/validation/leaf_scald/leaf_scald_val (75).jpg  \n",
            "  inflating: RiceLeafsDisease/validation/leaf_scald/leaf_scald_val (76).jpg  \n",
            "  inflating: RiceLeafsDisease/validation/leaf_scald/leaf_scald_val (77).jpg  \n",
            "  inflating: RiceLeafsDisease/validation/leaf_scald/leaf_scald_val (78).jpg  \n",
            "  inflating: RiceLeafsDisease/validation/leaf_scald/leaf_scald_val (79).jpg  \n",
            "  inflating: RiceLeafsDisease/validation/leaf_scald/leaf_scald_val (8).jpg  \n",
            "  inflating: RiceLeafsDisease/validation/leaf_scald/leaf_scald_val (80).jpg  \n",
            "  inflating: RiceLeafsDisease/validation/leaf_scald/leaf_scald_val (81).jpg  \n",
            "  inflating: RiceLeafsDisease/validation/leaf_scald/leaf_scald_val (82).jpg  \n",
            "  inflating: RiceLeafsDisease/validation/leaf_scald/leaf_scald_val (83).jpg  \n",
            "  inflating: RiceLeafsDisease/validation/leaf_scald/leaf_scald_val (84).jpg  \n",
            "  inflating: RiceLeafsDisease/validation/leaf_scald/leaf_scald_val (85).jpg  \n",
            "  inflating: RiceLeafsDisease/validation/leaf_scald/leaf_scald_val (86).jpg  \n",
            "  inflating: RiceLeafsDisease/validation/leaf_scald/leaf_scald_val (87).jpg  \n",
            "  inflating: RiceLeafsDisease/validation/leaf_scald/leaf_scald_val (88).jpg  \n",
            "  inflating: RiceLeafsDisease/validation/leaf_scald/leaf_scald_val (9).jpg  \n",
            "  inflating: RiceLeafsDisease/validation/narrow_brown_spot/narrow_brown_val (1).jpg  \n",
            "  inflating: RiceLeafsDisease/validation/narrow_brown_spot/narrow_brown_val (10).jpg  \n",
            "  inflating: RiceLeafsDisease/validation/narrow_brown_spot/narrow_brown_val (11).jpg  \n",
            "  inflating: RiceLeafsDisease/validation/narrow_brown_spot/narrow_brown_val (12).jpg  \n",
            "  inflating: RiceLeafsDisease/validation/narrow_brown_spot/narrow_brown_val (13).jpg  \n",
            "  inflating: RiceLeafsDisease/validation/narrow_brown_spot/narrow_brown_val (14).jpg  \n",
            "  inflating: RiceLeafsDisease/validation/narrow_brown_spot/narrow_brown_val (15).jpg  \n",
            "  inflating: RiceLeafsDisease/validation/narrow_brown_spot/narrow_brown_val (16).jpg  \n",
            "  inflating: RiceLeafsDisease/validation/narrow_brown_spot/narrow_brown_val (17).jpg  \n",
            "  inflating: RiceLeafsDisease/validation/narrow_brown_spot/narrow_brown_val (18).jpg  \n",
            "  inflating: RiceLeafsDisease/validation/narrow_brown_spot/narrow_brown_val (19).jpg  \n",
            "  inflating: RiceLeafsDisease/validation/narrow_brown_spot/narrow_brown_val (2).jpg  \n",
            "  inflating: RiceLeafsDisease/validation/narrow_brown_spot/narrow_brown_val (20).jpg  \n",
            "  inflating: RiceLeafsDisease/validation/narrow_brown_spot/narrow_brown_val (21).jpg  \n",
            "  inflating: RiceLeafsDisease/validation/narrow_brown_spot/narrow_brown_val (22).jpg  \n",
            "  inflating: RiceLeafsDisease/validation/narrow_brown_spot/narrow_brown_val (23).jpg  \n",
            "  inflating: RiceLeafsDisease/validation/narrow_brown_spot/narrow_brown_val (24).jpg  \n",
            "  inflating: RiceLeafsDisease/validation/narrow_brown_spot/narrow_brown_val (25).jpg  \n",
            "  inflating: RiceLeafsDisease/validation/narrow_brown_spot/narrow_brown_val (26).jpg  \n",
            "  inflating: RiceLeafsDisease/validation/narrow_brown_spot/narrow_brown_val (27).jpg  \n",
            "  inflating: RiceLeafsDisease/validation/narrow_brown_spot/narrow_brown_val (28).jpg  \n",
            "  inflating: RiceLeafsDisease/validation/narrow_brown_spot/narrow_brown_val (29).jpg  \n",
            "  inflating: RiceLeafsDisease/validation/narrow_brown_spot/narrow_brown_val (3).jpg  \n",
            "  inflating: RiceLeafsDisease/validation/narrow_brown_spot/narrow_brown_val (30).jpg  \n",
            "  inflating: RiceLeafsDisease/validation/narrow_brown_spot/narrow_brown_val (31).jpg  \n",
            "  inflating: RiceLeafsDisease/validation/narrow_brown_spot/narrow_brown_val (32).jpg  \n",
            "  inflating: RiceLeafsDisease/validation/narrow_brown_spot/narrow_brown_val (33).jpg  \n",
            "  inflating: RiceLeafsDisease/validation/narrow_brown_spot/narrow_brown_val (34).jpg  \n",
            "  inflating: RiceLeafsDisease/validation/narrow_brown_spot/narrow_brown_val (35).jpg  \n",
            "  inflating: RiceLeafsDisease/validation/narrow_brown_spot/narrow_brown_val (36).jpg  \n",
            "  inflating: RiceLeafsDisease/validation/narrow_brown_spot/narrow_brown_val (37).jpg  \n",
            "  inflating: RiceLeafsDisease/validation/narrow_brown_spot/narrow_brown_val (38).jpg  \n",
            "  inflating: RiceLeafsDisease/validation/narrow_brown_spot/narrow_brown_val (39).jpg  \n",
            "  inflating: RiceLeafsDisease/validation/narrow_brown_spot/narrow_brown_val (4).jpg  \n",
            "  inflating: RiceLeafsDisease/validation/narrow_brown_spot/narrow_brown_val (40).jpg  \n",
            "  inflating: RiceLeafsDisease/validation/narrow_brown_spot/narrow_brown_val (41).jpg  \n",
            "  inflating: RiceLeafsDisease/validation/narrow_brown_spot/narrow_brown_val (42).jpg  \n",
            "  inflating: RiceLeafsDisease/validation/narrow_brown_spot/narrow_brown_val (43).jpg  \n",
            "  inflating: RiceLeafsDisease/validation/narrow_brown_spot/narrow_brown_val (44).jpg  \n",
            "  inflating: RiceLeafsDisease/validation/narrow_brown_spot/narrow_brown_val (45).jpg  \n",
            "  inflating: RiceLeafsDisease/validation/narrow_brown_spot/narrow_brown_val (46).jpg  \n",
            "  inflating: RiceLeafsDisease/validation/narrow_brown_spot/narrow_brown_val (47).jpg  \n",
            "  inflating: RiceLeafsDisease/validation/narrow_brown_spot/narrow_brown_val (48).jpg  \n",
            "  inflating: RiceLeafsDisease/validation/narrow_brown_spot/narrow_brown_val (49).jpg  \n",
            "  inflating: RiceLeafsDisease/validation/narrow_brown_spot/narrow_brown_val (5).jpg  \n",
            "  inflating: RiceLeafsDisease/validation/narrow_brown_spot/narrow_brown_val (50).jpg  \n",
            "  inflating: RiceLeafsDisease/validation/narrow_brown_spot/narrow_brown_val (51).jpg  \n",
            "  inflating: RiceLeafsDisease/validation/narrow_brown_spot/narrow_brown_val (52).jpg  \n",
            "  inflating: RiceLeafsDisease/validation/narrow_brown_spot/narrow_brown_val (53).jpg  \n",
            "  inflating: RiceLeafsDisease/validation/narrow_brown_spot/narrow_brown_val (54).jpg  \n",
            "  inflating: RiceLeafsDisease/validation/narrow_brown_spot/narrow_brown_val (55).jpg  \n",
            "  inflating: RiceLeafsDisease/validation/narrow_brown_spot/narrow_brown_val (56).jpg  \n",
            "  inflating: RiceLeafsDisease/validation/narrow_brown_spot/narrow_brown_val (57).jpg  \n",
            "  inflating: RiceLeafsDisease/validation/narrow_brown_spot/narrow_brown_val (58).jpg  \n",
            "  inflating: RiceLeafsDisease/validation/narrow_brown_spot/narrow_brown_val (59).jpg  \n",
            "  inflating: RiceLeafsDisease/validation/narrow_brown_spot/narrow_brown_val (6).jpg  \n",
            "  inflating: RiceLeafsDisease/validation/narrow_brown_spot/narrow_brown_val (60).jpg  \n",
            "  inflating: RiceLeafsDisease/validation/narrow_brown_spot/narrow_brown_val (61).jpg  \n",
            "  inflating: RiceLeafsDisease/validation/narrow_brown_spot/narrow_brown_val (62).jpg  \n",
            "  inflating: RiceLeafsDisease/validation/narrow_brown_spot/narrow_brown_val (63).jpg  \n",
            "  inflating: RiceLeafsDisease/validation/narrow_brown_spot/narrow_brown_val (64).jpg  \n",
            "  inflating: RiceLeafsDisease/validation/narrow_brown_spot/narrow_brown_val (65).jpg  \n",
            "  inflating: RiceLeafsDisease/validation/narrow_brown_spot/narrow_brown_val (66).jpg  \n",
            "  inflating: RiceLeafsDisease/validation/narrow_brown_spot/narrow_brown_val (67).jpg  \n",
            "  inflating: RiceLeafsDisease/validation/narrow_brown_spot/narrow_brown_val (68).jpg  \n",
            "  inflating: RiceLeafsDisease/validation/narrow_brown_spot/narrow_brown_val (69).jpg  \n",
            "  inflating: RiceLeafsDisease/validation/narrow_brown_spot/narrow_brown_val (7).jpg  \n",
            "  inflating: RiceLeafsDisease/validation/narrow_brown_spot/narrow_brown_val (70).jpg  \n",
            "  inflating: RiceLeafsDisease/validation/narrow_brown_spot/narrow_brown_val (71).jpg  \n",
            "  inflating: RiceLeafsDisease/validation/narrow_brown_spot/narrow_brown_val (72).jpg  \n",
            "  inflating: RiceLeafsDisease/validation/narrow_brown_spot/narrow_brown_val (73).jpg  \n",
            "  inflating: RiceLeafsDisease/validation/narrow_brown_spot/narrow_brown_val (74).jpg  \n",
            "  inflating: RiceLeafsDisease/validation/narrow_brown_spot/narrow_brown_val (75).jpg  \n",
            "  inflating: RiceLeafsDisease/validation/narrow_brown_spot/narrow_brown_val (76).jpg  \n",
            "  inflating: RiceLeafsDisease/validation/narrow_brown_spot/narrow_brown_val (77).jpg  \n",
            "  inflating: RiceLeafsDisease/validation/narrow_brown_spot/narrow_brown_val (78).jpg  \n",
            "  inflating: RiceLeafsDisease/validation/narrow_brown_spot/narrow_brown_val (79).jpg  \n",
            "  inflating: RiceLeafsDisease/validation/narrow_brown_spot/narrow_brown_val (8).jpg  \n",
            "  inflating: RiceLeafsDisease/validation/narrow_brown_spot/narrow_brown_val (80).jpg  \n",
            "  inflating: RiceLeafsDisease/validation/narrow_brown_spot/narrow_brown_val (81).jpg  \n",
            "  inflating: RiceLeafsDisease/validation/narrow_brown_spot/narrow_brown_val (82).jpg  \n",
            "  inflating: RiceLeafsDisease/validation/narrow_brown_spot/narrow_brown_val (83).jpg  \n",
            "  inflating: RiceLeafsDisease/validation/narrow_brown_spot/narrow_brown_val (84).jpg  \n",
            "  inflating: RiceLeafsDisease/validation/narrow_brown_spot/narrow_brown_val (85).jpg  \n",
            "  inflating: RiceLeafsDisease/validation/narrow_brown_spot/narrow_brown_val (86).jpg  \n",
            "  inflating: RiceLeafsDisease/validation/narrow_brown_spot/narrow_brown_val (87).jpg  \n",
            "  inflating: RiceLeafsDisease/validation/narrow_brown_spot/narrow_brown_val (88).jpg  \n",
            "  inflating: RiceLeafsDisease/validation/narrow_brown_spot/narrow_brown_val (9).jpg  \n"
          ]
        }
      ]
    },
    {
      "cell_type": "code",
      "source": [
        "# Create the Rice directory in your Google Drive if it doesn't exist\n",
        "!mkdir -p /content/drive/MyDrive/Rice"
      ],
      "metadata": {
        "id": "UFqLwwpYOIav"
      },
      "execution_count": null,
      "outputs": []
    },
    {
      "cell_type": "code",
      "source": [
        "# Copy the entire dataset folder to your Google Drive location\n",
        "!cp -r /content/runs /content/drive/MyDrive/Rice/"
      ],
      "metadata": {
        "id": "lMmUwAZtOJkF"
      },
      "execution_count": null,
      "outputs": []
    },
    {
      "cell_type": "code",
      "source": [
        "# 1\n",
        "!pip install ultralytics -q"
      ],
      "metadata": {
        "colab": {
          "base_uri": "https://localhost:8080/"
        },
        "id": "rhARdJLVPdBI",
        "outputId": "dfa8ec32-cfcf-4682-bca9-040c87c01f18"
      },
      "execution_count": null,
      "outputs": [
        {
          "output_type": "stream",
          "name": "stdout",
          "text": [
            "\u001b[2K   \u001b[90m━━━━━━━━━━━━━━━━━━━━━━━━━━━━━━━━━━━━━━━━\u001b[0m \u001b[32m949.8/949.8 kB\u001b[0m \u001b[31m14.6 MB/s\u001b[0m eta \u001b[36m0:00:00\u001b[0m\n",
            "\u001b[2K   \u001b[90m━━━━━━━━━━━━━━━━━━━━━━━━━━━━━━━━━━━━━━━━\u001b[0m \u001b[32m363.4/363.4 MB\u001b[0m \u001b[31m4.1 MB/s\u001b[0m eta \u001b[36m0:00:00\u001b[0m\n",
            "\u001b[2K   \u001b[90m━━━━━━━━━━━━━━━━━━━━━━━━━━━━━━━━━━━━━━━━\u001b[0m \u001b[32m13.8/13.8 MB\u001b[0m \u001b[31m65.6 MB/s\u001b[0m eta \u001b[36m0:00:00\u001b[0m\n",
            "\u001b[2K   \u001b[90m━━━━━━━━━━━━━━━━━━━━━━━━━━━━━━━━━━━━━━━━\u001b[0m \u001b[32m24.6/24.6 MB\u001b[0m \u001b[31m72.3 MB/s\u001b[0m eta \u001b[36m0:00:00\u001b[0m\n",
            "\u001b[2K   \u001b[90m━━━━━━━━━━━━━━━━━━━━━━━━━━━━━━━━━━━━━━━━\u001b[0m \u001b[32m883.7/883.7 kB\u001b[0m \u001b[31m42.9 MB/s\u001b[0m eta \u001b[36m0:00:00\u001b[0m\n",
            "\u001b[2K   \u001b[90m━━━━━━━━━━━━━━━━━━━━━━━━━━━━━━━━━━━━━━━━\u001b[0m \u001b[32m664.8/664.8 MB\u001b[0m \u001b[31m2.8 MB/s\u001b[0m eta \u001b[36m0:00:00\u001b[0m\n",
            "\u001b[2K   \u001b[90m━━━━━━━━━━━━━━━━━━━━━━━━━━━━━━━━━━━━━━━━\u001b[0m \u001b[32m211.5/211.5 MB\u001b[0m \u001b[31m6.3 MB/s\u001b[0m eta \u001b[36m0:00:00\u001b[0m\n",
            "\u001b[2K   \u001b[90m━━━━━━━━━━━━━━━━━━━━━━━━━━━━━━━━━━━━━━━━\u001b[0m \u001b[32m56.3/56.3 MB\u001b[0m \u001b[31m12.3 MB/s\u001b[0m eta \u001b[36m0:00:00\u001b[0m\n",
            "\u001b[2K   \u001b[90m━━━━━━━━━━━━━━━━━━━━━━━━━━━━━━━━━━━━━━━━\u001b[0m \u001b[32m127.9/127.9 MB\u001b[0m \u001b[31m7.3 MB/s\u001b[0m eta \u001b[36m0:00:00\u001b[0m\n",
            "\u001b[2K   \u001b[90m━━━━━━━━━━━━━━━━━━━━━━━━━━━━━━━━━━━━━━━━\u001b[0m \u001b[32m207.5/207.5 MB\u001b[0m \u001b[31m5.0 MB/s\u001b[0m eta \u001b[36m0:00:00\u001b[0m\n",
            "\u001b[2K   \u001b[90m━━━━━━━━━━━━━━━━━━━━━━━━━━━━━━━━━━━━━━━━\u001b[0m \u001b[32m21.1/21.1 MB\u001b[0m \u001b[31m58.2 MB/s\u001b[0m eta \u001b[36m0:00:00\u001b[0m\n",
            "\u001b[?25h"
          ]
        }
      ]
    },
    {
      "cell_type": "code",
      "source": [
        "from ultralytics import YOLO\n",
        "model = YOLO(\"/content/drive/MyDrive/Rice/yolo11n-cls.pt\")  # load a pretrained model (recommended for training)\n"
      ],
      "metadata": {
        "colab": {
          "base_uri": "https://localhost:8080/"
        },
        "id": "ls1lXXToPjkk",
        "outputId": "ea6edfed-240f-4c2d-edfa-f8166e15c82c"
      },
      "execution_count": null,
      "outputs": [
        {
          "output_type": "stream",
          "name": "stdout",
          "text": [
            "Creating new Ultralytics Settings v0.0.6 file ✅ \n",
            "View Ultralytics Settings with 'yolo settings' or at '/root/.config/Ultralytics/settings.json'\n",
            "Update Settings with 'yolo settings key=value', i.e. 'yolo settings runs_dir=path/to/dir'. For help see https://docs.ultralytics.com/quickstart/#ultralytics-settings.\n"
          ]
        }
      ]
    },
    {
      "cell_type": "code",
      "source": [
        "# # from ultralytics import YOLO\n",
        "# # model = YOLO(\"/content/drive/MyDrive/MS-Thesis/yolov8_friuQ-Mu/yolo11n-cls.pt\")  # load a pretrained model\n",
        "\n",
        "# # Ensure the path points to the root of your dataset containing the 'train' directory\n",
        "# dataset_path = \"/content/drive/MyDrive/Rice/RiceLeafsDisease\"\n",
        "\n",
        "# # Verify the dataset directory structure:\n",
        "# !ls {dataset_path} # List the contents of the dataset directory\n",
        "\n",
        "# model.train(data=dataset_path, epochs=50) # Fine Tune the model"
      ],
      "metadata": {
        "colab": {
          "base_uri": "https://localhost:8080/"
        },
        "id": "KohhzrG0PuSM",
        "outputId": "99e6c306-1097-4528-ec95-365907e3f3fb"
      },
      "execution_count": null,
      "outputs": [
        {
          "output_type": "stream",
          "name": "stdout",
          "text": [
            "train  val\n",
            "Ultralytics 8.3.85 🚀 Python-3.11.11 torch-2.5.1+cu124 CUDA:0 (Tesla T4, 15095MiB)\n",
            "\u001b[34m\u001b[1mengine/trainer: \u001b[0mtask=classify, mode=train, model=/content/drive/MyDrive/Rice/yolo11n-cls.pt, data=/content/drive/MyDrive/Rice/RiceLeafsDisease, epochs=50, time=None, patience=100, batch=16, imgsz=224, save=True, save_period=-1, cache=False, device=None, workers=8, project=None, name=train, exist_ok=False, pretrained=True, optimizer=auto, verbose=True, seed=0, deterministic=True, single_cls=False, rect=False, cos_lr=False, close_mosaic=10, resume=False, amp=True, fraction=1.0, profile=False, freeze=None, multi_scale=False, overlap_mask=True, mask_ratio=4, dropout=0.0, val=True, split=val, save_json=False, save_hybrid=False, conf=None, iou=0.7, max_det=300, half=False, dnn=False, plots=True, source=None, vid_stride=1, stream_buffer=False, visualize=False, augment=False, agnostic_nms=False, classes=None, retina_masks=False, embed=None, show=False, save_frames=False, save_txt=False, save_conf=False, save_crop=False, show_labels=True, show_conf=True, show_boxes=True, line_width=None, format=torchscript, keras=False, optimize=False, int8=False, dynamic=False, simplify=True, opset=None, workspace=None, nms=False, lr0=0.01, lrf=0.01, momentum=0.937, weight_decay=0.0005, warmup_epochs=3.0, warmup_momentum=0.8, warmup_bias_lr=0.1, box=7.5, cls=0.5, dfl=1.5, pose=12.0, kobj=1.0, nbs=64, hsv_h=0.015, hsv_s=0.7, hsv_v=0.4, degrees=0.0, translate=0.1, scale=0.5, shear=0.0, perspective=0.0, flipud=0.0, fliplr=0.5, bgr=0.0, mosaic=1.0, mixup=0.0, copy_paste=0.0, copy_paste_mode=flip, auto_augment=randaugment, erasing=0.4, crop_fraction=1.0, cfg=None, tracker=botsort.yaml, save_dir=runs/classify/train\n",
            "\u001b[34m\u001b[1mtrain:\u001b[0m /content/drive/MyDrive/Rice/RiceLeafsDisease/train... found 2100 images in 6 classes ✅ \n",
            "\u001b[34m\u001b[1mval:\u001b[0m /content/drive/MyDrive/Rice/RiceLeafsDisease/val... found 528 images in 6 classes ✅ \n",
            "\u001b[34m\u001b[1mtest:\u001b[0m None...\n",
            "Overriding model.yaml nc=80 with nc=6\n",
            "\n",
            "                   from  n    params  module                                       arguments                     \n",
            "  0                  -1  1       464  ultralytics.nn.modules.conv.Conv             [3, 16, 3, 2]                 \n",
            "  1                  -1  1      4672  ultralytics.nn.modules.conv.Conv             [16, 32, 3, 2]                \n",
            "  2                  -1  1      6640  ultralytics.nn.modules.block.C3k2            [32, 64, 1, False, 0.25]      \n",
            "  3                  -1  1     36992  ultralytics.nn.modules.conv.Conv             [64, 64, 3, 2]                \n",
            "  4                  -1  1     26080  ultralytics.nn.modules.block.C3k2            [64, 128, 1, False, 0.25]     \n",
            "  5                  -1  1    147712  ultralytics.nn.modules.conv.Conv             [128, 128, 3, 2]              \n",
            "  6                  -1  1     87040  ultralytics.nn.modules.block.C3k2            [128, 128, 1, True]           \n",
            "  7                  -1  1    295424  ultralytics.nn.modules.conv.Conv             [128, 256, 3, 2]              \n",
            "  8                  -1  1    346112  ultralytics.nn.modules.block.C3k2            [256, 256, 1, True]           \n",
            "  9                  -1  1    249728  ultralytics.nn.modules.block.C2PSA           [256, 256, 1]                 \n",
            " 10                  -1  1    337926  ultralytics.nn.modules.head.Classify         [256, 6]                      \n",
            "YOLO11n-cls summary: 86 layers, 1,538,790 parameters, 1,538,790 gradients, 3.3 GFLOPs\n",
            "Transferred 234/236 items from pretrained weights\n",
            "\u001b[34m\u001b[1mTensorBoard: \u001b[0mStart with 'tensorboard --logdir runs/classify/train', view at http://localhost:6006/\n",
            "\u001b[34m\u001b[1mAMP: \u001b[0mrunning Automatic Mixed Precision (AMP) checks...\n",
            "Downloading https://github.com/ultralytics/assets/releases/download/v8.3.0/yolo11n.pt to 'yolo11n.pt'...\n"
          ]
        },
        {
          "output_type": "stream",
          "name": "stderr",
          "text": [
            "100%|██████████| 5.35M/5.35M [00:00<00:00, 115MB/s]\n"
          ]
        },
        {
          "output_type": "stream",
          "name": "stdout",
          "text": [
            "\u001b[34m\u001b[1mAMP: \u001b[0mchecks passed ✅\n"
          ]
        },
        {
          "output_type": "stream",
          "name": "stderr",
          "text": [
            "\u001b[34m\u001b[1mtrain: \u001b[0mScanning /content/drive/MyDrive/Rice/RiceLeafsDisease/train... 2100 images, 0 corrupt: 100%|██████████| 2100/2100 [00:11<00:00, 182.76it/s]\n"
          ]
        },
        {
          "output_type": "stream",
          "name": "stdout",
          "text": [
            "\u001b[34m\u001b[1mtrain: \u001b[0mNew cache created: /content/drive/MyDrive/Rice/RiceLeafsDisease/train.cache\n"
          ]
        },
        {
          "output_type": "stream",
          "name": "stderr",
          "text": [
            "\u001b[34m\u001b[1mval: \u001b[0mScanning /content/drive/MyDrive/Rice/RiceLeafsDisease/val... 528 images, 0 corrupt: 100%|██████████| 528/528 [00:04<00:00, 117.91it/s]\n"
          ]
        },
        {
          "output_type": "stream",
          "name": "stdout",
          "text": [
            "\u001b[34m\u001b[1mval: \u001b[0mNew cache created: /content/drive/MyDrive/Rice/RiceLeafsDisease/val.cache\n",
            "\u001b[34m\u001b[1moptimizer:\u001b[0m 'optimizer=auto' found, ignoring 'lr0=0.01' and 'momentum=0.937' and determining best 'optimizer', 'lr0' and 'momentum' automatically... \n",
            "\u001b[34m\u001b[1moptimizer:\u001b[0m AdamW(lr=0.001, momentum=0.9) with parameter groups 39 weight(decay=0.0), 40 weight(decay=0.0005), 40 bias(decay=0.0)\n",
            "\u001b[34m\u001b[1mTensorBoard: \u001b[0mmodel graph visualization added ✅\n",
            "Image sizes 224 train, 224 val\n",
            "Using 2 dataloader workers\n",
            "Logging results to \u001b[1mruns/classify/train\u001b[0m\n",
            "Starting training for 50 epochs...\n",
            "\n",
            "      Epoch    GPU_mem       loss  Instances       Size\n"
          ]
        },
        {
          "output_type": "stream",
          "name": "stderr",
          "text": [
            "       1/50     0.256G      1.836         16        224:   2%|▏         | 3/132 [00:02<01:21,  1.58it/s]"
          ]
        },
        {
          "output_type": "stream",
          "name": "stdout",
          "text": [
            "Downloading https://ultralytics.com/assets/Arial.ttf to '/root/.config/Ultralytics/Arial.ttf'...\n"
          ]
        },
        {
          "output_type": "stream",
          "name": "stderr",
          "text": [
            "       1/50     0.275G      1.905         16        224:   3%|▎         | 4/132 [00:02<01:12,  1.78it/s]\n",
            "100%|██████████| 755k/755k [00:00<00:00, 23.4MB/s]\n",
            "       1/50     0.279G      1.063          4        224: 100%|██████████| 132/132 [01:25<00:00,  1.54it/s]\n",
            "               classes   top1_acc   top5_acc: 100%|██████████| 17/17 [00:16<00:00,  1.05it/s]"
          ]
        },
        {
          "output_type": "stream",
          "name": "stdout",
          "text": [
            "                   all      0.858          1\n"
          ]
        },
        {
          "output_type": "stream",
          "name": "stderr",
          "text": [
            "\n"
          ]
        },
        {
          "output_type": "stream",
          "name": "stdout",
          "text": [
            "\n",
            "      Epoch    GPU_mem       loss  Instances       Size\n"
          ]
        },
        {
          "output_type": "stream",
          "name": "stderr",
          "text": [
            "       2/50      0.25G     0.4943          4        224: 100%|██████████| 132/132 [01:22<00:00,  1.61it/s]\n",
            "               classes   top1_acc   top5_acc: 100%|██████████| 17/17 [00:18<00:00,  1.08s/it]"
          ]
        },
        {
          "output_type": "stream",
          "name": "stdout",
          "text": [
            "                   all      0.839          1\n"
          ]
        },
        {
          "output_type": "stream",
          "name": "stderr",
          "text": [
            "\n"
          ]
        },
        {
          "output_type": "stream",
          "name": "stdout",
          "text": [
            "\n",
            "      Epoch    GPU_mem       loss  Instances       Size\n"
          ]
        },
        {
          "output_type": "stream",
          "name": "stderr",
          "text": [
            "       3/50      0.25G     0.4851          4        224: 100%|██████████| 132/132 [01:24<00:00,  1.56it/s]\n",
            "               classes   top1_acc   top5_acc: 100%|██████████| 17/17 [00:17<00:00,  1.02s/it]"
          ]
        },
        {
          "output_type": "stream",
          "name": "stdout",
          "text": [
            "                   all      0.858          1\n"
          ]
        },
        {
          "output_type": "stream",
          "name": "stderr",
          "text": [
            "\n"
          ]
        },
        {
          "output_type": "stream",
          "name": "stdout",
          "text": [
            "\n",
            "      Epoch    GPU_mem       loss  Instances       Size\n"
          ]
        },
        {
          "output_type": "stream",
          "name": "stderr",
          "text": [
            "       4/50      0.25G     0.4774          4        224: 100%|██████████| 132/132 [01:22<00:00,  1.60it/s]\n",
            "               classes   top1_acc   top5_acc: 100%|██████████| 17/17 [00:16<00:00,  1.04it/s]"
          ]
        },
        {
          "output_type": "stream",
          "name": "stdout",
          "text": [
            "                   all        0.9          1\n"
          ]
        },
        {
          "output_type": "stream",
          "name": "stderr",
          "text": [
            "\n"
          ]
        },
        {
          "output_type": "stream",
          "name": "stdout",
          "text": [
            "\n",
            "      Epoch    GPU_mem       loss  Instances       Size\n"
          ]
        },
        {
          "output_type": "stream",
          "name": "stderr",
          "text": [
            "       5/50      0.25G     0.4121          4        224: 100%|██████████| 132/132 [01:22<00:00,  1.61it/s]\n",
            "               classes   top1_acc   top5_acc: 100%|██████████| 17/17 [00:16<00:00,  1.03it/s]"
          ]
        },
        {
          "output_type": "stream",
          "name": "stdout",
          "text": [
            "                   all      0.814          1\n"
          ]
        },
        {
          "output_type": "stream",
          "name": "stderr",
          "text": [
            "\n"
          ]
        },
        {
          "output_type": "stream",
          "name": "stdout",
          "text": [
            "\n",
            "      Epoch    GPU_mem       loss  Instances       Size\n"
          ]
        },
        {
          "output_type": "stream",
          "name": "stderr",
          "text": [
            "       6/50      0.25G     0.3573          4        224: 100%|██████████| 132/132 [01:23<00:00,  1.58it/s]\n",
            "               classes   top1_acc   top5_acc: 100%|██████████| 17/17 [00:16<00:00,  1.01it/s]"
          ]
        },
        {
          "output_type": "stream",
          "name": "stdout",
          "text": [
            "                   all      0.894          1\n"
          ]
        },
        {
          "output_type": "stream",
          "name": "stderr",
          "text": [
            "\n"
          ]
        },
        {
          "output_type": "stream",
          "name": "stdout",
          "text": [
            "\n",
            "      Epoch    GPU_mem       loss  Instances       Size\n"
          ]
        },
        {
          "output_type": "stream",
          "name": "stderr",
          "text": [
            "       7/50      0.25G     0.3434          4        224: 100%|██████████| 132/132 [01:20<00:00,  1.64it/s]\n",
            "               classes   top1_acc   top5_acc: 100%|██████████| 17/17 [00:17<00:00,  1.04s/it]"
          ]
        },
        {
          "output_type": "stream",
          "name": "stdout",
          "text": [
            "                   all      0.928          1\n"
          ]
        },
        {
          "output_type": "stream",
          "name": "stderr",
          "text": [
            "\n"
          ]
        },
        {
          "output_type": "stream",
          "name": "stdout",
          "text": [
            "\n",
            "      Epoch    GPU_mem       loss  Instances       Size\n"
          ]
        },
        {
          "output_type": "stream",
          "name": "stderr",
          "text": [
            "       8/50      0.25G     0.3394          4        224: 100%|██████████| 132/132 [01:21<00:00,  1.63it/s]\n",
            "               classes   top1_acc   top5_acc: 100%|██████████| 17/17 [00:19<00:00,  1.13s/it]"
          ]
        },
        {
          "output_type": "stream",
          "name": "stdout",
          "text": [
            "                   all      0.943          1\n"
          ]
        },
        {
          "output_type": "stream",
          "name": "stderr",
          "text": [
            "\n"
          ]
        },
        {
          "output_type": "stream",
          "name": "stdout",
          "text": [
            "\n",
            "      Epoch    GPU_mem       loss  Instances       Size\n"
          ]
        },
        {
          "output_type": "stream",
          "name": "stderr",
          "text": [
            "       9/50     0.252G     0.2913          4        224: 100%|██████████| 132/132 [01:22<00:00,  1.59it/s]\n",
            "               classes   top1_acc   top5_acc: 100%|██████████| 17/17 [00:16<00:00,  1.02it/s]"
          ]
        },
        {
          "output_type": "stream",
          "name": "stdout",
          "text": [
            "                   all      0.941          1\n"
          ]
        },
        {
          "output_type": "stream",
          "name": "stderr",
          "text": [
            "\n"
          ]
        },
        {
          "output_type": "stream",
          "name": "stdout",
          "text": [
            "\n",
            "      Epoch    GPU_mem       loss  Instances       Size\n"
          ]
        },
        {
          "output_type": "stream",
          "name": "stderr",
          "text": [
            "      10/50      0.25G     0.3212          4        224: 100%|██████████| 132/132 [01:23<00:00,  1.59it/s]\n",
            "               classes   top1_acc   top5_acc: 100%|██████████| 17/17 [00:17<00:00,  1.01s/it]"
          ]
        },
        {
          "output_type": "stream",
          "name": "stdout",
          "text": [
            "                   all      0.951          1\n"
          ]
        },
        {
          "output_type": "stream",
          "name": "stderr",
          "text": [
            "\n"
          ]
        },
        {
          "output_type": "stream",
          "name": "stdout",
          "text": [
            "\n",
            "      Epoch    GPU_mem       loss  Instances       Size\n"
          ]
        },
        {
          "output_type": "stream",
          "name": "stderr",
          "text": [
            "      11/50     0.252G     0.3106          4        224: 100%|██████████| 132/132 [01:25<00:00,  1.55it/s]\n",
            "               classes   top1_acc   top5_acc: 100%|██████████| 17/17 [00:16<00:00,  1.03it/s]"
          ]
        },
        {
          "output_type": "stream",
          "name": "stdout",
          "text": [
            "                   all      0.964          1\n"
          ]
        },
        {
          "output_type": "stream",
          "name": "stderr",
          "text": [
            "\n"
          ]
        },
        {
          "output_type": "stream",
          "name": "stdout",
          "text": [
            "\n",
            "      Epoch    GPU_mem       loss  Instances       Size\n"
          ]
        },
        {
          "output_type": "stream",
          "name": "stderr",
          "text": [
            "      12/50      0.25G      0.267          4        224: 100%|██████████| 132/132 [01:22<00:00,  1.59it/s]\n",
            "               classes   top1_acc   top5_acc: 100%|██████████| 17/17 [00:18<00:00,  1.07s/it]"
          ]
        },
        {
          "output_type": "stream",
          "name": "stdout",
          "text": [
            "                   all      0.896          1\n"
          ]
        },
        {
          "output_type": "stream",
          "name": "stderr",
          "text": [
            "\n"
          ]
        },
        {
          "output_type": "stream",
          "name": "stdout",
          "text": [
            "\n",
            "      Epoch    GPU_mem       loss  Instances       Size\n"
          ]
        },
        {
          "output_type": "stream",
          "name": "stderr",
          "text": [
            "      13/50      0.25G     0.2575          4        224: 100%|██████████| 132/132 [01:22<00:00,  1.60it/s]\n",
            "               classes   top1_acc   top5_acc: 100%|██████████| 17/17 [00:16<00:00,  1.03it/s]"
          ]
        },
        {
          "output_type": "stream",
          "name": "stdout",
          "text": [
            "                   all      0.966          1\n"
          ]
        },
        {
          "output_type": "stream",
          "name": "stderr",
          "text": [
            "\n"
          ]
        },
        {
          "output_type": "stream",
          "name": "stdout",
          "text": [
            "\n",
            "      Epoch    GPU_mem       loss  Instances       Size\n"
          ]
        },
        {
          "output_type": "stream",
          "name": "stderr",
          "text": [
            "      14/50      0.25G     0.2506          4        224: 100%|██████████| 132/132 [01:23<00:00,  1.58it/s]\n",
            "               classes   top1_acc   top5_acc: 100%|██████████| 17/17 [00:16<00:00,  1.05it/s]"
          ]
        },
        {
          "output_type": "stream",
          "name": "stdout",
          "text": [
            "                   all      0.951          1\n"
          ]
        },
        {
          "output_type": "stream",
          "name": "stderr",
          "text": [
            "\n"
          ]
        },
        {
          "output_type": "stream",
          "name": "stdout",
          "text": [
            "\n",
            "      Epoch    GPU_mem       loss  Instances       Size\n"
          ]
        },
        {
          "output_type": "stream",
          "name": "stderr",
          "text": [
            "      15/50      0.25G     0.2386          4        224: 100%|██████████| 132/132 [01:21<00:00,  1.62it/s]\n",
            "               classes   top1_acc   top5_acc: 100%|██████████| 17/17 [00:16<00:00,  1.06it/s]"
          ]
        },
        {
          "output_type": "stream",
          "name": "stdout",
          "text": [
            "                   all      0.958          1\n"
          ]
        },
        {
          "output_type": "stream",
          "name": "stderr",
          "text": [
            "\n"
          ]
        },
        {
          "output_type": "stream",
          "name": "stdout",
          "text": [
            "\n",
            "      Epoch    GPU_mem       loss  Instances       Size\n"
          ]
        },
        {
          "output_type": "stream",
          "name": "stderr",
          "text": [
            "      16/50      0.25G      0.237          4        224: 100%|██████████| 132/132 [01:22<00:00,  1.60it/s]\n",
            "               classes   top1_acc   top5_acc: 100%|██████████| 17/17 [00:16<00:00,  1.04it/s]"
          ]
        },
        {
          "output_type": "stream",
          "name": "stdout",
          "text": [
            "                   all      0.949          1\n"
          ]
        },
        {
          "output_type": "stream",
          "name": "stderr",
          "text": [
            "\n"
          ]
        },
        {
          "output_type": "stream",
          "name": "stdout",
          "text": [
            "\n",
            "      Epoch    GPU_mem       loss  Instances       Size\n"
          ]
        },
        {
          "output_type": "stream",
          "name": "stderr",
          "text": [
            "      17/50      0.25G     0.1899          4        224: 100%|██████████| 132/132 [01:20<00:00,  1.64it/s]\n",
            "               classes   top1_acc   top5_acc: 100%|██████████| 17/17 [00:18<00:00,  1.06s/it]"
          ]
        },
        {
          "output_type": "stream",
          "name": "stdout",
          "text": [
            "                   all      0.968          1\n"
          ]
        },
        {
          "output_type": "stream",
          "name": "stderr",
          "text": [
            "\n"
          ]
        },
        {
          "output_type": "stream",
          "name": "stdout",
          "text": [
            "\n",
            "      Epoch    GPU_mem       loss  Instances       Size\n"
          ]
        },
        {
          "output_type": "stream",
          "name": "stderr",
          "text": [
            "      18/50      0.25G     0.1916          4        224: 100%|██████████| 132/132 [01:20<00:00,  1.64it/s]\n",
            "               classes   top1_acc   top5_acc: 100%|██████████| 17/17 [00:17<00:00,  1.02s/it]"
          ]
        },
        {
          "output_type": "stream",
          "name": "stdout",
          "text": [
            "                   all      0.968          1\n"
          ]
        },
        {
          "output_type": "stream",
          "name": "stderr",
          "text": [
            "\n"
          ]
        },
        {
          "output_type": "stream",
          "name": "stdout",
          "text": [
            "\n",
            "      Epoch    GPU_mem       loss  Instances       Size\n"
          ]
        },
        {
          "output_type": "stream",
          "name": "stderr",
          "text": [
            "      19/50      0.25G     0.1746          4        224: 100%|██████████| 132/132 [01:23<00:00,  1.59it/s]\n",
            "               classes   top1_acc   top5_acc: 100%|██████████| 17/17 [00:16<00:00,  1.06it/s]"
          ]
        },
        {
          "output_type": "stream",
          "name": "stdout",
          "text": [
            "                   all      0.968          1\n"
          ]
        },
        {
          "output_type": "stream",
          "name": "stderr",
          "text": [
            "\n"
          ]
        },
        {
          "output_type": "stream",
          "name": "stdout",
          "text": [
            "\n",
            "      Epoch    GPU_mem       loss  Instances       Size\n"
          ]
        },
        {
          "output_type": "stream",
          "name": "stderr",
          "text": [
            "      20/50     0.252G     0.1768          4        224: 100%|██████████| 132/132 [01:21<00:00,  1.62it/s]\n",
            "               classes   top1_acc   top5_acc: 100%|██████████| 17/17 [00:16<00:00,  1.05it/s]"
          ]
        },
        {
          "output_type": "stream",
          "name": "stdout",
          "text": [
            "                   all      0.975          1\n"
          ]
        },
        {
          "output_type": "stream",
          "name": "stderr",
          "text": [
            "\n"
          ]
        },
        {
          "output_type": "stream",
          "name": "stdout",
          "text": [
            "\n",
            "      Epoch    GPU_mem       loss  Instances       Size\n"
          ]
        },
        {
          "output_type": "stream",
          "name": "stderr",
          "text": [
            "      21/50      0.25G     0.1905          4        224: 100%|██████████| 132/132 [01:21<00:00,  1.63it/s]\n",
            "               classes   top1_acc   top5_acc: 100%|██████████| 17/17 [00:18<00:00,  1.06s/it]"
          ]
        },
        {
          "output_type": "stream",
          "name": "stdout",
          "text": [
            "                   all      0.964          1\n"
          ]
        },
        {
          "output_type": "stream",
          "name": "stderr",
          "text": [
            "\n"
          ]
        },
        {
          "output_type": "stream",
          "name": "stdout",
          "text": [
            "\n",
            "      Epoch    GPU_mem       loss  Instances       Size\n"
          ]
        },
        {
          "output_type": "stream",
          "name": "stderr",
          "text": [
            "      22/50      0.25G     0.1814          4        224: 100%|██████████| 132/132 [01:22<00:00,  1.60it/s]\n",
            "               classes   top1_acc   top5_acc: 100%|██████████| 17/17 [00:16<00:00,  1.02it/s]"
          ]
        },
        {
          "output_type": "stream",
          "name": "stdout",
          "text": [
            "                   all      0.964          1\n"
          ]
        },
        {
          "output_type": "stream",
          "name": "stderr",
          "text": [
            "\n"
          ]
        },
        {
          "output_type": "stream",
          "name": "stdout",
          "text": [
            "\n",
            "      Epoch    GPU_mem       loss  Instances       Size\n"
          ]
        },
        {
          "output_type": "stream",
          "name": "stderr",
          "text": [
            "      23/50      0.25G     0.1611          4        224: 100%|██████████| 132/132 [01:20<00:00,  1.64it/s]\n",
            "               classes   top1_acc   top5_acc: 100%|██████████| 17/17 [00:17<00:00,  1.01s/it]"
          ]
        },
        {
          "output_type": "stream",
          "name": "stdout",
          "text": [
            "                   all      0.964          1\n"
          ]
        },
        {
          "output_type": "stream",
          "name": "stderr",
          "text": [
            "\n"
          ]
        },
        {
          "output_type": "stream",
          "name": "stdout",
          "text": [
            "\n",
            "      Epoch    GPU_mem       loss  Instances       Size\n"
          ]
        },
        {
          "output_type": "stream",
          "name": "stderr",
          "text": [
            "      24/50     0.252G     0.1484          4        224: 100%|██████████| 132/132 [01:21<00:00,  1.61it/s]\n",
            "               classes   top1_acc   top5_acc: 100%|██████████| 17/17 [00:18<00:00,  1.06s/it]"
          ]
        },
        {
          "output_type": "stream",
          "name": "stdout",
          "text": [
            "                   all      0.977          1\n"
          ]
        },
        {
          "output_type": "stream",
          "name": "stderr",
          "text": [
            "\n"
          ]
        },
        {
          "output_type": "stream",
          "name": "stdout",
          "text": [
            "\n",
            "      Epoch    GPU_mem       loss  Instances       Size\n"
          ]
        },
        {
          "output_type": "stream",
          "name": "stderr",
          "text": [
            "      25/50     0.252G     0.1465          4        224: 100%|██████████| 132/132 [01:20<00:00,  1.64it/s]\n",
            "               classes   top1_acc   top5_acc: 100%|██████████| 17/17 [00:16<00:00,  1.00it/s]"
          ]
        },
        {
          "output_type": "stream",
          "name": "stdout",
          "text": [
            "                   all       0.97          1\n"
          ]
        },
        {
          "output_type": "stream",
          "name": "stderr",
          "text": [
            "\n"
          ]
        },
        {
          "output_type": "stream",
          "name": "stdout",
          "text": [
            "\n",
            "      Epoch    GPU_mem       loss  Instances       Size\n"
          ]
        },
        {
          "output_type": "stream",
          "name": "stderr",
          "text": [
            "      26/50      0.25G     0.1629          4        224: 100%|██████████| 132/132 [01:20<00:00,  1.63it/s]\n",
            "               classes   top1_acc   top5_acc: 100%|██████████| 17/17 [00:16<00:00,  1.04it/s]"
          ]
        },
        {
          "output_type": "stream",
          "name": "stdout",
          "text": [
            "                   all      0.964          1\n"
          ]
        },
        {
          "output_type": "stream",
          "name": "stderr",
          "text": [
            "\n"
          ]
        },
        {
          "output_type": "stream",
          "name": "stdout",
          "text": [
            "\n",
            "      Epoch    GPU_mem       loss  Instances       Size\n"
          ]
        },
        {
          "output_type": "stream",
          "name": "stderr",
          "text": [
            "      27/50      0.25G     0.1472          4        224: 100%|██████████| 132/132 [01:22<00:00,  1.61it/s]\n",
            "               classes   top1_acc   top5_acc: 100%|██████████| 17/17 [00:16<00:00,  1.02it/s]"
          ]
        },
        {
          "output_type": "stream",
          "name": "stdout",
          "text": [
            "                   all      0.977          1\n"
          ]
        },
        {
          "output_type": "stream",
          "name": "stderr",
          "text": [
            "\n"
          ]
        },
        {
          "output_type": "stream",
          "name": "stdout",
          "text": [
            "\n",
            "      Epoch    GPU_mem       loss  Instances       Size\n"
          ]
        },
        {
          "output_type": "stream",
          "name": "stderr",
          "text": [
            "      28/50      0.25G      0.132          4        224: 100%|██████████| 132/132 [01:21<00:00,  1.62it/s]\n",
            "               classes   top1_acc   top5_acc: 100%|██████████| 17/17 [00:16<00:00,  1.04it/s]"
          ]
        },
        {
          "output_type": "stream",
          "name": "stdout",
          "text": [
            "                   all       0.97          1\n"
          ]
        },
        {
          "output_type": "stream",
          "name": "stderr",
          "text": [
            "\n"
          ]
        },
        {
          "output_type": "stream",
          "name": "stdout",
          "text": [
            "\n",
            "      Epoch    GPU_mem       loss  Instances       Size\n"
          ]
        },
        {
          "output_type": "stream",
          "name": "stderr",
          "text": [
            "      29/50      0.25G     0.1443          4        224: 100%|██████████| 132/132 [01:22<00:00,  1.60it/s]\n",
            "               classes   top1_acc   top5_acc: 100%|██████████| 17/17 [00:16<00:00,  1.03it/s]"
          ]
        },
        {
          "output_type": "stream",
          "name": "stdout",
          "text": [
            "                   all       0.97          1\n"
          ]
        },
        {
          "output_type": "stream",
          "name": "stderr",
          "text": [
            "\n"
          ]
        },
        {
          "output_type": "stream",
          "name": "stdout",
          "text": [
            "\n",
            "      Epoch    GPU_mem       loss  Instances       Size\n"
          ]
        },
        {
          "output_type": "stream",
          "name": "stderr",
          "text": [
            "      30/50      0.25G     0.1216          4        224: 100%|██████████| 132/132 [01:20<00:00,  1.63it/s]\n",
            "               classes   top1_acc   top5_acc: 100%|██████████| 17/17 [00:16<00:00,  1.04it/s]"
          ]
        },
        {
          "output_type": "stream",
          "name": "stdout",
          "text": [
            "                   all      0.979          1\n"
          ]
        },
        {
          "output_type": "stream",
          "name": "stderr",
          "text": [
            "\n"
          ]
        },
        {
          "output_type": "stream",
          "name": "stdout",
          "text": [
            "\n",
            "      Epoch    GPU_mem       loss  Instances       Size\n"
          ]
        },
        {
          "output_type": "stream",
          "name": "stderr",
          "text": [
            "      31/50      0.25G     0.1261          4        224: 100%|██████████| 132/132 [01:20<00:00,  1.64it/s]\n",
            "               classes   top1_acc   top5_acc: 100%|██████████| 17/17 [00:16<00:00,  1.01it/s]"
          ]
        },
        {
          "output_type": "stream",
          "name": "stdout",
          "text": [
            "                   all      0.972          1\n"
          ]
        },
        {
          "output_type": "stream",
          "name": "stderr",
          "text": [
            "\n"
          ]
        },
        {
          "output_type": "stream",
          "name": "stdout",
          "text": [
            "\n",
            "      Epoch    GPU_mem       loss  Instances       Size\n"
          ]
        },
        {
          "output_type": "stream",
          "name": "stderr",
          "text": [
            "      32/50      0.25G      0.107          4        224: 100%|██████████| 132/132 [01:22<00:00,  1.60it/s]\n",
            "               classes   top1_acc   top5_acc: 100%|██████████| 17/17 [00:16<00:00,  1.04it/s]"
          ]
        },
        {
          "output_type": "stream",
          "name": "stdout",
          "text": [
            "                   all      0.979          1\n"
          ]
        },
        {
          "output_type": "stream",
          "name": "stderr",
          "text": [
            "\n"
          ]
        },
        {
          "output_type": "stream",
          "name": "stdout",
          "text": [
            "\n",
            "      Epoch    GPU_mem       loss  Instances       Size\n"
          ]
        },
        {
          "output_type": "stream",
          "name": "stderr",
          "text": [
            "      33/50     0.252G     0.1064          4        224: 100%|██████████| 132/132 [01:20<00:00,  1.63it/s]\n",
            "               classes   top1_acc   top5_acc: 100%|██████████| 17/17 [00:16<00:00,  1.03it/s]"
          ]
        },
        {
          "output_type": "stream",
          "name": "stdout",
          "text": [
            "                   all      0.975          1\n"
          ]
        },
        {
          "output_type": "stream",
          "name": "stderr",
          "text": [
            "\n"
          ]
        },
        {
          "output_type": "stream",
          "name": "stdout",
          "text": [
            "\n",
            "      Epoch    GPU_mem       loss  Instances       Size\n"
          ]
        },
        {
          "output_type": "stream",
          "name": "stderr",
          "text": [
            "      34/50      0.25G     0.1037          4        224: 100%|██████████| 132/132 [01:20<00:00,  1.64it/s]\n",
            "               classes   top1_acc   top5_acc: 100%|██████████| 17/17 [00:16<00:00,  1.01it/s]"
          ]
        },
        {
          "output_type": "stream",
          "name": "stdout",
          "text": [
            "                   all      0.981          1\n"
          ]
        },
        {
          "output_type": "stream",
          "name": "stderr",
          "text": [
            "\n"
          ]
        },
        {
          "output_type": "stream",
          "name": "stdout",
          "text": [
            "\n",
            "      Epoch    GPU_mem       loss  Instances       Size\n"
          ]
        },
        {
          "output_type": "stream",
          "name": "stderr",
          "text": [
            "      35/50      0.25G     0.1033          4        224: 100%|██████████| 132/132 [01:21<00:00,  1.62it/s]\n",
            "               classes   top1_acc   top5_acc: 100%|██████████| 17/17 [00:16<00:00,  1.02it/s]"
          ]
        },
        {
          "output_type": "stream",
          "name": "stdout",
          "text": [
            "                   all      0.979          1\n"
          ]
        },
        {
          "output_type": "stream",
          "name": "stderr",
          "text": [
            "\n"
          ]
        },
        {
          "output_type": "stream",
          "name": "stdout",
          "text": [
            "\n",
            "      Epoch    GPU_mem       loss  Instances       Size\n"
          ]
        },
        {
          "output_type": "stream",
          "name": "stderr",
          "text": [
            "      36/50      0.25G      0.101          4        224: 100%|██████████| 132/132 [01:19<00:00,  1.66it/s]\n",
            "               classes   top1_acc   top5_acc: 100%|██████████| 17/17 [00:16<00:00,  1.00it/s]"
          ]
        },
        {
          "output_type": "stream",
          "name": "stdout",
          "text": [
            "                   all      0.975          1\n"
          ]
        },
        {
          "output_type": "stream",
          "name": "stderr",
          "text": [
            "\n"
          ]
        },
        {
          "output_type": "stream",
          "name": "stdout",
          "text": [
            "\n",
            "      Epoch    GPU_mem       loss  Instances       Size\n"
          ]
        },
        {
          "output_type": "stream",
          "name": "stderr",
          "text": [
            "      37/50      0.25G     0.0832          4        224: 100%|██████████| 132/132 [01:20<00:00,  1.64it/s]\n",
            "               classes   top1_acc   top5_acc: 100%|██████████| 17/17 [00:18<00:00,  1.07s/it]"
          ]
        },
        {
          "output_type": "stream",
          "name": "stdout",
          "text": [
            "                   all      0.983          1\n"
          ]
        },
        {
          "output_type": "stream",
          "name": "stderr",
          "text": [
            "\n"
          ]
        },
        {
          "output_type": "stream",
          "name": "stdout",
          "text": [
            "\n",
            "      Epoch    GPU_mem       loss  Instances       Size\n"
          ]
        },
        {
          "output_type": "stream",
          "name": "stderr",
          "text": [
            "      38/50      0.25G    0.08021          4        224: 100%|██████████| 132/132 [01:19<00:00,  1.67it/s]\n",
            "               classes   top1_acc   top5_acc: 100%|██████████| 17/17 [00:17<00:00,  1.03s/it]"
          ]
        },
        {
          "output_type": "stream",
          "name": "stdout",
          "text": [
            "                   all      0.983          1\n"
          ]
        },
        {
          "output_type": "stream",
          "name": "stderr",
          "text": [
            "\n"
          ]
        },
        {
          "output_type": "stream",
          "name": "stdout",
          "text": [
            "\n",
            "      Epoch    GPU_mem       loss  Instances       Size\n"
          ]
        },
        {
          "output_type": "stream",
          "name": "stderr",
          "text": [
            "      39/50      0.25G    0.07549          4        224: 100%|██████████| 132/132 [01:21<00:00,  1.63it/s]\n",
            "               classes   top1_acc   top5_acc: 100%|██████████| 17/17 [00:16<00:00,  1.03it/s]"
          ]
        },
        {
          "output_type": "stream",
          "name": "stdout",
          "text": [
            "                   all      0.977          1\n"
          ]
        },
        {
          "output_type": "stream",
          "name": "stderr",
          "text": [
            "\n"
          ]
        },
        {
          "output_type": "stream",
          "name": "stdout",
          "text": [
            "\n",
            "      Epoch    GPU_mem       loss  Instances       Size\n"
          ]
        },
        {
          "output_type": "stream",
          "name": "stderr",
          "text": [
            "      40/50      0.25G    0.07496          4        224: 100%|██████████| 132/132 [01:20<00:00,  1.63it/s]\n",
            "               classes   top1_acc   top5_acc: 100%|██████████| 17/17 [00:16<00:00,  1.05it/s]"
          ]
        },
        {
          "output_type": "stream",
          "name": "stdout",
          "text": [
            "                   all      0.983          1\n"
          ]
        },
        {
          "output_type": "stream",
          "name": "stderr",
          "text": [
            "\n"
          ]
        },
        {
          "output_type": "stream",
          "name": "stdout",
          "text": [
            "\n",
            "      Epoch    GPU_mem       loss  Instances       Size\n"
          ]
        },
        {
          "output_type": "stream",
          "name": "stderr",
          "text": [
            "      41/50      0.25G    0.07665          4        224: 100%|██████████| 132/132 [01:21<00:00,  1.62it/s]\n",
            "               classes   top1_acc   top5_acc: 100%|██████████| 17/17 [00:16<00:00,  1.03it/s]"
          ]
        },
        {
          "output_type": "stream",
          "name": "stdout",
          "text": [
            "                   all      0.987          1\n"
          ]
        },
        {
          "output_type": "stream",
          "name": "stderr",
          "text": [
            "\n"
          ]
        },
        {
          "output_type": "stream",
          "name": "stdout",
          "text": [
            "\n",
            "      Epoch    GPU_mem       loss  Instances       Size\n"
          ]
        },
        {
          "output_type": "stream",
          "name": "stderr",
          "text": [
            "      42/50      0.25G    0.06505          4        224: 100%|██████████| 132/132 [01:17<00:00,  1.70it/s]\n",
            "               classes   top1_acc   top5_acc: 100%|██████████| 17/17 [00:17<00:00,  1.02s/it]"
          ]
        },
        {
          "output_type": "stream",
          "name": "stdout",
          "text": [
            "                   all      0.979          1\n"
          ]
        },
        {
          "output_type": "stream",
          "name": "stderr",
          "text": [
            "\n"
          ]
        },
        {
          "output_type": "stream",
          "name": "stdout",
          "text": [
            "\n",
            "      Epoch    GPU_mem       loss  Instances       Size\n"
          ]
        },
        {
          "output_type": "stream",
          "name": "stderr",
          "text": [
            "      43/50      0.25G    0.06219          4        224: 100%|██████████| 132/132 [01:14<00:00,  1.77it/s]\n",
            "               classes   top1_acc   top5_acc: 100%|██████████| 17/17 [00:15<00:00,  1.07it/s]"
          ]
        },
        {
          "output_type": "stream",
          "name": "stdout",
          "text": [
            "                   all      0.989          1\n"
          ]
        },
        {
          "output_type": "stream",
          "name": "stderr",
          "text": [
            "\n"
          ]
        },
        {
          "output_type": "stream",
          "name": "stdout",
          "text": [
            "\n",
            "      Epoch    GPU_mem       loss  Instances       Size\n"
          ]
        },
        {
          "output_type": "stream",
          "name": "stderr",
          "text": [
            "      44/50      0.25G    0.09032          4        224: 100%|██████████| 132/132 [01:13<00:00,  1.80it/s]\n",
            "               classes   top1_acc   top5_acc: 100%|██████████| 17/17 [00:16<00:00,  1.01it/s]"
          ]
        },
        {
          "output_type": "stream",
          "name": "stdout",
          "text": [
            "                   all      0.973          1\n"
          ]
        },
        {
          "output_type": "stream",
          "name": "stderr",
          "text": [
            "\n"
          ]
        },
        {
          "output_type": "stream",
          "name": "stdout",
          "text": [
            "\n",
            "      Epoch    GPU_mem       loss  Instances       Size\n"
          ]
        },
        {
          "output_type": "stream",
          "name": "stderr",
          "text": [
            "      45/50      0.25G    0.06213          4        224: 100%|██████████| 132/132 [01:14<00:00,  1.76it/s]\n",
            "               classes   top1_acc   top5_acc: 100%|██████████| 17/17 [00:15<00:00,  1.07it/s]"
          ]
        },
        {
          "output_type": "stream",
          "name": "stdout",
          "text": [
            "                   all      0.985          1\n"
          ]
        },
        {
          "output_type": "stream",
          "name": "stderr",
          "text": [
            "\n"
          ]
        },
        {
          "output_type": "stream",
          "name": "stdout",
          "text": [
            "\n",
            "      Epoch    GPU_mem       loss  Instances       Size\n"
          ]
        },
        {
          "output_type": "stream",
          "name": "stderr",
          "text": [
            "      46/50      0.25G    0.07697          4        224: 100%|██████████| 132/132 [01:14<00:00,  1.76it/s]\n",
            "               classes   top1_acc   top5_acc: 100%|██████████| 17/17 [00:16<00:00,  1.05it/s]"
          ]
        },
        {
          "output_type": "stream",
          "name": "stdout",
          "text": [
            "                   all      0.981          1\n"
          ]
        },
        {
          "output_type": "stream",
          "name": "stderr",
          "text": [
            "\n"
          ]
        },
        {
          "output_type": "stream",
          "name": "stdout",
          "text": [
            "\n",
            "      Epoch    GPU_mem       loss  Instances       Size\n"
          ]
        },
        {
          "output_type": "stream",
          "name": "stderr",
          "text": [
            "      47/50      0.25G    0.05796          4        224: 100%|██████████| 132/132 [01:13<00:00,  1.80it/s]\n",
            "               classes   top1_acc   top5_acc: 100%|██████████| 17/17 [00:16<00:00,  1.02it/s]"
          ]
        },
        {
          "output_type": "stream",
          "name": "stdout",
          "text": [
            "                   all      0.979          1\n"
          ]
        },
        {
          "output_type": "stream",
          "name": "stderr",
          "text": [
            "\n"
          ]
        },
        {
          "output_type": "stream",
          "name": "stdout",
          "text": [
            "\n",
            "      Epoch    GPU_mem       loss  Instances       Size\n"
          ]
        },
        {
          "output_type": "stream",
          "name": "stderr",
          "text": [
            "      48/50      0.25G    0.06472          4        224: 100%|██████████| 132/132 [01:15<00:00,  1.75it/s]\n",
            "               classes   top1_acc   top5_acc: 100%|██████████| 17/17 [00:15<00:00,  1.06it/s]"
          ]
        },
        {
          "output_type": "stream",
          "name": "stdout",
          "text": [
            "                   all      0.985          1\n"
          ]
        },
        {
          "output_type": "stream",
          "name": "stderr",
          "text": [
            "\n"
          ]
        },
        {
          "output_type": "stream",
          "name": "stdout",
          "text": [
            "\n",
            "      Epoch    GPU_mem       loss  Instances       Size\n"
          ]
        },
        {
          "output_type": "stream",
          "name": "stderr",
          "text": [
            "      49/50      0.25G    0.04836          4        224: 100%|██████████| 132/132 [01:14<00:00,  1.76it/s]\n",
            "               classes   top1_acc   top5_acc: 100%|██████████| 17/17 [00:15<00:00,  1.07it/s]"
          ]
        },
        {
          "output_type": "stream",
          "name": "stdout",
          "text": [
            "                   all      0.985          1\n"
          ]
        },
        {
          "output_type": "stream",
          "name": "stderr",
          "text": [
            "\n"
          ]
        },
        {
          "output_type": "stream",
          "name": "stdout",
          "text": [
            "\n",
            "      Epoch    GPU_mem       loss  Instances       Size\n"
          ]
        },
        {
          "output_type": "stream",
          "name": "stderr",
          "text": [
            "      50/50      0.25G    0.06774          4        224: 100%|██████████| 132/132 [01:13<00:00,  1.79it/s]\n",
            "               classes   top1_acc   top5_acc: 100%|██████████| 17/17 [00:17<00:00,  1.01s/it]"
          ]
        },
        {
          "output_type": "stream",
          "name": "stdout",
          "text": [
            "                   all      0.985          1\n"
          ]
        },
        {
          "output_type": "stream",
          "name": "stderr",
          "text": [
            "\n"
          ]
        },
        {
          "output_type": "stream",
          "name": "stdout",
          "text": [
            "\n",
            "50 epochs completed in 1.369 hours.\n",
            "Optimizer stripped from runs/classify/train/weights/last.pt, 3.2MB\n",
            "Optimizer stripped from runs/classify/train/weights/best.pt, 3.2MB\n",
            "\n",
            "Validating runs/classify/train/weights/best.pt...\n",
            "Ultralytics 8.3.85 🚀 Python-3.11.11 torch-2.5.1+cu124 CUDA:0 (Tesla T4, 15095MiB)\n",
            "YOLO11n-cls summary (fused): 47 layers, 1,533,710 parameters, 0 gradients, 3.2 GFLOPs\n",
            "\u001b[34m\u001b[1mtrain:\u001b[0m /content/drive/MyDrive/Rice/RiceLeafsDisease/train... found 2100 images in 6 classes ✅ \n",
            "\u001b[34m\u001b[1mval:\u001b[0m /content/drive/MyDrive/Rice/RiceLeafsDisease/val... found 528 images in 6 classes ✅ \n",
            "\u001b[34m\u001b[1mtest:\u001b[0m None...\n"
          ]
        },
        {
          "output_type": "stream",
          "name": "stderr",
          "text": [
            "               classes   top1_acc   top5_acc: 100%|██████████| 17/17 [00:16<00:00,  1.03it/s]\n"
          ]
        },
        {
          "output_type": "stream",
          "name": "stdout",
          "text": [
            "                   all      0.989          1\n",
            "Speed: 0.1ms preprocess, 0.4ms inference, 0.0ms loss, 0.0ms postprocess per image\n",
            "Results saved to \u001b[1mruns/classify/train\u001b[0m\n"
          ]
        },
        {
          "output_type": "execute_result",
          "data": {
            "text/plain": [
              "ultralytics.utils.metrics.ClassifyMetrics object with attributes:\n",
              "\n",
              "confusion_matrix: <ultralytics.utils.metrics.ConfusionMatrix object at 0x7c93d81b4910>\n",
              "curves: []\n",
              "curves_results: []\n",
              "fitness: 0.9943181872367859\n",
              "keys: ['metrics/accuracy_top1', 'metrics/accuracy_top5']\n",
              "results_dict: {'metrics/accuracy_top1': 0.9886363744735718, 'metrics/accuracy_top5': 1.0, 'fitness': 0.9943181872367859}\n",
              "save_dir: PosixPath('runs/classify/train')\n",
              "speed: {'preprocess': 0.07701927272867606, 'inference': 0.4261665189364011, 'loss': 0.00035235984968852733, 'postprocess': 0.0005301344658343596}\n",
              "task: 'classify'\n",
              "top1: 0.9886363744735718\n",
              "top5: 1.0"
            ]
          },
          "metadata": {},
          "execution_count": 9
        }
      ]
    },
    {
      "cell_type": "code",
      "source": [],
      "metadata": {
        "id": "g1Paes92m9Wd"
      },
      "execution_count": null,
      "outputs": []
    },
    {
      "cell_type": "code",
      "source": [
        "model = YOLO(\"/content/drive/MyDrive/Rice/runs/classify/train/weights/best.pt\")"
      ],
      "metadata": {
        "id": "TWdrmpvCoRfp"
      },
      "execution_count": null,
      "outputs": []
    },
    {
      "cell_type": "code",
      "source": [
        "# Run inference on single images\n",
        "results = model(\"/content/RiceLeafsDisease/validation/narrow_brown_spot/narrow_brown_val (1).jpg\")\n",
        "\n",
        "# Batch prediction on multiple images\n",
        "# results = model([\"/content/drive/MyDrive/Rice/test1.jpg\",\n",
        "#                  \"/content/drive/MyDrive/Rice/test2.jpg\"])\n",
        "\n",
        "# Get prediction probabilities\n",
        "for r in results:\n",
        "    probs = r.probs.data.tolist()\n",
        "    top_class = r.probs.top1\n",
        "    confidence = r.probs.top1conf.item()\n",
        "    print(f\"Predicted class: {top_class}, Confidence: {confidence:.4f}\")"
      ],
      "metadata": {
        "colab": {
          "base_uri": "https://localhost:8080/"
        },
        "id": "1dLVMtYqm9Te",
        "outputId": "2c33a324-956d-4b30-bbdb-27fca95d452c"
      },
      "execution_count": null,
      "outputs": [
        {
          "output_type": "stream",
          "name": "stdout",
          "text": [
            "\n",
            "image 1/1 /content/RiceLeafsDisease/validation/narrow_brown_spot/narrow_brown_val (1).jpg: 224x224 narrow_brown_spot 1.00, brown_spot 0.00, leaf_blast 0.00, leaf_scald 0.00, healthy 0.00, 19.5ms\n",
            "Speed: 23.4ms preprocess, 19.5ms inference, 0.1ms postprocess per image at shape (1, 3, 224, 224)\n",
            "Predicted class: 5, Confidence: 1.0000\n"
          ]
        }
      ]
    },
    {
      "cell_type": "code",
      "source": [
        "class_names = {\n",
        "    0: \"bacterial_leaf_blight\",\n",
        "    1: \"brown_spot\",\n",
        "    2: \"healthy\",\n",
        "    3: \"leaf_blast\",\n",
        "    4: \"leaf_scald\",\n",
        "    5: \"narrow_brown_spot\"\n",
        "}\n",
        "\n",
        "# Then use it with your model prediction\n",
        "results = model(\"/content/RiceLeafsDisease/validation/bacterial_leaf_blight/bacterial_val (1).JPG\")\n",
        "prediction_index = results[0].probs.top1\n",
        "predicted_class = class_names[prediction_index]\n",
        "print(f\"Predicted disease: {predicted_class}\")"
      ],
      "metadata": {
        "colab": {
          "base_uri": "https://localhost:8080/"
        },
        "id": "OmTP7oeCm9Qj",
        "outputId": "a29cc1c3-8458-4201-a337-2daff39b2c12"
      },
      "execution_count": null,
      "outputs": [
        {
          "output_type": "stream",
          "name": "stdout",
          "text": [
            "\n",
            "image 1/1 /content/RiceLeafsDisease/validation/bacterial_leaf_blight/bacterial_val (1).JPG: 224x224 bacterial_leaf_blight 1.00, brown_spot 0.00, narrow_brown_spot 0.00, leaf_blast 0.00, healthy 0.00, 20.8ms\n",
            "Speed: 26.4ms preprocess, 20.8ms inference, 0.1ms postprocess per image at shape (1, 3, 224, 224)\n",
            "Predicted disease: bacterial_leaf_blight\n"
          ]
        }
      ]
    },
    {
      "cell_type": "code",
      "source": [
        "# 2\n",
        "\n",
        "from google.colab import drive\n",
        "drive.mount('/content/drive')\n"
      ],
      "metadata": {
        "colab": {
          "base_uri": "https://localhost:8080/"
        },
        "id": "iO-35p1eOBZg",
        "outputId": "43e1288b-fca8-4503-9f44-794b3e920370"
      },
      "execution_count": null,
      "outputs": [
        {
          "output_type": "stream",
          "name": "stdout",
          "text": [
            "Drive already mounted at /content/drive; to attempt to forcibly remount, call drive.mount(\"/content/drive\", force_remount=True).\n"
          ]
        }
      ]
    },
    {
      "cell_type": "code",
      "source": [
        "!pip install gradio -q"
      ],
      "metadata": {
        "colab": {
          "base_uri": "https://localhost:8080/"
        },
        "id": "GzstVJDWDbuF",
        "outputId": "452f8600-74e0-4d01-ab99-27cd78cfed1b"
      },
      "execution_count": null,
      "outputs": [
        {
          "output_type": "stream",
          "name": "stdout",
          "text": [
            "\u001b[2K   \u001b[90m━━━━━━━━━━━━━━━━━━━━━━━━━━━━━━━━━━━━━━━━\u001b[0m \u001b[32m51.3/51.3 MB\u001b[0m \u001b[31m13.2 MB/s\u001b[0m eta \u001b[36m0:00:00\u001b[0m\n",
            "\u001b[2K   \u001b[90m━━━━━━━━━━━━━━━━━━━━━━━━━━━━━━━━━━━━━━━━\u001b[0m \u001b[32m322.2/322.2 kB\u001b[0m \u001b[31m23.9 MB/s\u001b[0m eta \u001b[36m0:00:00\u001b[0m\n",
            "\u001b[2K   \u001b[90m━━━━━━━━━━━━━━━━━━━━━━━━━━━━━━━━━━━━━━━━\u001b[0m \u001b[32m95.2/95.2 kB\u001b[0m \u001b[31m8.4 MB/s\u001b[0m eta \u001b[36m0:00:00\u001b[0m\n",
            "\u001b[2K   \u001b[90m━━━━━━━━━━━━━━━━━━━━━━━━━━━━━━━━━━━━━━━━\u001b[0m \u001b[32m11.3/11.3 MB\u001b[0m \u001b[31m85.3 MB/s\u001b[0m eta \u001b[36m0:00:00\u001b[0m\n",
            "\u001b[2K   \u001b[90m━━━━━━━━━━━━━━━━━━━━━━━━━━━━━━━━━━━━━━━━\u001b[0m \u001b[32m72.0/72.0 kB\u001b[0m \u001b[31m6.4 MB/s\u001b[0m eta \u001b[36m0:00:00\u001b[0m\n",
            "\u001b[2K   \u001b[90m━━━━━━━━━━━━━━━━━━━━━━━━━━━━━━━━━━━━━━━━\u001b[0m \u001b[32m62.3/62.3 kB\u001b[0m \u001b[31m5.1 MB/s\u001b[0m eta \u001b[36m0:00:00\u001b[0m\n",
            "\u001b[?25h"
          ]
        }
      ]
    },
    {
      "cell_type": "code",
      "source": [
        "from ultralytics import YOLO\n",
        "import gradio as gr\n",
        "import os\n",
        "import numpy as np\n",
        "from PIL import Image\n",
        "\n",
        "# Load the trained model\n",
        "model_path = \"/content/drive/MyDrive/Rice/runs/classify/train/weights/best.pt\"  # Update this path to your best model\n",
        "model = YOLO(model_path)\n",
        "\n",
        "# Define class names\n",
        "class_names = {\n",
        "    0: \"bacterial_leaf_blight\",\n",
        "    1: \"brown_spot\",\n",
        "    2: \"healthy\",\n",
        "    3: \"leaf_blast\",\n",
        "    4: \"leaf_scald\",\n",
        "    5: \"narrow_brown_spot\"\n",
        "}\n",
        "\n",
        "# Description for each disease\n",
        "disease_info = {\n",
        "    \"bacterial_leaf_blight\": \"Bacterial Leaf Blight is caused by Xanthomonas oryzae. Water-soaked lesions along leaf margins that turn yellow and eventually grey as they expand.\",\n",
        "    \"brown_spot\": \"Brown Spot is caused by Cochliobolus miyabeanus. Oval or round brown lesions with grey or whitish centers and a yellow halo.\",\n",
        "    \"healthy\": \"This leaf shows no signs of disease and appears to be healthy.\",\n",
        "    \"leaf_blast\": \"Leaf Blast is caused by Magnaporthe oryzae. Diamond-shaped lesions with a grey center and brown to red-brown borders.\",\n",
        "    \"leaf_scald\": \"Leaf Scald is caused by Microdochium oryzae. Zonate lesions with alternating light and dark brown bands that run across the leaf.\",\n",
        "    \"narrow_brown_spot\": \"Narrow Brown Spot is caused by Cercospora janseana. Narrow, long brown lesions parallel to the leaf veins.\"\n",
        "}\n",
        "\n",
        "# Treatment recommendations\n",
        "treatment_recommendations = {\n",
        "    \"bacterial_leaf_blight\": \"• Use disease-free seeds\\n• Apply copper-based bactericides\\n• Maintain proper field drainage\\n• Rotate crops with non-host plants\",\n",
        "    \"brown_spot\": \"• Use fungicides containing azoxystrobin or propiconazole\\n• Ensure balanced fertilization\\n• Use resistant rice varieties\\n• Proper water management\",\n",
        "    \"healthy\": \"• Continue regular monitoring\\n• Maintain balanced fertilization\\n• Follow proper irrigation practices\",\n",
        "    \"leaf_blast\": \"• Apply fungicides containing tricyclazole or azoxystrobin\\n• Avoid excessive nitrogen fertilization\\n• Use resistant rice varieties\\n• Maintain proper spacing between plants\",\n",
        "    \"leaf_scald\": \"• Apply fungicides containing propiconazole\\n• Ensure adequate drainage\\n• Use resistant varieties\\n• Apply balanced fertilization\",\n",
        "    \"narrow_brown_spot\": \"• Apply fungicides containing propiconazole or azoxystrobin\\n• Maintain proper field sanitation\\n• Use resistant varieties\\n• Balanced fertilization\"\n",
        "}\n",
        "\n",
        "def predict_image(image):\n",
        "    if image is None:\n",
        "        return {class_name: 0 for class_name in class_names.values()}, \"\", \"\", \"\"\n",
        "\n",
        "    # Convert to RGB if the image has an alpha channel\n",
        "    if image.shape[2] == 4:\n",
        "        image_rgb = Image.fromarray(image).convert('RGB')\n",
        "        image = np.array(image_rgb)\n",
        "\n",
        "    # Run inference\n",
        "    results = model(image)[0]\n",
        "\n",
        "    # Get probabilities for all classes\n",
        "    probs = results.probs.data.tolist()\n",
        "\n",
        "    # Create a dictionary of class names and their probabilities\n",
        "    class_probs = {class_names[i]: float(prob) for i, prob in enumerate(probs)}\n",
        "\n",
        "    # Get the top prediction\n",
        "    top_class_idx = results.probs.top1\n",
        "    top_class_name = class_names[top_class_idx]\n",
        "    confidence = results.probs.top1conf.item()\n",
        "\n",
        "    # Get disease info and treatment\n",
        "    info = disease_info[top_class_name]\n",
        "    treatment = treatment_recommendations[top_class_name]\n",
        "\n",
        "    # Create result text\n",
        "    result_text = f\"Prediction: {top_class_name}\\nConfidence: {confidence:.2f}\"\n",
        "\n",
        "    return class_probs, result_text, info, treatment\n",
        "\n",
        "# Create the Gradio interface\n",
        "with gr.Blocks(title=\"Rice Leaf Disease Classifier\") as app:\n",
        "    gr.Markdown(\"# Rice Leaf Disease Classification\")\n",
        "    gr.Markdown(\"Upload an image of a rice leaf to identify potential diseases.\")\n",
        "\n",
        "    with gr.Row():\n",
        "        with gr.Column():\n",
        "            input_image = gr.Image(label=\"Upload Image\", type=\"numpy\")\n",
        "            submit_btn = gr.Button(\"Analyze Leaf\", variant=\"primary\")\n",
        "\n",
        "        with gr.Column():\n",
        "            result_text = gr.Textbox(label=\"Prediction Result\")\n",
        "            label_probs = gr.Label(label=\"Disease Probabilities\")\n",
        "            disease_description = gr.Textbox(label=\"Disease Information\", lines=4)\n",
        "            treatment_info = gr.Textbox(label=\"Treatment Recommendations\", lines=6)\n",
        "\n",
        "    gr.Markdown(\"### Disease Categories\")\n",
        "    gr.Markdown(\"• Bacterial Leaf Blight\\n• Brown Spot\\n• Healthy\\n• Leaf Blast\\n• Leaf Scald\\n• Narrow Brown Spot\")\n",
        "\n",
        "    gr.Markdown(\"### How to Use\")\n",
        "    gr.Markdown(\"1. Upload a clear image of a rice leaf\\n2. Click 'Analyze Leaf'\\n3. View the prediction results, disease information, and treatment recommendations\")\n",
        "\n",
        "    submit_btn.click(\n",
        "        predict_image,\n",
        "        inputs=[input_image],\n",
        "        outputs=[label_probs, result_text, disease_description, treatment_info]\n",
        "    )\n",
        "\n",
        "# Launch the app\n",
        "app.launch(share=True)"
      ],
      "metadata": {
        "colab": {
          "base_uri": "https://localhost:8080/",
          "height": 611
        },
        "id": "WDI6So5wwYSl",
        "outputId": "13d0c8e8-f20f-4318-d1fb-fcefb638b2c2"
      },
      "execution_count": null,
      "outputs": [
        {
          "output_type": "stream",
          "name": "stdout",
          "text": [
            "Colab notebook detected. To show errors in colab notebook, set debug=True in launch()\n",
            "* Running on public URL: https://44322fce30cfdc6b6c.gradio.live\n",
            "\n",
            "This share link expires in 72 hours. For free permanent hosting and GPU upgrades, run `gradio deploy` from the terminal in the working directory to deploy to Hugging Face Spaces (https://huggingface.co/spaces)\n"
          ]
        },
        {
          "output_type": "display_data",
          "data": {
            "text/plain": [
              "<IPython.core.display.HTML object>"
            ],
            "text/html": [
              "<div><iframe src=\"https://44322fce30cfdc6b6c.gradio.live\" width=\"100%\" height=\"500\" allow=\"autoplay; camera; microphone; clipboard-read; clipboard-write;\" frameborder=\"0\" allowfullscreen></iframe></div>"
            ]
          },
          "metadata": {}
        },
        {
          "output_type": "execute_result",
          "data": {
            "text/plain": []
          },
          "metadata": {},
          "execution_count": 6
        }
      ]
    },
    {
      "cell_type": "markdown",
      "source": [
        "**Model Evaluation**"
      ],
      "metadata": {
        "id": "Fbrkx4m5k9X9"
      }
    },
    {
      "cell_type": "code",
      "source": [
        "from ultralytics import YOLO\n",
        "\n",
        "# Load a model"
      ],
      "metadata": {
        "colab": {
          "base_uri": "https://localhost:8080/"
        },
        "id": "tyNYLhmUllau",
        "outputId": "9d09c2df-3a0e-4e18-80ff-91b3a93b883e"
      },
      "execution_count": null,
      "outputs": [
        {
          "output_type": "stream",
          "name": "stdout",
          "text": [
            "Creating new Ultralytics Settings v0.0.6 file ✅ \n",
            "View Ultralytics Settings with 'yolo settings' or at '/root/.config/Ultralytics/settings.json'\n",
            "Update Settings with 'yolo settings key=value', i.e. 'yolo settings runs_dir=path/to/dir'. For help see https://docs.ultralytics.com/quickstart/#ultralytics-settings.\n"
          ]
        }
      ]
    },
    {
      "cell_type": "code",
      "source": [
        "\n",
        "import matplotlib.pyplot as plt\n",
        "\n",
        "# Plot Accuracy\n",
        "plt.figure(figsize=(10, 5))\n",
        "plt.plot(df['epoch'], df['metrics/mAP50(B)'], label='mAP50(B)')\n",
        "plt.plot(df['epoch'], df['metrics/mAP50-95(B)'], label='mAP50-95(B)')\n",
        "plt.xlabel('Epoch')\n",
        "plt.ylabel('Accuracy')\n",
        "plt.title('Accuracy Over Epochs')\n",
        "plt.legend()\n",
        "plt.show()\n",
        "\n",
        "\n",
        "# Plot Loss\n",
        "plt.figure(figsize=(10, 5))\n",
        "plt.plot(df['epoch'], df['train/box_loss'], label='Train Box Loss')\n",
        "plt.plot(df['epoch'], df['train/cls_loss'], label='Train Cls Loss')\n",
        "plt.plot(df['epoch'], df['train/dfl_loss'], label='Train Dfl Loss')\n",
        "plt.plot(df['epoch'], df['val/box_loss'], label='Val Box Loss')\n",
        "plt.plot(df['epoch'], df['val/cls_loss'], label='Val Cls Loss')\n",
        "plt.plot(df['epoch'], df['val/dfl_loss'], label='Val Dfl Loss')\n",
        "plt.xlabel('Epoch')\n",
        "plt.ylabel('Loss')\n",
        "plt.title('Loss Over Epochs')\n",
        "plt.legend()\n",
        "plt.show()\n"
      ],
      "metadata": {
        "colab": {
          "base_uri": "https://localhost:8080/",
          "height": 957
        },
        "id": "GCPaH1ycF12E",
        "outputId": "4a05e29b-9a9a-4526-abdf-f7f2a7ab97d1"
      },
      "execution_count": null,
      "outputs": [
        {
          "output_type": "display_data",
          "data": {
            "text/plain": [
              "<Figure size 1000x500 with 1 Axes>"
            ],
            "image/png": "[encoded data removed]"
          },
          "metadata": {}
        },
        {
          "output_type": "display_data",
          "data": {
            "text/plain": [
              "<Figure size 1000x500 with 1 Axes>"
            ],
            "image/png": "[encoded data removed]"
          },
          "metadata": {}
        }
      ]
    },
    {
      "cell_type": "code",
      "source": [
        "\n",
        "# Import necessary libraries\n",
        "import matplotlib.pyplot as plt\n",
        "\n",
        "# Create a figure with two subplots\n",
        "fig, (ax1, ax2) = plt.subplots(1, 2, figsize=(12, 5))\n",
        "\n",
        "# Plot accuracy on the first subplot\n",
        "ax1.plot(df['                  epoch'], df['  metrics/accuracy_top1'], label='Accuracy')\n",
        "ax1.set_xlabel('Epoch')\n",
        "ax1.set_ylabel('Accuracy')\n",
        "ax1.set_title('Accuracy Over Epochs')\n",
        "ax1.legend()\n",
        "\n",
        "# Plot loss on the second subplot\n",
        "ax2.plot(df['                  epoch'], df['             train/loss'], label='Train Loss')\n",
        "ax2.plot(df['                  epoch'], df['               val/loss'], label='Validation Loss')\n",
        "ax2.set_xlabel('Epoch')\n",
        "ax2.set_ylabel('Loss')\n",
        "ax2.set_title('Loss Over Epochs')\n",
        "ax2.legend()\n",
        "\n",
        "# Adjust spacing between subplots and display the plot\n",
        "plt.tight_layout()\n",
        "plt.show()\n"
      ],
      "metadata": {
        "colab": {
          "base_uri": "https://localhost:8080/",
          "height": 486
        },
        "id": "St2GKChwERen",
        "outputId": "4bd5068a-a3d6-4bef-d5c6-6d08e55a5361"
      },
      "execution_count": null,
      "outputs": [
        {
          "output_type": "display_data",
          "data": {
            "text/plain": [
              "<Figure size 640x480 with 2 Axes>"
            ],
            "image/png": "[encoded data removed]"
          },
          "metadata": {}
        }
      ]
    }
  ]
}